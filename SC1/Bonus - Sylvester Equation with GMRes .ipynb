{
 "cells": [
  {
   "cell_type": "markdown",
   "metadata": {},
   "source": [
    "<center>\n",
    "    <h1> ILI285 - Computación Científica I  / INF285 - Computación Científica </h1>\n",
    "    <h2> Sylvester Equation with GMRes </h2>\n",
    "    <h2> <a href=\"#acknowledgements\"> [S]cientific [C]omputing [T]eam </a> </h2>\n",
    "    <h2> Version: 1.00</h2>\n",
    "</center>"
   ]
  },
  {
   "cell_type": "markdown",
   "metadata": {},
   "source": [
    "## Table of Contents\n",
    "* [Introduction](#intro)\n",
    "* [Short reminder about Least Squares](#LS)\n",
    "* [GMRes](#GMR)\n",
    "* [Theoretical Problems](#TP)\n",
    "* [Practical Problems](#PP)\n",
    "* [Acknowledgements](#acknowledgements)"
   ]
  },
  {
   "cell_type": "code",
   "execution_count": 1,
   "metadata": {},
   "outputs": [],
   "source": [
    "import numpy as np\n",
    "import scipy as sp\n",
    "from scipy import linalg as la\n",
    "import scipy.sparse.linalg as spla\n",
    "import matplotlib.pyplot as plt\n",
    "%matplotlib inline\n",
    "import matplotlib as mpl\n",
    "mpl.rcParams['font.size'] = 14\n",
    "mpl.rcParams['axes.labelsize'] = 20\n",
    "mpl.rcParams['xtick.labelsize'] = 14\n",
    "mpl.rcParams['ytick.labelsize'] = 14"
   ]
  },
  {
   "cell_type": "markdown",
   "metadata": {},
   "source": [
    "<div id='intro' />\n",
    "\n",
    "## Sylvester Equation\n",
    "\n",
    "https://en.wikipedia.org/wiki/Sylvester_equation\n",
    "\n",
    "$$A\\,X+X\\,B=C$$\n",
    "where $A\\in\\mathbb{R}^{n\\times n}$, $B\\in\\mathbb{R}^{n\\times n}$, $C\\in\\mathbb{R}^{n\\times n}$ and $X\\in\\mathbb{R}^{n\\times n}$.\n",
    "$A$, $B$ and $C$ are given, the problem is to find $X$."
   ]
  },
  {
   "cell_type": "markdown",
   "metadata": {},
   "source": [
    "<div id='GMR' />\n",
    "\n",
    "## GMRes\n",
    "\n",
    "GMRes is a member of the family of Krylov methods. It finds an approximation of $\\mathbf{x}$ restricted to _live_ on the Krylov sub-space $\\mathcal{K_k}$,  where $\\mathcal{K_k}=\\{\\mathbf{r}_0, A\\,\\mathbf{r}_0, A^2\\,\\mathbf{r}_0, \\cdots, A^{k-1}\\,\\mathbf{r}_0\\}$ and $\\mathbf{r}_0 = \\mathbf{b} - A\\,\\mathbf{x}_0$ is the residual vector of the initial guess.\n",
    "\n",
    "The idea behind this method is to look for improvements to the initial guess $\\mathbf{x}_0$ in the Krylov space. At the $k$-th iteration, we enlarge the Krylov space by adding $A^k\\,\\mathbf{r}_0$, reorthogonalize the basis, and then use least squares to find the best improvement to add to $\\mathbf{x}_0$.\n",
    "\n",
    "The algorithm is as follows:"
   ]
  },
  {
   "cell_type": "markdown",
   "metadata": {},
   "source": [
    "`Generalized Minimum Residual Method`\n",
    "\n",
    "$\\mathbf{x}_0$ `= initial guess`<br>\n",
    "$\\mathbf{r}$ `=` $\\mathbf{b} - A\\,\\mathbf{x}_0$ `=` $\\mathbf{b} - $<span style=\"color:blue\">afun</span>$(\\mathbf{x}_0)$<br>\n",
    "$\\mathbf{q}_1$ `=` $\\mathbf{r} / \\|\\mathbf{r}\\|_2$<br>\n",
    "`for` $k = 1, ..., m$<br>\n",
    "$\\qquad \\ \\ \\mathbf{y} = A\\,\\mathbf{q}_k$ = <span style=\"color:blue\">afun</span>$(\\mathbf{q}_k)$ <br>\n",
    "$\\qquad$ `for` $j = 1,2,...,k$ <br>\n",
    "$\\qquad \\qquad$ $h_{jk} = \\mathbf{q}_j^*\\,\\mathbf{y}$<br>\n",
    "$\\qquad \\qquad$ $\\mathbf{y} = \\mathbf{y} - h_{jk}\\, \\mathbf{q}_j$<br>\n",
    "$\\qquad$ `end`<br>\n",
    "$\\qquad \\ h_{k+1,k} = \\|y\\|_2 \\qquad$ `(If ` $h_{k+1,k} = 0$ `, skip next line and terminate at bottom.)` <br>\n",
    "$\\qquad \\ \\mathbf{q}_{k+1} = \\mathbf{y}/h_{k+1,k}$ <br>\n",
    "$\\qquad$ `Minimize` $\\left\\|\\widehat{H}_k\\, \\mathbf{c}_k - [\\|\\mathbf{r}\\|_2 \\ 0 \\ 0 \\ ... \\ 0]^T \\right\\|_2$ `for` $\\mathbf{c}_k$ <br>\n",
    "$\\qquad$ $\\mathbf{x}_k = Q_k \\, \\mathbf{c}_k + \\mathbf{x}_0$ <br>\n",
    "`end`"
   ]
  },
  {
   "cell_type": "markdown",
   "metadata": {},
   "source": [
    "## Generating an instance of the Sylvester Equation"
   ]
  },
  {
   "cell_type": "code",
   "execution_count": 3,
   "metadata": {},
   "outputs": [],
   "source": [
    "n = 10\n",
    "np.random.seed(0)\n",
    "A = np.random.rand(n,n)+2*np.eye(n)\n",
    "#print(np.linalg.eigvals(A))\n",
    "B = np.random.rand(n,n)\n",
    "#print(np.linalg.eigvals(B))\n",
    "C = np.random.rand(n,n)"
   ]
  },
  {
   "cell_type": "markdown",
   "metadata": {},
   "source": [
    "### Using a Jacobi/Gauss-Seidel iterative solver"
   ]
  },
  {
   "cell_type": "code",
   "execution_count": 4,
   "metadata": {},
   "outputs": [],
   "source": [
    "def solve_JGS_iterative_Sylvester(A,B,C,m,alg=1):\n",
    "    if alg==1:\n",
    "        # Algorithm 1\n",
    "        # AX+XB=C\n",
    "        # X=A^{-1}(C-XB)\n",
    "        # X^{(i+1)}=A^{-1}(C-X^{(i)} B)\n",
    "        X0 = np.zeros_like(A)\n",
    "        X1 = np.zeros_like(A)\n",
    "        for i in range(m):\n",
    "            X1=np.linalg.solve(A,C-np.dot(X0,B))\n",
    "            X0=X1\n",
    "            print(np.linalg.norm(np.dot(A,X1)+np.dot(X1,B)-C))\n",
    "        return X1\n",
    "#    elif algo==2: # TO DO 1!!!!!!!!!!!!!\n",
    "        # Algorithm 2\n",
    "        # AX+XB=C\n",
    "        # X = (C-AX)B^{-1}\n",
    "        # X^{(i+1)}=(C-A X^{(i)})B^{-1}\n",
    "        # How do we implement this? Hint: You only need to use np.linalg.solve in a convenient way."
   ]
  },
  {
   "cell_type": "code",
   "execution_count": 5,
   "metadata": {},
   "outputs": [
    {
     "name": "stdout",
     "output_type": "stream",
     "text": [
      "8.06674588003015\n",
      "34.574062476753454\n",
      "168.7035372976298\n",
      "819.8919726957432\n",
      "3949.6601997495272\n",
      "18860.43712486795\n",
      "89325.87084866337\n",
      "419868.5695000339\n",
      "1959858.326207409\n",
      "9089702.028396802\n"
     ]
    }
   ],
   "source": [
    "X_JGS=solve_JGS_iterative_Sylvester(A,B,C,10)"
   ]
  },
  {
   "cell_type": "code",
   "execution_count": 6,
   "metadata": {},
   "outputs": [
    {
     "name": "stdout",
     "output_type": "stream",
     "text": [
      "[[  75200.97487677   65634.05984605   65998.54659038   80340.85290919\n",
      "    90925.59282883   84199.35838266   59829.01081381   85410.37801577\n",
      "    82946.88506162   63244.18574112]\n",
      " [ 128633.7885535   112268.76431551  112892.59243868  137425.55044263\n",
      "   155531.33214488  144025.84608515  102339.21298884  146096.83219882\n",
      "   141882.95005125  108180.63127189]\n",
      " [  49787.61259846   43453.60578573   43694.85805072   53190.61746407\n",
      "    60198.27573483   55745.23310695   39610.27894313   56546.48369473\n",
      "    54915.85788812   41871.20787801]\n",
      " [ 123623.82492401  107896.42890395  108495.88720754  132073.26368602\n",
      "   149473.98087708  138416.59632654   98353.63778848  140407.11863359\n",
      "   136357.19314882  103967.61172201]\n",
      " [  11527.56089777   10060.80519377   10116.78678399   12315.04595271\n",
      "    13937.96546518   12906.76654795    9171.23034486   13092.3297926\n",
      "    12714.6142232     9694.54903326]\n",
      " [ -42186.05121531  -36818.77362958  -37023.3952593   -45069.08936689\n",
      "   -51006.99200954  -47234.04135621  -33562.41944714  -47912.97076801\n",
      "   -46531.05013202  -35478.40970567]\n",
      " [ -51134.31823288  -44629.16532737  -44876.92608703  -54629.12601542\n",
      "   -61826.44960249  -57252.80162231  -40681.87922178  -58076.22045298\n",
      "   -56401.25653722  -43003.79895671]\n",
      " [-256137.49178678 -223551.79130915 -224793.75005795 -273644.22614473\n",
      "  -309696.95974175 -286786.65789609 -203779.81059504 -290910.82003933\n",
      "  -282520.08809714 -215411.34066104]\n",
      " [  95555.57982831   83399.41136053   83862.36374727  102086.83585735\n",
      "   115536.49796998  106989.65750744   76023.19589549  108528.33747166\n",
      "   105397.88681243   80362.21878711]\n",
      " [-276967.65357116 -241732.13592092 -243074.59884326 -295898.35813006\n",
      "  -334882.52181749 -310109.4184478  -220352.23771618 -314568.73984742\n",
      "  -305495.24192328 -232929.22230593]]\n"
     ]
    }
   ],
   "source": [
    "print(X_JGS)"
   ]
  },
  {
   "cell_type": "markdown",
   "metadata": {},
   "source": [
    "### Using GMRes of SciPy"
   ]
  },
  {
   "cell_type": "code",
   "execution_count": 7,
   "metadata": {},
   "outputs": [
    {
     "name": "stdout",
     "output_type": "stream",
     "text": [
      "[[ 0.00933016  0.08684042 -0.01125225 -0.13670696 -0.14126436 -0.08920281\n",
      "   0.06787225  0.07854398  0.14141093  0.24525254]\n",
      " [ 0.26933517 -0.12182861  0.07301594 -0.13434814  0.12407477  0.15335455\n",
      "   0.00363918 -0.06085898  0.04648421 -0.03495096]\n",
      " [ 0.1255255   0.03479638 -0.0896578   0.130781    0.06218381  0.21909669\n",
      "  -0.01948567 -0.18669482  0.20815108 -0.02104573]\n",
      " [ 0.02574737 -0.07080452  0.04197927 -0.28438946  0.04063     0.08167592\n",
      "   0.09786173  0.06858471  0.01453835  0.11473811]\n",
      " [ 0.18789107 -0.06656593  0.02870919 -0.22879644  0.18107615  0.0382124\n",
      "   0.19738009 -0.00718783 -0.09009293  0.03936773]\n",
      " [-0.16259341  0.26735377  0.16881013  0.22591956  0.10410711 -0.22623425\n",
      "   0.14304677  0.1028314   0.02887488 -0.11768034]\n",
      " [-0.03125821 -0.13399008  0.01144478  0.21488824  0.18362581  0.16883234\n",
      "  -0.08415118  0.09236312 -0.08581249  0.08713543]\n",
      " [ 0.07626468  0.20380177  0.03588479  0.4734714  -0.18812106  0.10684246\n",
      "   0.01704592  0.15817514 -0.08554415  0.1091209 ]\n",
      " [-0.03544183  0.29122479 -0.02338713 -0.05327519 -0.10805288 -0.05799003\n",
      "   0.35125068  0.02656242 -0.05415151  0.03841318]\n",
      " [-0.02817076 -0.06597589  0.24892449  0.1433361  -0.06115953 -0.09097922\n",
      "  -0.27966351  0.19858836  0.33341426  0.28501064]]\n"
     ]
    }
   ],
   "source": [
    "def compute_matrix_vector_product(x,A,B,n):\n",
    "    X = np.reshape(x,(n,n))\n",
    "    out = np.dot(A,X)+np.dot(X,B)\n",
    "    return out.flatten()\n",
    "Ax = lambda x: compute_matrix_vector_product(x,A,B,n)\n",
    "afun = spla.LinearOperator((n**2, n**2), matvec=Ax)\n",
    "x, exitCode = spla.gmres(afun, C.flatten(), tol=1e-10)\n",
    "X_GMRes = np.reshape(x,(n,n))\n",
    "print(X_GMRes)"
   ]
  },
  {
   "cell_type": "code",
   "execution_count": 8,
   "metadata": {},
   "outputs": [
    {
     "name": "stdout",
     "output_type": "stream",
     "text": [
      "1416184.1547198202\n"
     ]
    }
   ],
   "source": [
    "print(np.linalg.norm(X_JGS-X_GMRes))"
   ]
  },
  {
   "cell_type": "markdown",
   "metadata": {},
   "source": [
    "## Computing the relative residues"
   ]
  },
  {
   "cell_type": "code",
   "execution_count": 9,
   "metadata": {},
   "outputs": [
    {
     "name": "stdout",
     "output_type": "stream",
     "text": [
      "1534827.0668660458\n",
      "9.010731898377531e-11\n"
     ]
    }
   ],
   "source": [
    "Ax_JGS = Ax(X_JGS.flatten())\n",
    "Ax_GMRes = Ax(X_GMRes.flatten())\n",
    "c =  C.flatten()\n",
    "print(np.linalg.norm(Ax_JGS-c)/np.linalg.norm(c))\n",
    "print(np.linalg.norm(Ax_GMRes-c)/np.linalg.norm(c))"
   ]
  },
  {
   "cell_type": "markdown",
   "metadata": {},
   "source": [
    "## To Do 2: What do we need to change in our implementation of GMRes to be able to use the lambda function \"Ax\"?"
   ]
  },
  {
   "cell_type": "code",
   "execution_count": 10,
   "metadata": {},
   "outputs": [],
   "source": [
    "# This is a very instructive implementation of GMRes.\n",
    "def GMRes_Ax(A, b, x0=np.array([0.0]), m=10, flag_display=True, threshold=1e-12):\n",
    "    n = len(b)\n",
    "    if len(x0)==1:\n",
    "        x0=np.zeros(n)\n",
    "    r0 = b - np.dot(A, x0)\n",
    "    nr0=np.linalg.norm(r0)\n",
    "    out_res=np.array(nr0)\n",
    "    Q = np.zeros((n,n))\n",
    "    H = np.zeros((n,n))\n",
    "    Q[:,0] = r0 / nr0\n",
    "    flag_break=False\n",
    "    for k in np.arange(np.min((m,n))):\n",
    "        y = np.dot(A, Q[:,k])\n",
    "        if flag_display:\n",
    "            print('||y||=',np.linalg.norm(y))\n",
    "        for j in np.arange(k+1):\n",
    "            H[j][k] = np.dot(Q[:,j], y)\n",
    "            if flag_display:\n",
    "                print('H[',j,'][',k,']=',H[j][k])\n",
    "            y = y - np.dot(H[j][k],Q[:,j])\n",
    "            if flag_display:\n",
    "                print('||y||=',np.linalg.norm(y))\n",
    "        # All but the last equation are treated equally. Why?\n",
    "        if k+1<n:\n",
    "            H[k+1][k] = np.linalg.norm(y)\n",
    "            if flag_display:\n",
    "                print('H[',k+1,'][',k,']=',H[k+1][k])\n",
    "            if (np.abs(H[k+1][k]) > 1e-16):\n",
    "                Q[:,k+1] = y/H[k+1][k]\n",
    "            else:\n",
    "                print('flag_break has been activated')\n",
    "                flag_break=True\n",
    "            # Do you remember e_1? The canonical vector.\n",
    "            e1 = np.zeros((k+1)+1)        \n",
    "            e1[0]=1\n",
    "            H_tilde=H[0:(k+1)+1,0:k+1]\n",
    "        else:\n",
    "            H_tilde=H[0:k+1,0:k+1]\n",
    "        # Solving the 'SMALL' least square problem. \n",
    "        # This could be improved with Givens rotations!\n",
    "        ck = np.linalg.lstsq(H_tilde, nr0*e1)[0] \n",
    "        if k+1<n:\n",
    "            x = x0 + np.dot(Q[:,0:(k+1)], ck)\n",
    "        else:\n",
    "            x = x0 + np.dot(Q, ck)\n",
    "        # Why is 'norm_small' equal to 'norm_full'?\n",
    "        norm_small=np.linalg.norm(np.dot(H_tilde,ck)-nr0*e1)\n",
    "        out_res = np.append(out_res,norm_small)\n",
    "        if flag_display:\n",
    "            norm_full=np.linalg.norm(b-np.dot(A,x))\n",
    "            print('..........||b-A\\,x_k||=',norm_full)\n",
    "            print('..........||H_k\\,c_k-nr0*e1||',norm_small);\n",
    "        if flag_break:\n",
    "            if flag_display: \n",
    "                print('EXIT: flag_break=True')\n",
    "            break\n",
    "        if norm_small<threshold:\n",
    "            if flag_display:\n",
    "                print('EXIT: norm_small<threshold')\n",
    "            break\n",
    "    return x,out_res"
   ]
  },
  {
   "cell_type": "markdown",
   "metadata": {},
   "source": [
    "<div id='acknowledgements' />\n",
    "\n",
    "# Acknowledgements\n",
    "* _Material created by professor Claudio Torres_ (`ctorres@inf.utfsm.cl`). _July 2020._"
   ]
  },
  {
   "cell_type": "code",
   "execution_count": null,
   "metadata": {},
   "outputs": [],
   "source": []
  }
 ],
 "metadata": {
  "anaconda-cloud": {},
  "kernelspec": {
   "display_name": "Python 3",
   "language": "python",
   "name": "python3"
  },
  "language_info": {
   "codemirror_mode": {
    "name": "ipython",
    "version": 3
   },
   "file_extension": ".py",
   "mimetype": "text/x-python",
   "name": "python",
   "nbconvert_exporter": "python",
   "pygments_lexer": "ipython3",
   "version": "3.7.4"
  }
 },
 "nbformat": 4,
 "nbformat_minor": 4
}
