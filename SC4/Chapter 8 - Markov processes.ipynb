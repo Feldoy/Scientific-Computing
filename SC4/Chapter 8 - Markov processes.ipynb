{
 "cells": [
  {
   "cell_type": "markdown",
   "metadata": {},
   "source": [
    "# INF-495, v0.01, Claudio Torres, ctorres@inf.utfsm.cl. DI-UTFSM\n",
    "## Textbook: Computational Mathematical Modeling, An Integrated Approach Across Scales by Daniela Calvetti and Erkki Somersalo."
   ]
  },
  {
   "cell_type": "markdown",
   "metadata": {},
   "source": [
    "# Chapter 8"
   ]
  },
  {
   "cell_type": "markdown",
   "metadata": {},
   "source": [
    "## 8.1 Markov process and random walk"
   ]
  },
  {
   "cell_type": "code",
   "execution_count": 30,
   "metadata": {},
   "outputs": [],
   "source": [
    "import numpy as np\n",
    "import scipy.sparse.linalg as sp\n",
    "import sympy as sym\n",
    "from scipy.linalg import toeplitz\n",
    "\n",
    "import ipywidgets as widgets\n",
    "from ipywidgets import IntSlider\n",
    "\n",
    "import matplotlib.pyplot as plt\n",
    "%matplotlib inline\n",
    "from matplotlib import cm\n",
    "from matplotlib.ticker import LinearLocator, FormatStrFormatter\n",
    "\n",
    "plt.style.use('ggplot')\n",
    "\n",
    "import matplotlib as mpl\n",
    "mpl.rcParams['font.size'] = 14\n",
    "mpl.rcParams['axes.labelsize'] = 20\n",
    "mpl.rcParams['xtick.labelsize'] = 14\n",
    "mpl.rcParams['ytick.labelsize'] = 14\n",
    "sym.init_printing()\n",
    "\n",
    "from scipy.integrate import odeint\n",
    "from ipywidgets import interact\n",
    "\n",
    "def plot_matrices_with_values2(ax,M,flag_values=False):\n",
    "    N=M.shape[0]\n",
    "    cmap = plt.get_cmap('GnBu')\n",
    "    ax.matshow(M, cmap=cmap)\n",
    "    if flag_values:\n",
    "        for i in np.arange(0, N):\n",
    "            for j in np.arange(0, N):\n",
    "                # I had to change the order of indices to make it right\n",
    "                ax.text(i, j, '{:.2f}'.format(M[j,i]), va='center', ha='center', color='r')"
   ]
  },
  {
   "cell_type": "code",
   "execution_count": 31,
   "metadata": {},
   "outputs": [
    {
     "name": "stdout",
     "output_type": "stream",
     "text": [
      "[[ 0  8 16 24 32 40 48 56]\n",
      " [ 1  9 17 25 33 41 49 57]\n",
      " [ 2 10 18 26 34 42 50 58]\n",
      " [ 3 11 19 27 35 43 51 59]\n",
      " [ 4 12 20 28 36 44 52 60]\n",
      " [ 5 13 21 29 37 45 53 61]\n",
      " [ 6 14 22 30 38 46 54 62]\n",
      " [ 7 15 23 31 39 47 55 63]]\n",
      "[[1 2]\n",
      " [4 4]\n",
      " [5 1]\n",
      " [5 2]]\n",
      "17\n",
      "36\n",
      "13\n",
      "21\n"
     ]
    }
   ],
   "source": [
    "ids = np.arange(64) # Making it Python compatible\n",
    "I = np.reshape(ids,(8,8),order='F')\n",
    "print(I)\n",
    "# Defining occupied squares ([row,columns])\n",
    "occupied = np.array([[2, 3], [5, 5], [6, 2], [6, 3]])-1 # Subtracting one to make it Python compatible!\n",
    "print(occupied)\n",
    "for oc in occupied:\n",
    "    print(I[oc[0],oc[1]])"
   ]
  },
  {
   "cell_type": "code",
   "execution_count": 32,
   "metadata": {},
   "outputs": [
    {
     "name": "stdout",
     "output_type": "stream",
     "text": [
      "[[-2. -1.]\n",
      " [-2.  1.]\n",
      " [-1. -2.]\n",
      " [-1.  2.]\n",
      " [ 1. -2.]\n",
      " [ 1.  2.]\n",
      " [ 2. -1.]\n",
      " [ 2.  1.]]\n"
     ]
    }
   ],
   "source": [
    "# Defining the peice\n",
    "piece = 'Knight' # 'King' or 'Knight'\n",
    "if piece == 'King':\n",
    "    # Squares relative to the current one reached by the King\n",
    "    Mask = np.zeros((8,2))\n",
    "    k=0\n",
    "    piece_range=[-1,0,1]\n",
    "    for i in piece_range:\n",
    "        for j in piece_range:\n",
    "            if not ((i==0) and (j==0)):\n",
    "                Mask[k,0]=i\n",
    "                Mask[k,1]=j\n",
    "                k=k+1\n",
    "    print(Mask)\n",
    "elif piece == 'Knight':\n",
    "    # Squares relative to the current one reached by the Knight\n",
    "    Mask = np.zeros((8,2))\n",
    "    k=0\n",
    "    piece_range=[-2,-1,0,1,2]\n",
    "    for i in [-2,-1,0,1,2]:\n",
    "        for j in [-2,-1,0,1,2]:\n",
    "            if np.linalg.norm([i,j],ord=1)==3:\n",
    "                Mask[k,0]=i\n",
    "                Mask[k,1]=j\n",
    "                k=k+1\n",
    "    print(Mask)\n",
    "else:\n",
    "    print('Wrong piece!')"
   ]
  },
  {
   "cell_type": "code",
   "execution_count": 33,
   "metadata": {
    "scrolled": false
   },
   "outputs": [],
   "source": [
    "M = np.zeros((64,64))\n",
    "# Scan through all starting squares\n",
    "# find all possible destinations\n",
    "for n in np.arange(8):\n",
    "    for m in np.arange(8):\n",
    "        k=I[n,m] # Index to current square\n",
    "        # Find possible destination square using the mask\n",
    "        P = np.array([n, m])+Mask\n",
    "        # Discard occupied squares\n",
    "        P_tmp=[]\n",
    "        for p in P:\n",
    "            flag=0\n",
    "            for oc_sq in occupied:\n",
    "                if abs(oc_sq[0]-p[0])+abs(oc_sq[1]-p[1])<1e-10:\n",
    "                    flag=1\n",
    "            if flag==0:\n",
    "                P_tmp.append(p)\n",
    "        P=np.array(P_tmp,dtype=int)\n",
    "        # Discarding squares outside the board\n",
    "        P_tmp=[]\n",
    "        for p in P:\n",
    "            if p[0]>=0 and p[0]<=7 and p[1]>=0 and p[1]<=7:\n",
    "                P_tmp.append(p)\n",
    "        P=np.array(P_tmp,dtype=int)\n",
    "        nP = P.shape[0] # number of possible destinations\n",
    "        # Fill in the probabilities\n",
    "        for p in P:\n",
    "            Ip = I[p[0],p[1]] # Destination index\n",
    "            M[Ip,k] = 1/nP # Moving probability"
   ]
  },
  {
   "cell_type": "code",
   "execution_count": 34,
   "metadata": {},
   "outputs": [
    {
     "data": {
      "image/png": "[encoded data removed]",
      "text/plain": [
       "<Figure size 720x720 with 1 Axes>"
      ]
     },
     "metadata": {},
     "output_type": "display_data"
    }
   ],
   "source": [
    "fig,  (ax1)   = plt.subplots(1, 1, figsize=(10,10))\n",
    "plot_matrices_with_values2(ax1,M,False)"
   ]
  },
  {
   "cell_type": "markdown",
   "metadata": {},
   "source": [
    "## First algorithm: Random walk. Now I added the plot of the resulting probabilities, it is interesting to observe the evolution from the beginning. Compare with the other two outcomes."
   ]
  },
  {
   "cell_type": "code",
   "execution_count": 35,
   "metadata": {},
   "outputs": [
    {
     "data": {
      "application/vnd.jupyter.widget-view+json": {
       "model_id": "dccab5b9e58e49969626b9e87f1cd2e5",
       "version_major": 2,
       "version_minor": 0
      },
      "text/plain": [
       "interactive(children=(IntSlider(value=1, description='nsteps', max=500000), Output()), _dom_classes=('widget-i…"
      ]
     },
     "metadata": {},
     "output_type": "display_data"
    },
    {
     "data": {
      "text/plain": [
       "<function __main__.plot_random_walk_output(nsteps=1)>"
      ]
     },
     "execution_count": 35,
     "metadata": {},
     "output_type": "execute_result"
    }
   ],
   "source": [
    "def plot_random_walk_output(nsteps=1):\n",
    "    np.random.seed(0)\n",
    "    # nsteps = 100000\n",
    "    prev   = I[1,2]\n",
    "    ncounts = np.zeros(64)\n",
    "    squares_ids = [prev]\n",
    "    for n in np.arange(nsteps):\n",
    "        # Random draw using the column M[:,prev]\n",
    "        next_step = np.random.choice(np.arange(64),p=M[:,prev])\n",
    "        ncounts[next_step] = ncounts[next_step] + 1\n",
    "        prev = next_step\n",
    "        squares_ids.append(next_step)\n",
    "    fig,  (ax1)   = plt.subplots(1, 1, figsize=(10,10))\n",
    "    plot_matrices_with_values2(ax1,np.log10(np.reshape(ncounts/np.sum(ncounts),(8,8),order='F')),True)\n",
    "    # print(ncounts)\n",
    "    # print(squares_ids)\n",
    "    # print(I)\n",
    "interact(plot_random_walk_output,nsteps=(0,500000,1))"
   ]
  },
  {
   "cell_type": "markdown",
   "metadata": {},
   "source": [
    "## Second algorithm: Power iteration. Warning: For the case of the Knight, this algorithm shows an interesting behavior and that seems to be related there are two eigenvalues with the magnitud equal to 1, one of the is actually equal to 1 but the other is equally to -1. This does not happen for the case of the King."
   ]
  },
  {
   "cell_type": "code",
   "execution_count": 37,
   "metadata": {
    "scrolled": false
   },
   "outputs": [
    {
     "data": {
      "application/vnd.jupyter.widget-view+json": {
       "model_id": "bccc1f468c47473e82c2f5d4fb923f41",
       "version_major": 2,
       "version_minor": 0
      },
      "text/plain": [
       "interactive(children=(IntSlider(value=0, description='nj', max=2000), Output()), _dom_classes=('widget-interac…"
      ]
     },
     "metadata": {},
     "output_type": "display_data"
    },
    {
     "data": {
      "text/plain": [
       "<function __main__.<lambda>(nj=0)>"
      ]
     },
     "execution_count": 37,
     "metadata": {},
     "output_type": "execute_result"
    }
   ],
   "source": [
    "def plot_P_n(nj, I, M):\n",
    "    # Defining initial distribution\n",
    "    (i0,j0)=(0,1)\n",
    "    pcurr = np.zeros(64)\n",
    "    pcurr[I[i0,j0]] = 1\n",
    "    for j in np.arange(nj):\n",
    "        pcurr = np.dot(M,pcurr)\n",
    "    pcurrM = np.reshape(pcurr,(8,8),order='F')\n",
    "    fig,  (ax1)   = plt.subplots(1, 1, figsize=(10,10))\n",
    "    plot_matrices_with_values2(ax1,np.log10(pcurrM),True)\n",
    "    # print(pcurr)\n",
    "interact(lambda nj=0: plot_P_n(nj, I=I, M=M), nj = (0,2000,1))"
   ]
  },
  {
   "cell_type": "markdown",
   "metadata": {},
   "source": [
    "## Third algorithm: Eigenvalues and eigenvectors. We need to look for the eigenvector associated to the eigenvalue equal to 1."
   ]
  },
  {
   "cell_type": "code",
   "execution_count": 38,
   "metadata": {},
   "outputs": [],
   "source": [
    "w, v = np.linalg.eig(M)"
   ]
  },
  {
   "cell_type": "code",
   "execution_count": 10,
   "metadata": {},
   "outputs": [
    {
     "data": {
      "text/plain": [
       "array([-1.00000000e+00+0.00000000e+00j,  1.00000000e+00+0.00000000e+00j,\n",
       "       -7.50632749e-01+0.00000000e+00j, -7.27823791e-01+0.00000000e+00j,\n",
       "       -7.01486703e-01+0.00000000e+00j,  7.50632749e-01+0.00000000e+00j,\n",
       "        7.27823791e-01+0.00000000e+00j,  7.01486703e-01+0.00000000e+00j,\n",
       "       -6.48633862e-01+0.00000000e+00j,  6.48633862e-01+0.00000000e+00j,\n",
       "       -6.09881975e-01+0.00000000e+00j, -5.81559313e-01+0.00000000e+00j,\n",
       "       -5.60397014e-01+0.00000000e+00j, -5.50942218e-01+0.00000000e+00j,\n",
       "       -5.25497291e-01+0.00000000e+00j, -4.93732549e-01+0.00000000e+00j,\n",
       "       -4.82696191e-01+0.00000000e+00j, -4.34951590e-01+0.00000000e+00j,\n",
       "       -3.99042432e-01+0.00000000e+00j, -3.75078686e-01+0.00000000e+00j,\n",
       "       -3.65281851e-01+0.00000000e+00j, -3.37548113e-01+0.00000000e+00j,\n",
       "       -3.14489772e-01+0.00000000e+00j, -2.90154101e-01+0.00000000e+00j,\n",
       "       -2.79989305e-01+0.00000000e+00j, -2.53118528e-01+0.00000000e+00j,\n",
       "       -2.57620679e-01+0.00000000e+00j, -2.20992118e-01+0.00000000e+00j,\n",
       "       -1.58521297e-01+0.00000000e+00j, -1.35425433e-01+0.00000000e+00j,\n",
       "       -1.17147883e-01+0.00000000e+00j, -5.97277053e-02+0.00000000e+00j,\n",
       "        6.09881975e-01+0.00000000e+00j,  5.81559313e-01+0.00000000e+00j,\n",
       "        5.60397014e-01+0.00000000e+00j,  5.50942218e-01+0.00000000e+00j,\n",
       "        5.25497291e-01+0.00000000e+00j,  5.97277053e-02+0.00000000e+00j,\n",
       "        4.93732549e-01+0.00000000e+00j,  4.82696191e-01+0.00000000e+00j,\n",
       "        4.34951590e-01+0.00000000e+00j,  1.17147883e-01+0.00000000e+00j,\n",
       "        1.35425433e-01+0.00000000e+00j,  1.58521297e-01+0.00000000e+00j,\n",
       "        3.99042432e-01+0.00000000e+00j,  2.20992118e-01+0.00000000e+00j,\n",
       "        3.75078686e-01+0.00000000e+00j,  3.65281851e-01+0.00000000e+00j,\n",
       "        3.37548113e-01+0.00000000e+00j,  2.53118528e-01+0.00000000e+00j,\n",
       "        2.57620679e-01+0.00000000e+00j,  2.79989305e-01+0.00000000e+00j,\n",
       "        2.90154101e-01+0.00000000e+00j,  3.14489772e-01+0.00000000e+00j,\n",
       "        4.21403376e-17+6.95691790e-17j,  4.21403376e-17-6.95691790e-17j,\n",
       "        7.59141459e-17+0.00000000e+00j, -4.25731310e-17+0.00000000e+00j,\n",
       "        3.36509268e-18+8.68465189e-18j,  3.36509268e-18-8.68465189e-18j,\n",
       "        0.00000000e+00+0.00000000e+00j,  0.00000000e+00+0.00000000e+00j,\n",
       "        0.00000000e+00+0.00000000e+00j,  0.00000000e+00+0.00000000e+00j])"
      ]
     },
     "execution_count": 10,
     "metadata": {},
     "output_type": "execute_result"
    }
   ],
   "source": [
    "w"
   ]
  },
  {
   "cell_type": "code",
   "execution_count": 41,
   "metadata": {},
   "outputs": [
    {
     "name": "stdout",
     "output_type": "stream",
     "text": [
      "[-3.21099073e+13  9.63297220e+13 -9.63297220e+13  9.63297220e+13\n",
      " -9.63297220e+13  1.28439629e+14 -6.42198147e+13  3.21099073e+13\n",
      "  9.63297220e+13 -1.28439629e+14  1.92659444e+14 -1.28439629e+14\n",
      "  1.92659444e+14 -0.00000000e+00  1.28439629e+14 -6.42198147e+13\n",
      " -1.28439629e+14 -0.00000000e+00 -2.56879259e+14  1.92659444e+14\n",
      " -2.56879259e+14 -0.00000000e+00 -1.92659444e+14  9.63297220e+13\n",
      "  1.28439629e+14 -1.92659444e+14  2.24769351e+14 -1.92659444e+14\n",
      "  2.24769351e+14 -2.56879259e+14  1.28439629e+14 -9.63297220e+13\n",
      " -9.63297220e+13  1.92659444e+14 -2.24769351e+14  2.56879259e+14\n",
      " -0.00000000e+00  2.56879259e+14 -1.60549537e+14  1.28439629e+14\n",
      "  1.28439629e+14 -1.92659444e+14  2.24769351e+14 -2.56879259e+14\n",
      "  2.56879259e+14 -2.56879259e+14  1.60549537e+14 -1.28439629e+14\n",
      " -9.63297220e+13  1.28439629e+14 -1.92659444e+14  1.60549537e+14\n",
      " -1.92659444e+14  1.60549537e+14 -1.28439629e+14  9.63297220e+13\n",
      "  6.42198147e+13 -9.63297220e+13  1.28439629e+14 -1.28439629e+14\n",
      "  1.28439629e+14 -1.28439629e+14  9.63297220e+13 -6.42198147e+13]\n"
     ]
    }
   ],
   "source": [
    "v0=np.real(v[:,0])/np.sum(np.real(v[:,0]))\n",
    "print(v0)"
   ]
  },
  {
   "cell_type": "code",
   "execution_count": 42,
   "metadata": {},
   "outputs": [
    {
     "name": "stdout",
     "output_type": "stream",
     "text": [
      "[ 0.0035461   0.0106383   0.0106383   0.0106383   0.0106383   0.0141844\n",
      "  0.0070922   0.0035461   0.0106383   0.0141844   0.0212766   0.0141844\n",
      "  0.0212766  -0.          0.0141844   0.0070922   0.0141844  -0.\n",
      "  0.02836879  0.0212766   0.02836879 -0.          0.0212766   0.0106383\n",
      "  0.0141844   0.0212766   0.0248227   0.0212766   0.0248227   0.02836879\n",
      "  0.0141844   0.0106383   0.0106383   0.0212766   0.0248227   0.02836879\n",
      " -0.          0.02836879  0.0177305   0.0141844   0.0141844   0.0212766\n",
      "  0.0248227   0.02836879  0.02836879  0.02836879  0.0177305   0.0141844\n",
      "  0.0106383   0.0141844   0.0212766   0.0177305   0.0212766   0.0177305\n",
      "  0.0141844   0.0106383   0.0070922   0.0106383   0.0141844   0.0141844\n",
      "  0.0141844   0.0141844   0.0106383   0.0070922 ]\n"
     ]
    }
   ],
   "source": [
    "v1=np.real(v[:,1])/np.sum(np.real(v[:,1]))\n",
    "print(v1)"
   ]
  },
  {
   "cell_type": "code",
   "execution_count": 47,
   "metadata": {},
   "outputs": [
    {
     "name": "stderr",
     "output_type": "stream",
     "text": [
      "/Users/claudio/opt/anaconda3/lib/python3.7/site-packages/ipykernel_launcher.py:9: RuntimeWarning: divide by zero encountered in log10\n",
      "  if __name__ == '__main__':\n"
     ]
    },
    {
     "data": {
      "image/png": "[encoded data removed]",
      "text/plain": [
       "<Figure size 720x720 with 1 Axes>"
      ]
     },
     "metadata": {},
     "output_type": "display_data"
    }
   ],
   "source": [
    "if piece == 'King':\n",
    "    v_selected = v0\n",
    "elif piece == 'Knight':\n",
    "    v_selected = v1\n",
    "else:\n",
    "    print('Wrong piece!')\n",
    "    v_selected=np.full((64),np.nan)\n",
    "fig,  (ax1)   = plt.subplots(1, 1, figsize=(10,10))\n",
    "plot_matrices_with_values2(ax1,np.log10(np.reshape(np.real(v_selected),(8,8),order='F')),True)"
   ]
  },
  {
   "cell_type": "markdown",
   "metadata": {},
   "source": [
    "# 8.2 Stochastic predator-prey model"
   ]
  },
  {
   "cell_type": "code",
   "execution_count": null,
   "metadata": {},
   "outputs": [],
   "source": [
    "def plot_S_Pred_Prey(seed=0):\n",
    "    Nj       = 200 # number of X adult pair at t = t(j)\n",
    "    Mj       = 50  # number of Y adult pair at t = t(j)\n",
    "    p_mean   = 10  # mean number of X offsprings/adult pair\n",
    "    p_std    = 3   # std of the number of the X offspring/adult pair\n",
    "    beta     = 0.3 # Survival probability of X in the absence of Y\n",
    "    Mstar    = 50  # number of Y that halves the survival prob. of X\n",
    "    q_mean   = 4   # mean number of Y offspring/adult pair\n",
    "    q_std    = 2   # std of the number of the Y offsrping/adult pair\n",
    "    gamma    = 0.6 # Survival prob. of Y in adundance of X\n",
    "    Nstar    = 400 # Number of X pairs at which the survival prob. of Y is halved\n",
    "\n",
    "    nrounds  = 40  # Number of generations allowed\n",
    "\n",
    "    N = np.full(nrounds,np.nan)\n",
    "    N[0] = Nj\n",
    "    M = np.full(nrounds,np.nan)\n",
    "    M[0] = Mj\n",
    "    Surv = np.full((nrounds-1,2),np.nan)\n",
    "\n",
    "    np.random.seed(seed)\n",
    "\n",
    "    for j in np.arange(1,nrounds):\n",
    "        # Draw the number of offsprings of species X\n",
    "        Pj = Nj*p_mean+np.sqrt(Nj)*p_std*np.random.randn()\n",
    "        # Survival probability of the offspring of species X\n",
    "        s = beta/(1+(Mj/Mstar)**2)\n",
    "        Nj = s*Pj+np.sqrt(s*Pj*(1-s))*np.random.randn()\n",
    "        N[j] = 0.5*Nj\n",
    "        # Draw the number of offsprings of species Y\n",
    "        Qj = Mj*q_mean+np.sqrt(Mj)*q_std*np.random.randn()\n",
    "        # Survival probability of the offspring of species Y\n",
    "        r = gamma*(1-1/(1+(Nj/Nstar)**2))\n",
    "        Mj = r*Qj+np.sqrt(r*Qj*(1-r))*np.random.randn()\n",
    "        M[j] = 0.5*Mj\n",
    "        # Saving the survival probabilities for later analysis\n",
    "        Surv[j-1,:]=[s,r]\n",
    "\n",
    "    s=Surv[:,0]\n",
    "    r=Surv[:,1]\n",
    "    \n",
    "    smean = np.sum(s)/(nrounds-1)\n",
    "    rmean = np.sum(r)/(nrounds-1)\n",
    "    Surv_c = Surv-np.array([smean,rmean])\n",
    "    covSurv = np.dot(Surv_c.T,Surv_c)/(nrounds-1)\n",
    "    corrcoeff = covSurv[0,1]/np.sqrt(covSurv[0,0]*covSurv[1,1])\n",
    "        \n",
    "    fig,  ((ax1,ax2),(ax3,ax4))   = plt.subplots(2, 2, figsize=(10,10))\n",
    "    \n",
    "    ax4.plot(N,'r.-')\n",
    "    ax4.plot(M,'b.-')\n",
    "    ax4.grid(True)\n",
    "    \n",
    "    s=Surv[:,0]\n",
    "    r=Surv[:,1]\n",
    "    ax1.plot(s,r,'.')\n",
    "    ax1.set_xlim(0,1)\n",
    "    ax1.set_ylim(0,1)\n",
    "    ax1.set_xlabel(r'$s_i$')\n",
    "    ax1.set_ylabel(r'$r_i$')\n",
    "    ax1.text(0.5, 0.2, 'c={:.5f}'.format(corrcoeff), va='center', ha='center', color='k')\n",
    "    \n",
    "    ax2.hist(r,orientation='horizontal')\n",
    "    ax2.set_ylim(0,1)\n",
    "    \n",
    "    ax3.hist(s)\n",
    "    ax3.set_xlim(0,1)\n",
    "    \n",
    "    plt.show()\n",
    "interact(plot_S_Pred_Prey,seed=(0,100,1))"
   ]
  },
  {
   "cell_type": "code",
   "execution_count": null,
   "metadata": {},
   "outputs": [],
   "source": []
  }
 ],
 "metadata": {
  "kernelspec": {
   "display_name": "Python 3",
   "language": "python",
   "name": "python3"
  },
  "language_info": {
   "codemirror_mode": {
    "name": "ipython",
    "version": 3
   },
   "file_extension": ".py",
   "mimetype": "text/x-python",
   "name": "python",
   "nbconvert_exporter": "python",
   "pygments_lexer": "ipython3",
   "version": "3.7.4"
  }
 },
 "nbformat": 4,
 "nbformat_minor": 2
}
