{
 "cells": [
  {
   "cell_type": "markdown",
   "metadata": {},
   "source": [
    "# INF-495, v0.01, Claudio Torres, ctorres@inf.utfsm.cl. DI-UTFSM\n",
    "## Textbook: Computational Mathematical Modeling, An Integrated Approach Across Scales by Daniela Calvetti and Erkki Somersalo."
   ]
  },
  {
   "cell_type": "markdown",
   "metadata": {},
   "source": [
    "# Chapter 8"
   ]
  },
  {
   "cell_type": "markdown",
   "metadata": {},
   "source": [
    "## 8.1 Markov process and random walk"
   ]
  },
  {
   "cell_type": "code",
   "execution_count": 1,
   "metadata": {},
   "outputs": [],
   "source": [
    "import numpy as np\n",
    "import scipy.sparse.linalg as sp\n",
    "import sympy as sym\n",
    "from scipy.linalg import toeplitz\n",
    "\n",
    "import ipywidgets as widgets\n",
    "from ipywidgets import IntSlider\n",
    "\n",
    "import matplotlib.pyplot as plt\n",
    "%matplotlib inline\n",
    "from matplotlib import cm\n",
    "from matplotlib.ticker import LinearLocator, FormatStrFormatter\n",
    "\n",
    "plt.style.use('ggplot')\n",
    "\n",
    "import matplotlib as mpl\n",
    "mpl.rcParams['font.size'] = 14\n",
    "mpl.rcParams['axes.labelsize'] = 20\n",
    "mpl.rcParams['xtick.labelsize'] = 14\n",
    "mpl.rcParams['ytick.labelsize'] = 14\n",
    "sym.init_printing()\n",
    "\n",
    "from scipy.integrate import odeint\n",
    "from ipywidgets import interact\n",
    "\n",
    "def plot_matrices_with_values2(ax,M,flag_values=False):\n",
    "    N=M.shape[0]\n",
    "    cmap = plt.get_cmap('GnBu')\n",
    "    ax.matshow(M, cmap=cmap)\n",
    "    if flag_values:\n",
    "        for i in np.arange(0, N):\n",
    "            for j in np.arange(0, N):\n",
    "                # I had to change the order of indices to make it right\n",
    "                ax.text(i, j, '{:.2f}'.format(M[j,i]), va='center', ha='center', color='r')"
   ]
  },
  {
   "cell_type": "code",
   "execution_count": 2,
   "metadata": {},
   "outputs": [
    {
     "name": "stdout",
     "output_type": "stream",
     "text": [
      "[[ 0  8 16 24 32 40 48 56]\n",
      " [ 1  9 17 25 33 41 49 57]\n",
      " [ 2 10 18 26 34 42 50 58]\n",
      " [ 3 11 19 27 35 43 51 59]\n",
      " [ 4 12 20 28 36 44 52 60]\n",
      " [ 5 13 21 29 37 45 53 61]\n",
      " [ 6 14 22 30 38 46 54 62]\n",
      " [ 7 15 23 31 39 47 55 63]]\n",
      "[[1 2]\n",
      " [4 4]\n",
      " [5 1]\n",
      " [5 2]]\n",
      "17\n",
      "36\n",
      "13\n",
      "21\n"
     ]
    }
   ],
   "source": [
    "ids = np.arange(64) # Making it Python compatible\n",
    "I = np.reshape(ids,(8,8),order='F')\n",
    "print(I)\n",
    "# Defining occupied squares ([row,columns])\n",
    "occupied = np.array([[2, 3], [5, 5], [6, 2], [6, 3]])-1 # Subtracting one to make it Python compatible!\n",
    "print(occupied)\n",
    "for oc in occupied:\n",
    "    print(I[oc[0],oc[1]])"
   ]
  },
  {
   "cell_type": "code",
   "execution_count": 3,
   "metadata": {},
   "outputs": [
    {
     "name": "stdout",
     "output_type": "stream",
     "text": [
      "[[-1. -1.]\n",
      " [-1.  0.]\n",
      " [-1.  1.]\n",
      " [ 0. -1.]\n",
      " [ 0.  1.]\n",
      " [ 1. -1.]\n",
      " [ 1.  0.]\n",
      " [ 1.  1.]]\n"
     ]
    }
   ],
   "source": [
    "# Defining the peice\n",
    "piece = 'King' # 'King' or 'Knight'\n",
    "if piece == 'King':\n",
    "    # Squares relative to the current one reached by the King\n",
    "    Mask = np.zeros((8,2))\n",
    "    k=0\n",
    "    piece_range=[-1,0,1]\n",
    "    for i in piece_range:\n",
    "        for j in piece_range:\n",
    "            if not ((i==0) and (j==0)):\n",
    "                Mask[k,0]=i\n",
    "                Mask[k,1]=j\n",
    "                k=k+1\n",
    "    print(Mask)\n",
    "elif piece == 'Knight':\n",
    "    # Squares relative to the current one reached by the Knight\n",
    "    Mask = np.zeros((8,2))\n",
    "    k=0\n",
    "    piece_range=[-2,-1,0,1,2]\n",
    "    for i in [-2,-1,0,1,2]:\n",
    "        for j in [-2,-1,0,1,2]:\n",
    "            if np.linalg.norm([i,j],ord=1)==3:\n",
    "                Mask[k,0]=i\n",
    "                Mask[k,1]=j\n",
    "                k=k+1\n",
    "    print(Mask)\n",
    "else:\n",
    "    print('Wrong piece!')"
   ]
  },
  {
   "cell_type": "code",
   "execution_count": 4,
   "metadata": {
    "scrolled": false
   },
   "outputs": [],
   "source": [
    "M = np.zeros((64,64))\n",
    "# Scan through all starting squares\n",
    "# find all possible destinations\n",
    "for n in np.arange(8):\n",
    "    for m in np.arange(8):\n",
    "        k=I[n,m] # Index to current square\n",
    "        # Find possible destination square using the mask\n",
    "        P = np.array([n, m])+Mask\n",
    "        # Discard occupied squares\n",
    "        P_tmp=[]\n",
    "        for p in P:\n",
    "            flag=0\n",
    "            for oc_sq in occupied:\n",
    "                if abs(oc_sq[0]-p[0])+abs(oc_sq[1]-p[1])<1e-10:\n",
    "                    flag=1\n",
    "            if flag==0:\n",
    "                P_tmp.append(p)\n",
    "        P=np.array(P_tmp,dtype=int)\n",
    "        # Discarding squares outside the board\n",
    "        P_tmp=[]\n",
    "        for p in P:\n",
    "            if p[0]>=0 and p[0]<=7 and p[1]>=0 and p[1]<=7:\n",
    "                P_tmp.append(p)\n",
    "        P=np.array(P_tmp,dtype=int)\n",
    "        nP = P.shape[0] # number of possible destinations\n",
    "        # Fill in the probabilities\n",
    "        for p in P:\n",
    "            Ip = I[p[0],p[1]] # Destination index\n",
    "            M[Ip,k] = 1/nP # Moving probability"
   ]
  },
  {
   "cell_type": "markdown",
   "metadata": {},
   "source": [
    "# Simulating random walk"
   ]
  },
  {
   "cell_type": "code",
   "execution_count": 5,
   "metadata": {},
   "outputs": [
    {
     "name": "stdout",
     "output_type": "stream",
     "text": [
      "[4. 4. 4. 2. 4. 1. 0. 0. 1. 6. 2. 7. 2. 0. 0. 0. 1. 0. 4. 3. 1. 0. 0. 0.\n",
      " 0. 0. 3. 2. 1. 0. 0. 0. 0. 2. 2. 2. 0. 0. 0. 0. 1. 2. 1. 3. 1. 0. 0. 0.\n",
      " 1. 2. 5. 8. 2. 2. 0. 0. 1. 2. 2. 5. 3. 0. 1. 0.]\n",
      "[17, 18, 26, 33, 34, 33, 40, 41, 50, 59, 51, 59, 52, 53, 62, 53, 44, 35, 43, 51, 59, 60, 59, 52, 60, 51, 58, 49, 58, 51, 50, 43, 51, 50, 51, 42, 43, 50, 51, 60, 59, 51, 50, 57, 48, 56, 57, 49, 41, 34, 27, 26, 27, 35, 26, 19, 11, 18, 10, 9, 1, 0, 1, 9, 0, 1, 2, 11, 2, 11, 2, 11, 10, 19, 20, 28, 19, 12, 3, 4, 3, 4, 5, 4, 11, 12, 4, 11, 2, 9, 18, 11, 18, 9, 16, 9, 1, 8, 0, 9, 0]\n",
      "[[ 0  8 16 24 32 40 48 56]\n",
      " [ 1  9 17 25 33 41 49 57]\n",
      " [ 2 10 18 26 34 42 50 58]\n",
      " [ 3 11 19 27 35 43 51 59]\n",
      " [ 4 12 20 28 36 44 52 60]\n",
      " [ 5 13 21 29 37 45 53 61]\n",
      " [ 6 14 22 30 38 46 54 62]\n",
      " [ 7 15 23 31 39 47 55 63]]\n"
     ]
    }
   ],
   "source": [
    "np.random.seed(0)\n",
    "\n",
    "nsteps = 100\n",
    "prev   = I[1,2]\n",
    "ncounts = np.zeros(64)\n",
    "squares_ids = [prev]\n",
    "for n in np.arange(nsteps):\n",
    "    # Random draw using the column M[:,prev]\n",
    "    next_step = np.random.choice(np.arange(64),p=M[:,prev])\n",
    "    ncounts[next_step] = ncounts[next_step] + 1\n",
    "    prev = next_step\n",
    "    squares_ids.append(next_step)\n",
    "print(ncounts)\n",
    "print(squares_ids)\n",
    "print(I)"
   ]
  },
  {
   "cell_type": "code",
   "execution_count": 6,
   "metadata": {
    "scrolled": false
   },
   "outputs": [
    {
     "data": {
      "application/vnd.jupyter.widget-view+json": {
       "model_id": "7b8a2d73113f43d2966b3ad172c7f0a8",
       "version_major": 2,
       "version_minor": 0
      },
      "text/plain": [
       "interactive(children=(IntSlider(value=2, description='nj', max=2000), Output()), _dom_classes=('widget-interac…"
      ]
     },
     "metadata": {},
     "output_type": "display_data"
    },
    {
     "data": {
      "text/plain": [
       "<function __main__.<lambda>(nj=2)>"
      ]
     },
     "execution_count": 6,
     "metadata": {},
     "output_type": "execute_result"
    }
   ],
   "source": [
    "def plot_P_n(nj, I, M):\n",
    "    # Defining initial distribution\n",
    "    (i0,j0)=(0,1)\n",
    "    pcurr = np.zeros(64)\n",
    "    pcurr[I[i0,j0]] = 1\n",
    "    for j in np.arange(nj):\n",
    "        pcurr = np.dot(M,pcurr)\n",
    "    pcurrM = np.reshape(pcurr,(8,8),order='F')\n",
    "    fig,  (ax1)   = plt.subplots(1, 1, figsize=(10,10))\n",
    "    plot_matrices_with_values2(ax1,np.log10(np.reshape(pcurr,(8,8),order='F')),True)\n",
    "interact(lambda nj=2: plot_P_n(nj, I=I, M=M), nj = (0,2000,1))"
   ]
  },
  {
   "cell_type": "markdown",
   "metadata": {},
   "source": [
    "## Bonus"
   ]
  },
  {
   "cell_type": "code",
   "execution_count": 12,
   "metadata": {},
   "outputs": [],
   "source": [
    "w, v = np.linalg.eig(M)"
   ]
  },
  {
   "cell_type": "code",
   "execution_count": 13,
   "metadata": {},
   "outputs": [
    {
     "data": {
      "text/plain": [
       "array([ 1.        ,  0.94242218,  0.93535358,  0.87570847,  0.7641552 ,\n",
       "        0.75747923,  0.70472958,  0.68840731,  0.53945617,  0.44362115,\n",
       "        0.43994424,  0.39317436,  0.36225462,  0.30523264,  0.27731892,\n",
       "        0.15125504,  0.14733235, -0.53870554, -0.52791719, -0.50773004,\n",
       "       -0.50226771,  0.10782438,  0.09034742, -0.45795139,  0.05152279,\n",
       "        0.02911406,  0.01462227, -0.43568594, -0.41836953, -0.41085346,\n",
       "       -0.40468406, -0.39082156, -0.35670216, -0.34186859, -0.33240971,\n",
       "       -0.3233874 , -0.03297182, -0.04392024, -0.29146884, -0.07726321,\n",
       "       -0.08939791, -0.09913536, -0.26698113, -0.2575653 , -0.25088564,\n",
       "       -0.239291  , -0.23275389, -0.2275247 , -0.2077315 , -0.20445031,\n",
       "       -0.20052018, -0.12751342, -0.16732944, -0.16591746, -0.13918589,\n",
       "       -0.14689862, -0.14898567, -0.15031674, -0.15159525, -0.15231812,\n",
       "        0.        ,  0.        ,  0.        ,  0.        ])"
      ]
     },
     "execution_count": 13,
     "metadata": {},
     "output_type": "execute_result"
    }
   ],
   "source": [
    "w"
   ]
  },
  {
   "cell_type": "code",
   "execution_count": 14,
   "metadata": {},
   "outputs": [],
   "source": [
    "v0=v[:,0]/np.sum(v[:,0])"
   ]
  },
  {
   "cell_type": "code",
   "execution_count": 15,
   "metadata": {},
   "outputs": [
    {
     "name": "stderr",
     "output_type": "stream",
     "text": [
      "/Users/claudio/opt/anaconda3/lib/python3.7/site-packages/ipykernel_launcher.py:2: RuntimeWarning: divide by zero encountered in log10\n",
      "  \n"
     ]
    },
    {
     "data": {
      "image/png": "[encoded data removed]",
      "text/plain": [
       "<Figure size 720x720 with 1 Axes>"
      ]
     },
     "metadata": {},
     "output_type": "display_data"
    }
   ],
   "source": [
    "fig,  (ax1)   = plt.subplots(1, 1, figsize=(10,10))\n",
    "plot_matrices_with_values2(ax1,np.log10(np.reshape(v0,(8,8),order='F')),True)"
   ]
  },
  {
   "cell_type": "markdown",
   "metadata": {},
   "source": [
    "# 8.2 Stochastic predator-prey model"
   ]
  },
  {
   "cell_type": "code",
   "execution_count": 11,
   "metadata": {},
   "outputs": [
    {
     "data": {
      "application/vnd.jupyter.widget-view+json": {
       "model_id": "dc1b8a090b444fbca5e5f33d0c2ac484",
       "version_major": 2,
       "version_minor": 0
      },
      "text/plain": [
       "interactive(children=(IntSlider(value=0, description='seed'), Output()), _dom_classes=('widget-interact',))"
      ]
     },
     "metadata": {},
     "output_type": "display_data"
    },
    {
     "data": {
      "text/plain": [
       "<function __main__.plot_S_Pred_Prey(seed=0)>"
      ]
     },
     "execution_count": 11,
     "metadata": {},
     "output_type": "execute_result"
    }
   ],
   "source": [
    "def plot_S_Pred_Prey(seed=0):\n",
    "    Nj       = 200 # number of X adult pair at t = t(j)\n",
    "    Mj       = 50  # number of Y adult pair at t = t(j)\n",
    "    p_mean   = 10  # mean number of X offsprings/adult pair\n",
    "    p_std    = 3   # std of the number of the X offspring/adult pair\n",
    "    beta     = 0.3 # Survival probability of X in the absence of Y\n",
    "    Mstar    = 50  # number of Y that halves the survival prob. of X\n",
    "    q_mean   = 4   # mean number of Y offspring/adult pair\n",
    "    q_std    = 2   # std of the number of the Y offsrping/adult pair\n",
    "    gamma    = 0.6 # Survival prob. of Y in adundance of X\n",
    "    Nstar    = 400 # Number of X pairs at which the survival prob. of Y is halved\n",
    "\n",
    "    nrounds  = 40  # Number of generations allowed\n",
    "\n",
    "    N = np.full(nrounds,np.nan)\n",
    "    N[0] = Nj\n",
    "    M = np.full(nrounds,np.nan)\n",
    "    M[0] = Mj\n",
    "    Surv = np.full((nrounds-1,2),np.nan)\n",
    "\n",
    "    np.random.seed(seed)\n",
    "\n",
    "    for j in np.arange(1,nrounds):\n",
    "        # Draw the number of offsprings of species X\n",
    "        Pj = Nj*p_mean+np.sqrt(Nj)*p_std*np.random.randn()\n",
    "        # Survival probability of the offspring of species X\n",
    "        s = beta/(1+(Mj/Mstar)**2)\n",
    "        Nj = s*Pj+np.sqrt(s*Pj*(1-s))*np.random.randn()\n",
    "        N[j] = 0.5*Nj\n",
    "        # Draw the number of offsprings of species Y\n",
    "        Qj = Mj*q_mean+np.sqrt(Mj)*q_std*np.random.randn()\n",
    "        # Survival probability of the offspring of species Y\n",
    "        r = gamma*(1-1/(1+(Nj/Nstar)**2))\n",
    "        Mj = r*Qj+np.sqrt(r*Qj*(1-r))*np.random.randn()\n",
    "        M[j] = 0.5*Mj\n",
    "        # Saving the survival probabilities for later analysis\n",
    "        Surv[j-1,:]=[s,r]\n",
    "\n",
    "    s=Surv[:,0]\n",
    "    r=Surv[:,1]\n",
    "    \n",
    "    smean = np.sum(s)/(nrounds-1)\n",
    "    rmean = np.sum(r)/(nrounds-1)\n",
    "    Surv_c = Surv-np.array([smean,rmean])\n",
    "    covSurv = np.dot(Surv_c.T,Surv_c)/(nrounds-1)\n",
    "    corrcoeff = covSurv[0,1]/np.sqrt(covSurv[0,0]*covSurv[1,1])\n",
    "        \n",
    "    fig,  ((ax1,ax2),(ax3,ax4))   = plt.subplots(2, 2, figsize=(10,10))\n",
    "    \n",
    "    ax4.plot(N,'r.-')\n",
    "    ax4.plot(M,'b.-')\n",
    "    ax4.grid(True)\n",
    "    \n",
    "    s=Surv[:,0]\n",
    "    r=Surv[:,1]\n",
    "    ax1.plot(s,r,'.')\n",
    "    ax1.set_xlim(0,1)\n",
    "    ax1.set_ylim(0,1)\n",
    "    ax1.set_xlabel(r'$s_i$')\n",
    "    ax1.set_ylabel(r'$r_i$')\n",
    "    ax1.text(0.5, 0.2, 'c={:.5f}'.format(corrcoeff), va='center', ha='center', color='k')\n",
    "    \n",
    "    ax2.hist(r,orientation='horizontal')\n",
    "    ax2.set_ylim(0,1)\n",
    "    \n",
    "    ax3.hist(s)\n",
    "    ax3.set_xlim(0,1)\n",
    "    \n",
    "    plt.show()\n",
    "interact(plot_S_Pred_Prey,seed=(0,100,1))"
   ]
  },
  {
   "cell_type": "code",
   "execution_count": null,
   "metadata": {},
   "outputs": [],
   "source": []
  }
 ],
 "metadata": {
  "kernelspec": {
   "display_name": "Python 3",
   "language": "python",
   "name": "python3"
  },
  "language_info": {
   "codemirror_mode": {
    "name": "ipython",
    "version": 3
   },
   "file_extension": ".py",
   "mimetype": "text/x-python",
   "name": "python",
   "nbconvert_exporter": "python",
   "pygments_lexer": "ipython3",
   "version": "3.7.4"
  }
 },
 "nbformat": 4,
 "nbformat_minor": 2
}
