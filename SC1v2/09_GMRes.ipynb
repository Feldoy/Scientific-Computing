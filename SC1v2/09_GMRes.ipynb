{
 "cells": [
  {
   "cell_type": "markdown",
   "metadata": {},
   "source": [
    "<center>\n",
    "    <h1> ILI285 - Computación Científica I  / INF285 - Computación Científica </h1>\n",
    "    <h2> Generalized Minimal Residual Method </h2>\n",
    "    <h2> <a href=\"#acknowledgements\"> [S]cientific [C]omputing [T]eam </a> </h2>\n",
    "    <h2> Version: 1.21</h2>\n",
    "</center>"
   ]
  },
  {
   "cell_type": "markdown",
   "metadata": {},
   "source": [
    "## Table of Contents\n",
    "* [Introduction](#intro)\n",
    "* [Short reminder about Least Squares](#LS)\n",
    "* [GMRes](#GMR)\n",
    "* [Theoretical Problems](#TP)\n",
    "* [Practical Problems](#PP)\n",
    "* [Acknowledgements](#acknowledgements)"
   ]
  },
  {
   "cell_type": "code",
   "execution_count": 1,
   "metadata": {},
   "outputs": [],
   "source": [
    "import numpy as np\n",
    "import scipy as sp\n",
    "from scipy import linalg as la\n",
    "import matplotlib.pyplot as plt\n",
    "import scipy.sparse.linalg\n",
    "%matplotlib inline\n",
    "#%load_ext memory_profiler\n",
    "import matplotlib as mpl\n",
    "mpl.rcParams['font.size'] = 14\n",
    "mpl.rcParams['axes.labelsize'] = 20\n",
    "mpl.rcParams['xtick.labelsize'] = 14\n",
    "mpl.rcParams['ytick.labelsize'] = 14\n",
    "M=8"
   ]
  },
  {
   "cell_type": "markdown",
   "metadata": {},
   "source": [
    "<div id='intro' />\n",
    "\n",
    "## Introduction\n",
    "\n",
    "Welcome to another edition of our Jupyter Notebooks. A few notebooks back, we saw that the Conjugate Gradient Method, an iterative method, was very useful to solve $A\\,\\mathbf{x}=\\mathbf{b}$ but it only worked when $A$ was positive definite and symmetric. So now we need an iterative method that works with nonsymmetric linear system of equations, and for that we have the Generalized Minimum Residual Method (GMRes). It works really well for finding the solution of large, sparse (and dense as well), nonsymmetric linear systems of equations. Of course, it will also have trouble for ill-conditioned linear system of equations. But it is really easy to add a left or right or both preconditioners!"
   ]
  },
  {
   "cell_type": "markdown",
   "metadata": {},
   "source": [
    "<div id='LS' />\n",
    "\n",
    "## A quick review on Least Squares"
   ]
  },
  {
   "cell_type": "markdown",
   "metadata": {},
   "source": [
    "Least Squares is used to solve overdetemined linear systems of equations $A\\,\\mathbf{x} = \\mathbf{b}$. That is, for example, a linear system of equations where there are more equations than unknowns. It finds the _best_ $\\overline{\\mathbf{x}}$ so that it minimizes the euclidean length of $\\mathbf{r} = \\mathbf{b} - A\\,\\mathbf{x}$.\n",
    "\n",
    "So, you might be wondering, what does Least Squares have to do with GMRes? WELL, since you're dying to know, I'll tell you: the backward error of the system in GMRes is minimized at each iteration step using a Least Squares formulation."
   ]
  },
  {
   "cell_type": "markdown",
   "metadata": {},
   "source": [
    "<div id='GMR' />\n",
    "\n",
    "## GMRes\n",
    "\n",
    "GMRes is a member of the family of Krylov methods. It finds an approximation of $\\mathbf{x}$ restricted to _live_ on the Krylov sub-space $\\mathcal{K_k}$,  where $\\mathcal{K_k}=\\{\\mathbf{r}_0, A\\,\\mathbf{r}_0, A^2\\,\\mathbf{r}_0, \\cdots, A^{k-1}\\,\\mathbf{r}_0\\}$ and $\\mathbf{r}_0 = \\mathbf{b} - A\\,\\mathbf{x}_0$ is the residual vector of the initial guess.\n",
    "\n",
    "The idea behind this method is to look for improvements to the initial guess $\\mathbf{x}_0$ in the Krylov space. At the $k$-th iteration, we enlarge the Krylov space by adding $A^k\\,\\mathbf{r}_0$, reorthogonalize the basis, and then use least squares to find the best improvement to add to $\\mathbf{x}_0$.\n",
    "\n",
    "The algorithm is as follows:"
   ]
  },
  {
   "cell_type": "markdown",
   "metadata": {},
   "source": [
    "`Generalized Minimum Residual Method`\n",
    "\n",
    "$\\mathbf{x}_0$ `= initial guess`<br>\n",
    "$\\mathbf{r}$ `=` $\\mathbf{b} - A\\,\\mathbf{x}_0$<br>\n",
    "$\\mathbf{q}_1$ `=` $\\mathbf{r} / \\|\\mathbf{r}\\|_2$<br>\n",
    "`for` $k = 1, ..., m$<br>\n",
    "$\\qquad \\ \\ \\mathbf{y} = A\\,\\mathbf{q}_k$<br>\n",
    "$\\qquad$ `for` $j = 1,2,...,k$ <br>\n",
    "$\\qquad \\qquad$ $h_{jk} = \\mathbf{q}_j^*\\,\\mathbf{y}$<br>\n",
    "$\\qquad \\qquad$ $\\mathbf{y} = \\mathbf{y} - h_{jk}\\, \\mathbf{q}_j$<br>\n",
    "$\\qquad$ `end`<br>\n",
    "$\\qquad \\ h_{k+1,k} = \\|y\\|_2 \\qquad$ `(If ` $h_{k+1,k} = 0$ `, skip next line and terminate at bottom.)` <br>\n",
    "$\\qquad \\ \\mathbf{q}_{k+1} = \\mathbf{y}/h_{k+1,k}$ <br>\n",
    "$\\qquad$ `Minimize` $\\left\\|\\widehat{H}_k\\, \\mathbf{c}_k - [\\|\\mathbf{r}\\|_2 \\ 0 \\ 0 \\ ... \\ 0]^T \\right\\|_2$ `for` $\\mathbf{c}_k$ <br>\n",
    "$\\qquad$ $\\mathbf{x}_k = Q_k \\, \\mathbf{c}_k + \\mathbf{x}_0$ <br>\n",
    "`end`"
   ]
  },
  {
   "cell_type": "markdown",
   "metadata": {},
   "source": [
    "Now we have to implement it."
   ]
  },
  {
   "cell_type": "code",
   "execution_count": 2,
   "metadata": {},
   "outputs": [],
   "source": [
    "# This is a very instructive implementation of GMRes.\n",
    "def GMRes(A, b, x0=np.array([0.0]), m=10, flag_display=True, threshold=1e-12):\n",
    "    n = len(b)\n",
    "    if len(x0)==1:\n",
    "        x0=np.zeros(n)\n",
    "    r0 = b - np.dot(A, x0)\n",
    "    nr0=np.linalg.norm(r0)\n",
    "    out_res=np.array(nr0)\n",
    "    Q = np.zeros((n,n))\n",
    "    H = np.zeros((n,n))\n",
    "    Q[:,0] = r0 / nr0\n",
    "    flag_break=False\n",
    "    for k in np.arange(np.min((m,n))):\n",
    "        y = np.dot(A, Q[:,k])\n",
    "        if flag_display:\n",
    "            print('||y||=',np.linalg.norm(y))\n",
    "        for j in np.arange(k+1):\n",
    "            H[j][k] = np.dot(Q[:,j], y)\n",
    "            if flag_display:\n",
    "                print('H[',j,'][',k,']=',H[j][k])\n",
    "            y = y - np.dot(H[j][k],Q[:,j])\n",
    "            if flag_display:\n",
    "                print('||y||=',np.linalg.norm(y))\n",
    "        # All but the last equation are treated equally. Why?\n",
    "        if k+1<n:\n",
    "            H[k+1][k] = np.linalg.norm(y)\n",
    "            if flag_display:\n",
    "                print('H[',k+1,'][',k,']=',H[k+1][k])\n",
    "            if (np.abs(H[k+1][k]) > 1e-16):\n",
    "                Q[:,k+1] = y/H[k+1][k]\n",
    "            else:\n",
    "                print('flag_break has been activated')\n",
    "                flag_break=True\n",
    "            # Do you remember e_1? The canonical vector.\n",
    "            e1 = np.zeros((k+1)+1)        \n",
    "            e1[0]=1\n",
    "            H_tilde=H[0:(k+1)+1,0:k+1]\n",
    "        else:\n",
    "            H_tilde=H[0:k+1,0:k+1]\n",
    "        # Solving the 'SMALL' least square problem. \n",
    "        # This could be improved with Givens rotations!\n",
    "        ck = np.linalg.lstsq(H_tilde, nr0*e1)[0] \n",
    "        if k+1<n:\n",
    "            x = x0 + np.dot(Q[:,0:(k+1)], ck)\n",
    "        else:\n",
    "            x = x0 + np.dot(Q, ck)\n",
    "        # Why is 'norm_small' equal to 'norm_full'?\n",
    "        norm_small=np.linalg.norm(np.dot(H_tilde,ck)-nr0*e1)\n",
    "        out_res = np.append(out_res,norm_small)\n",
    "        if flag_display:\n",
    "            norm_full=np.linalg.norm(b-np.dot(A,x))\n",
    "            print('..........||b-A\\,x_k||=',norm_full)\n",
    "            print('..........||H_k\\,c_k-nr0*e1||',norm_small);\n",
    "        if flag_break:\n",
    "            if flag_display: \n",
    "                print('EXIT: flag_break=True')\n",
    "            break\n",
    "        if norm_small<threshold:\n",
    "            if flag_display:\n",
    "                print('EXIT: norm_small<threshold')\n",
    "            break\n",
    "    return x,out_res"
   ]
  },
  {
   "cell_type": "markdown",
   "metadata": {},
   "source": [
    "## A very simple example"
   ]
  },
  {
   "cell_type": "code",
   "execution_count": 3,
   "metadata": {},
   "outputs": [],
   "source": [
    "A = np.array([[1,1,0],[0,1,0],[0,1,1]])\n",
    "b = np.array([1,2,3])\n",
    "x0 = np.zeros(3)"
   ]
  },
  {
   "cell_type": "code",
   "execution_count": 4,
   "metadata": {},
   "outputs": [
    {
     "name": "stdout",
     "output_type": "stream",
     "text": [
      "||y||= 1.647508942095828\n",
      "H[ 0 ][ 0 ]= 1.5714285714285716\n",
      "||y||= 0.4948716593053935\n",
      "H[ 1 ][ 0 ]= 0.4948716593053935\n",
      "..........||b-A\\,x_k||= 1.1239029738980326\n",
      "..........||H_k\\,c_k-nr0*e1|| 1.1239029738980326\n",
      "||y||= 0.7867957924694438\n",
      "H[ 0 ][ 1 ]= -0.6598288790738589\n",
      "||y||= 0.4285714285714284\n",
      "H[ 1 ][ 1 ]= 0.4285714285714284\n",
      "||y||= 3.387999773988765e-16\n",
      "H[ 2 ][ 1 ]= 3.387999773988765e-16\n",
      "..........||b-A\\,x_k||= 1.9484335006297032e-15\n",
      "..........||H_k\\,c_k-nr0*e1|| 2.3497118783862944e-15\n",
      "EXIT: norm_small<threshold\n",
      "--------------------------------\n",
      "x_scipy [-1.  2.  1.]\n",
      "x_our [-1.  2.  1.]\n",
      "x_np [-1.  2.  1.]\n"
     ]
    },
    {
     "name": "stderr",
     "output_type": "stream",
     "text": [
      "<ipython-input-2-03e3ceb56d90>:42: FutureWarning: `rcond` parameter will change to the default of machine precision times ``max(M, N)`` where M and N are the input matrix dimensions.\n",
      "To use the future default and silence this warning we advise to pass `rcond=None`, to keep using the old, explicitly pass `rcond=-1`.\n",
      "  ck = np.linalg.lstsq(H_tilde, nr0*e1)[0]\n"
     ]
    }
   ],
   "source": [
    "# scipy gmres\n",
    "x_scipy = scipy.sparse.linalg.gmres(A,b,x0)[0]\n",
    "# our gmres\n",
    "x_our, _ = GMRes(A, b)\n",
    "# numpy solve\n",
    "x_np= np.linalg.solve(A,b)\n",
    "\n",
    "# Showing the solutions\n",
    "print('--------------------------------')\n",
    "print('x_scipy',x_scipy)\n",
    "print('x_our',x_our)\n",
    "print('x_np',x_np)"
   ]
  },
  {
   "cell_type": "markdown",
   "metadata": {},
   "source": [
    "## Another example, how may iteration does it need to converge?"
   ]
  },
  {
   "cell_type": "code",
   "execution_count": 5,
   "metadata": {},
   "outputs": [
    {
     "name": "stdout",
     "output_type": "stream",
     "text": [
      "||y||= 0.9999999999999999\n",
      "H[ 0 ][ 0 ]= 0.0\n",
      "||y||= 0.9999999999999999\n",
      "H[ 1 ][ 0 ]= 0.9999999999999999\n",
      "..........||b-A\\,x_k||= 1.4142135623730951\n",
      "..........||H_k\\,c_k-nr0*e1|| 1.4142135623730951\n",
      "||y||= 1.0\n",
      "H[ 0 ][ 1 ]= 1.0\n",
      "||y||= 1.5700924586837752e-16\n",
      "H[ 1 ][ 1 ]= 0.0\n",
      "||y||= 1.5700924586837752e-16\n",
      "H[ 2 ][ 1 ]= 1.5700924586837752e-16\n",
      "..........||b-A\\,x_k||= 3.1401849173675503e-16\n",
      "..........||H_k\\,c_k-nr0*e1|| 2.2204460492503136e-16\n",
      "EXIT: norm_small<threshold\n",
      "3.1401849173675503e-16\n"
     ]
    },
    {
     "name": "stderr",
     "output_type": "stream",
     "text": [
      "<ipython-input-2-03e3ceb56d90>:42: FutureWarning: `rcond` parameter will change to the default of machine precision times ``max(M, N)`` where M and N are the input matrix dimensions.\n",
      "To use the future default and silence this warning we advise to pass `rcond=None`, to keep using the old, explicitly pass `rcond=-1`.\n",
      "  ck = np.linalg.lstsq(H_tilde, nr0*e1)[0]\n"
     ]
    }
   ],
   "source": [
    "A = np.array([[0,0,0,1],[1,0,0,0],[0,1,0,0],[0,0,1,0]])\n",
    "b = np.array([1,0,1,0])\n",
    "x_our, _ = GMRes(A, b, m=10)\n",
    "norm_full=np.linalg.norm(b-np.dot(A,x_our))\n",
    "print(norm_full)"
   ]
  },
  {
   "cell_type": "code",
   "execution_count": 6,
   "metadata": {
    "scrolled": false
   },
   "outputs": [
    {
     "name": "stdout",
     "output_type": "stream",
     "text": [
      "||y||= 13.996804906205178\n",
      "H[ 0 ][ 0 ]= 13.869281321828755\n",
      "||y||= 1.8850950104282038\n",
      "H[ 1 ][ 0 ]= 1.8850950104282038\n",
      "..........||b-A\\,x_k||= 0.25887103320122956\n",
      "..........||H_k\\,c_k-nr0*e1|| 0.2588710332012295\n",
      "||y||= 10.577798033615746\n",
      "H[ 0 ][ 1 ]= 1.6458231784441382\n",
      "||y||= 10.44897494040737\n",
      "H[ 1 ][ 1 ]= 10.421862301008654\n",
      "||y||= 0.7522389806941658\n",
      "H[ 2 ][ 1 ]= 0.7522389806941658\n",
      "..........||b-A\\,x_k||= 0.019217295762666425\n",
      "..........||H_k\\,c_k-nr0*e1|| 0.019217295762666467\n",
      "||y||= 10.81827941957018\n",
      "H[ 0 ][ 2 ]= 0.5016939969045486\n",
      "||y||= 10.806640214857051\n",
      "H[ 1 ][ 2 ]= 0.5506877504802979\n",
      "||y||= 10.792600045162269\n",
      "H[ 2 ][ 2 ]= 10.770955019326019\n",
      "||y||= 0.6831864361155445\n",
      "H[ 3 ][ 2 ]= 0.6831864361155445\n",
      "..........||b-A\\,x_k||= 0.0012238612046365682\n",
      "..........||H_k\\,c_k-nr0*e1|| 0.001223861204636594\n",
      "||y||= 10.430303558220436\n",
      "H[ 0 ][ 3 ]= 0.9817531701716342\n",
      "||y||= 10.383996967906135\n",
      "H[ 1 ][ 3 ]= 0.15142062303773285\n",
      "||y||= 10.38289289285037\n",
      "H[ 2 ][ 3 ]= 0.4303626096434945\n",
      "||y||= 10.373969965670016\n",
      "H[ 3 ][ 3 ]= 10.323880044865472\n",
      "||y||= 1.0182110134211035\n",
      "H[ 4 ][ 3 ]= 1.0182110134211035\n",
      "..........||b-A\\,x_k||= 0.00012068072081463861\n",
      "..........||H_k\\,c_k-nr0*e1|| 0.0001206807208147749\n",
      "||y||= 9.908247199627876\n",
      "H[ 0 ][ 4 ]= 0.0889249563020873\n",
      "||y||= 9.907848147861388\n",
      "H[ 1 ][ 4 ]= 0.03980149177370784\n",
      "||y||= 9.907768202896802\n",
      "H[ 2 ][ 4 ]= -0.2942743007275721\n",
      "||y||= 9.90339706354664\n",
      "H[ 3 ][ 4 ]= -0.16653497248391308\n",
      "||y||= 9.901996743142467\n",
      "H[ 4 ][ 4 ]= 9.881557159339165\n",
      "||y||= 0.6358990548168039\n",
      "H[ 5 ][ 4 ]= 0.6358990548168039\n",
      "..........||b-A\\,x_k||= 7.77638089566078e-06\n",
      "..........||H_k\\,c_k-nr0*e1|| 7.776380895698052e-06\n",
      "||y||= 10.487592612214849\n",
      "H[ 0 ][ 5 ]= 0.3620539471429274\n",
      "||y||= 10.481341313932187\n",
      "H[ 1 ][ 5 ]= -0.11864359171755146\n",
      "||y||= 10.480669799077065\n",
      "H[ 2 ][ 5 ]= 0.17546530229822305\n",
      "||y||= 10.479200893435314\n",
      "H[ 3 ][ 5 ]= -0.04240896203106104\n",
      "||y||= 10.479115079285794\n",
      "H[ 4 ][ 5 ]= -0.42219999194178226\n",
      "||y||= 10.470606477741358\n",
      "H[ 5 ][ 5 ]= 10.461167030361601\n",
      "||y||= 0.44450463956493186\n",
      "H[ 6 ][ 5 ]= 0.44450463956493186\n",
      "..........||b-A\\,x_k||= 3.299706898656053e-07\n",
      "..........||H_k\\,c_k-nr0*e1|| 3.29970689848976e-07\n",
      "||y||= 10.076291278991556\n",
      "H[ 0 ][ 6 ]= -0.4899380860170993\n",
      "||y||= 10.064373135518734\n",
      "H[ 1 ][ 6 ]= 0.06439679511226062\n",
      "||y||= 10.064167112271658\n",
      "H[ 2 ][ 6 ]= 0.0035039453474203786\n",
      "||y||= 10.064166502303976\n",
      "H[ 3 ][ 6 ]= -0.21396873725160614\n",
      "||y||= 10.061891709096079\n",
      "H[ 4 ][ 6 ]= -0.14142082495029976\n",
      "||y||= 10.060897818576967\n",
      "H[ 5 ][ 6 ]= -0.5046872490340416\n",
      "||y||= 10.048231471085309\n",
      "H[ 6 ][ 6 ]= 10.0422831250898\n",
      "||y||= 0.3456954324921274\n",
      "H[ 7 ][ 6 ]= 0.3456954324921274\n",
      "..........||b-A\\,x_k||= 1.1338651262290252e-08\n",
      "..........||H_k\\,c_k-nr0*e1|| 1.1338651326258779e-08\n",
      "||y||= 10.223520821726865\n",
      "H[ 0 ][ 7 ]= -0.5496326412403519\n",
      "||y||= 10.208735570675042\n",
      "H[ 1 ][ 7 ]= -0.25397604018441644\n",
      "||y||= 10.205575834953073\n",
      "H[ 2 ][ 7 ]= -0.051953744169608296\n",
      "||y||= 10.205443593075456\n",
      "H[ 3 ][ 7 ]= -0.03716318375773414\n",
      "||y||= 10.205375927873401\n",
      "H[ 4 ][ 7 ]= -0.026684019555806016\n",
      "||y||= 10.205341042430586\n",
      "H[ 5 ][ 7 ]= -0.362963278418303\n",
      "||y||= 10.198884421878603\n",
      "H[ 6 ][ 7 ]= 0.3837609439701508\n",
      "||y||= 10.191661836458332\n",
      "H[ 7 ][ 7 ]= 10.190490451455423\n",
      "||y||= 0.15451649593833228\n",
      "H[ 8 ][ 7 ]= 0.15451649593833228\n",
      "..........||b-A\\,x_k||= 1.7223939097575087e-10\n",
      "..........||H_k\\,c_k-nr0*e1|| 1.7223930162705212e-10\n",
      "||y||= 10.41867596042545\n",
      "H[ 0 ][ 8 ]= -0.031225966950589434\n",
      "||y||= 10.418629166417968\n",
      "H[ 1 ][ 8 ]= -0.14758063126895937\n",
      "||y||= 10.417583868854113\n",
      "H[ 2 ][ 8 ]= -0.47462696835526663\n",
      "||y||= 10.406766207882223\n",
      "H[ 3 ][ 8 ]= 0.18783762897004075\n",
      "||y||= 10.405070875811573\n",
      "H[ 4 ][ 8 ]= 0.07560102507498545\n",
      "||y||= 10.404796221727258\n",
      "H[ 5 ][ 8 ]= 0.10559977429182188\n",
      "||y||= 10.404260334273618\n",
      "H[ 6 ][ 8 ]= 0.11223390372731562\n",
      "||y||= 10.403654966125774\n",
      "H[ 7 ][ 8 ]= -0.024240033552626716\n",
      "||y||= 10.403626727010483\n",
      "H[ 8 ][ 8 ]= 10.4033304285783\n",
      "||y||= 0.07851795198375447\n",
      "H[ 9 ][ 8 ]= 0.07851795198375447\n",
      "..........||b-A\\,x_k||= 1.3000567388117648e-12\n",
      "..........||H_k\\,c_k-nr0*e1|| 1.3000172476838648e-12\n",
      "||y||= 9.87955485628178\n",
      "H[ 0 ][ 9 ]= -0.014390533542588235\n",
      "||y||= 9.879544375669623\n",
      "H[ 1 ][ 9 ]= -0.6210051365057208\n",
      "||y||= 9.860007590831701\n",
      "H[ 2 ][ 9 ]= 0.08764054447263625\n",
      "||y||= 9.859618087239651\n",
      "H[ 3 ][ 9 ]= -0.2997309587466077\n",
      "||y||= 9.855061145350248\n",
      "H[ 4 ][ 9 ]= -0.1827726553212241\n",
      "||y||= 9.85336614234237\n",
      "H[ 5 ][ 9 ]= -0.45614818104984733\n",
      "||y||= 9.84280209960476\n",
      "H[ 6 ][ 9 ]= -0.35133010006157583\n",
      "||y||= 9.836529892842018\n",
      "H[ 7 ][ 9 ]= 0.5287913197616665\n",
      "||y||= 9.822306250210248\n",
      "H[ 8 ][ 9 ]= 0.18011976698339738\n",
      "||y||= 9.820654608653191\n",
      "H[ 9 ][ 9 ]= 9.820654189748238\n",
      "||y||= 0.002868421435331865\n",
      "..........||b-A\\,x_k||= 1.38916586636586e-15\n",
      "..........||H_k\\,c_k-nr0*e1|| 1.8596267695334215e-15\n",
      "EXIT: norm_small<threshold\n",
      "1.38916586636586e-15\n"
     ]
    },
    {
     "name": "stderr",
     "output_type": "stream",
     "text": [
      "<ipython-input-2-03e3ceb56d90>:42: FutureWarning: `rcond` parameter will change to the default of machine precision times ``max(M, N)`` where M and N are the input matrix dimensions.\n",
      "To use the future default and silence this warning we advise to pass `rcond=None`, to keep using the old, explicitly pass `rcond=-1`.\n",
      "  ck = np.linalg.lstsq(H_tilde, nr0*e1)[0]\n"
     ]
    }
   ],
   "source": [
    "A = np.random.rand(10,10)+10*np.eye(10)\n",
    "b = np.random.rand(10)\n",
    "x_our, out_res = GMRes(A, b, m=10,flag_display=True)\n",
    "norm_full=np.linalg.norm(b-np.dot(A,x_our))\n",
    "print(norm_full)"
   ]
  },
  {
   "cell_type": "markdown",
   "metadata": {},
   "source": [
    "## Plotting the residual over the iterations"
   ]
  },
  {
   "cell_type": "code",
   "execution_count": 7,
   "metadata": {},
   "outputs": [
    {
     "data": {
      "image/png": "[encoded data removed]",
      "text/plain": [
       "<Figure size 576x576 with 1 Axes>"
      ]
     },
     "metadata": {
      "needs_background": "light"
     },
     "output_type": "display_data"
    }
   ],
   "source": [
    "plt.figure(figsize=(M,M))\n",
    "plt.semilogy(out_res,'.k',markersize=20,label='residual')\n",
    "plt.grid(True)\n",
    "plt.xlabel(r'$k$')\n",
    "plt.ylabel(r'$\\|\\mathbf{b}-A\\,\\mathbf{x}_k\\|_2$')\n",
    "plt.grid(True)\n",
    "plt.show()"
   ]
  },
  {
   "cell_type": "markdown",
   "metadata": {},
   "source": [
    "<div id='TP' />\n",
    "\n",
    "## Theoretical Problems"
   ]
  },
  {
   "cell_type": "markdown",
   "metadata": {},
   "source": [
    "1. Prove that in GMRES method, the backward error $||b- Ax_k||$ decreases monotonically with k.\n",
    "2. What would happen if we pass a singular matrix $A$ to the previous implementation of GMRes?\n",
    "3. Prove that for\n",
    "\\begin{equation}\n",
    "A=\n",
    "\\left[\n",
    "\\begin{array}{c|c}\n",
    "I & C \\\\\n",
    "\\hline\n",
    "0 & I\n",
    "\\end{array}\n",
    "\\right]\n",
    "\\end{equation}\n",
    "and any $x_0$ and $b$, GMRES converges to the exact solution after **two** steps. Here $C$ is a $m_1 \\times m_2$ submatrix, $0$ denotes the $m_2 \\times m_1$ matrix of zeros, and $I$ denotes the appropiate-sized identity matrix."
   ]
  },
  {
   "cell_type": "markdown",
   "metadata": {},
   "source": [
    "<div id='PP' />\n",
    "\n",
    "## Practical Problems"
   ]
  },
  {
   "cell_type": "markdown",
   "metadata": {},
   "source": [
    "1. A possible improvement to the present algorithm consists on taking out of the loop the least squares computations, since the _Krylov_ subspace spaned by $Q_k$ doesn't depend on previous least squares calculations.\n",
    "    * Verify the truth of the above statement.\n",
    "    * Verify if it is really an improvement.\n",
    "    * Implement it.\n",
    "    * Test both implementations using `%timeit`\n",
    "1. The GMRES method is meant for huge $n\\times n$ sparse matrices $A$. In most cases, the goal is to run the method for $k$ steps (with $k << n$), reducing the complexity of the subproblems (Least squares). Neverthless for $k$ values too small, the solution $x_k$ could be not as good as needed. So to keep the values $k$ small and avoid bad solutions, there exists a variation of the algorithm known as **Restarted GMRES**: If no enough progress is made toward the solution after $k$ iterations, discard $Q_k$ and start GMRES from the beginning, using the current best guess $x_k$ as the new $x_0$.\n",
    "    * Implement the Restarted GMRES method. Introduce a tolerance parameter to stop restarting.\n",
    "    * Compare the asymptotic operation count and storage requirements of GMRES and Restarted GMRES, for fixed $k$ and increasing $n$.\n",
    "    * Execute it on a _huge_ linear system $A x = b$, and compare the solution with the solution of standard GMRES. Keep a value of $k$ small, and count how many times Restarted GMRES has to restart. Perform benchmarks using `%timeit` and `%memit` and verify the results.\n",
    "    * Describe an example in which Restared GMRES can be expected to fail to converge, whereas GMRES succeds."
   ]
  },
  {
   "cell_type": "markdown",
   "metadata": {},
   "source": [
    "<div id='acknowledgements' />\n",
    "\n",
    "# Acknowledgements\n",
    "* _Material created by professor Claudio Torres_ (`ctorres@inf.utfsm.cl`) _and assistants: Laura Bermeo, Alvaro Salinas, Axel Simonsen and Martín Villanueva. DI UTFSM. April 2016._\n",
    "* _Material updated by professor Claudio Torres_ (`ctorres@inf.utfsm.cl`). DI UTFSM. June 2017.\n",
    "* _Update July 2020 - v1.21 - C.Torres_ : Fixing formatting issues."
   ]
  },
  {
   "cell_type": "code",
   "execution_count": null,
   "metadata": {},
   "outputs": [],
   "source": []
  }
 ],
 "metadata": {
  "anaconda-cloud": {},
  "kernelspec": {
   "display_name": "Python 3",
   "language": "python",
   "name": "python3"
  },
  "language_info": {
   "codemirror_mode": {
    "name": "ipython",
    "version": 3
   },
   "file_extension": ".py",
   "mimetype": "text/x-python",
   "name": "python",
   "nbconvert_exporter": "python",
   "pygments_lexer": "ipython3",
   "version": "3.8.5"
  }
 },
 "nbformat": 4,
 "nbformat_minor": 4
}
