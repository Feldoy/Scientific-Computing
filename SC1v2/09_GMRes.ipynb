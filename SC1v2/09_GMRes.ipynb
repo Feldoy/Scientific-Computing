{
 "cells": [
  {
   "cell_type": "markdown",
   "metadata": {},
   "source": [
    "<center>\n",
    "    <img src=\"http://sct.inf.utfsm.cl/wp-content/uploads/2020/04/logo_di.png\" style=\"width:60%\">\n",
    "    <h1> INF285 - Computación Científica </h1>\n",
    "    <h2> Generalized Minimal Residual Method </h2>\n",
    "    <h2> <a href=\"#acknowledgements\"> [S]cientific [C]omputing [T]eam </a> </h2>\n",
    "    <h2> Version: 1.22</h2>\n",
    "</center>"
   ]
  },
  {
   "cell_type": "markdown",
   "metadata": {},
   "source": [
    "<div id='toc' />\n",
    "\n",
    "## Table of Contents\n",
    "* [Introduction](#intro)\n",
    "* [A quick review on Least Squares](#LS)\n",
    "* [GMRes](#GMRes)\n",
    "    * [A very simple example](#AVSE)\n",
    "    * [Another example, how may iteration does it need to converge?](#AEx)\n",
    "    * [Plotting the residual over the iterations](#Proi)\n",
    "* [Theoretical Problems](#TP)\n",
    "* [Practical Problems](#PP)\n",
    "* [Acknowledgements](#acknowledgements)"
   ]
  },
  {
   "cell_type": "code",
   "execution_count": 18,
   "metadata": {},
   "outputs": [],
   "source": [
    "import numpy as np\n",
    "import scipy as sp\n",
    "from scipy import linalg as la\n",
    "import matplotlib.pyplot as plt\n",
    "import scipy.sparse.linalg\n",
    "%matplotlib inline\n",
    "#%load_ext memory_profiler\n",
    "import matplotlib as mpl\n",
    "mpl.rcParams['font.size'] = 14\n",
    "mpl.rcParams['axes.labelsize'] = 20\n",
    "mpl.rcParams['xtick.labelsize'] = 14\n",
    "mpl.rcParams['ytick.labelsize'] = 14\n",
    "M=8"
   ]
  },
  {
   "cell_type": "markdown",
   "metadata": {},
   "source": [
    "<div id='intro' />\n",
    "\n",
    "## Introduction\n",
    "[Back to TOC](#toc)\n",
    "\n",
    "Welcome to another edition of our Jupyter Notebooks. A few notebooks back, we saw that the Conjugate Gradient Method, an iterative method, was very useful to solve $A\\,\\mathbf{x}=\\mathbf{b}$ but it only worked when $A$ was positive definite and symmetric. So now we need an iterative method that works with nonsymmetric linear system of equations, and for that we have the Generalized Minimum Residual Method (GMRes). It works really well for finding the solution of large, sparse (and dense as well), nonsymmetric linear systems of equations. Of course, it will also have trouble for ill-conditioned linear system of equations. But it is really easy to add a left or right or both preconditioners!"
   ]
  },
  {
   "cell_type": "markdown",
   "metadata": {},
   "source": [
    "<div id='LS' />\n",
    "\n",
    "## A quick review on Least Squares\n",
    "[Back to TOC](#toc)"
   ]
  },
  {
   "cell_type": "markdown",
   "metadata": {},
   "source": [
    "Least Squares is used to solve overdetemined linear systems of equations $A\\,\\mathbf{x} = \\mathbf{b}$. That is, for example, a linear system of equations where there are more equations than unknowns. It finds the _best_ $\\overline{\\mathbf{x}}$ so that it minimizes the euclidean length of $\\mathbf{r} = \\mathbf{b} - A\\,\\mathbf{x}$.\n",
    "\n",
    "So, you might be wondering, what does Least Squares have to do with GMRes? WELL, since you're dying to know, I'll tell you: the backward error of the system in GMRes is minimized at each iteration step using a Least Squares formulation."
   ]
  },
  {
   "cell_type": "markdown",
   "metadata": {},
   "source": [
    "<div id='GMRes' />\n",
    "\n",
    "## GMRes\n",
    "[Back to TOC](#toc)\n",
    "\n",
    "GMRes is a member of the family of Krylov methods.\n",
    "It solve a square linear system of equations $A\\,\\mathbf{x}=\\mathbf{b}$, for $A\\in\\mathbb{R}^{n \\times n}$ nonsingular, $\\mathbf{x}\\in\\mathbb{R}^n$ and $\\mathbf{b}\\in\\mathbb{R}^n$.\n",
    "It finds an approximation of $\\mathbf{x}$ restricted to _live_ on the Krylov sub-space $\\mathcal{K}_k$,  where $\\mathcal{K}_k=\\{\\mathbf{r}_0, A\\,\\mathbf{r}_0, A^2\\,\\mathbf{r}_0, \\cdots, A^{k-1}\\,\\mathbf{r}_0\\}$ and $\\mathbf{r}_0 = \\mathbf{b} - A\\,\\mathbf{x}_0$ is the residual vector of the initial guess.\n",
    "\n",
    "The idea behind this method is to look for improvements to the initial guess $\\mathbf{x}_0$ in the Krylov sub-space. \n",
    "At the $(k+1)$-th iteration, we enlarge the Krylov space by adding $A^k\\,\\mathbf{r}_0$, reorthogonalize it against  the basis, and then use least squares to find the best improvement to add to $\\mathbf{x}_0$.\n",
    "\n",
    "The algorithm is as follows:"
   ]
  },
  {
   "cell_type": "markdown",
   "metadata": {},
   "source": [
    "`Generalized Minimum Residual Method`\n",
    "\n",
    "$\\mathbf{x}_0$ `= initial guess`<br>\n",
    "$\\mathbf{r}$ `=` $\\mathbf{b} - A\\,\\mathbf{x}_0$<br>\n",
    "$\\mathbf{q}_1$ `=` $\\mathbf{r} / \\|\\mathbf{r}\\|_2$<br>\n",
    "`for` $k = 1, ..., n$<br>\n",
    "$\\qquad \\ \\ \\mathbf{y} = A\\,\\mathbf{q}_k$<br>\n",
    "$\\qquad$ `for` $j = 1,2,...,k$ <br>\n",
    "$\\qquad \\qquad$ $h_{jk} = \\mathbf{q}_j^*\\,\\mathbf{y}$<br>\n",
    "$\\qquad \\qquad$ $\\mathbf{y} = \\mathbf{y} - h_{jk}\\, \\mathbf{q}_j$<br>\n",
    "$\\qquad$ `end`<br>\n",
    "$\\qquad \\ h_{k+1,k} = \\|\\mathbf{y}\\|_2$ <br>\n",
    "$\\qquad$ `if` $h_{k+1,k}>0:$ <br>\n",
    "$\\qquad \\qquad\\ \\mathbf{q}_{k+1} = \\mathbf{y}/h_{k+1,k}$ <br>\n",
    "$\\qquad \\overline{\\mathbf{c}}_k=\\text{argmin}_{\\mathbf{c}_k}\\left\\|[\\|\\mathbf{r}\\|_2, \\ 0, \\ 0, \\ ..., \\ 0]^T-\\widehat{H}_k\\,\\mathbf{c}_k\\right\\|_2$ <br>\n",
    "$\\qquad$ $\\mathbf{x}_k = Q_k \\, \\overline{\\mathbf{c}}_k + \\mathbf{x}_0$ <br>\n",
    "`end`"
   ]
  },
  {
   "cell_type": "markdown",
   "metadata": {},
   "source": [
    "Now we have to implement it."
   ]
  },
  {
   "cell_type": "code",
   "execution_count": 8,
   "metadata": {},
   "outputs": [],
   "source": [
    "# This is a very instructive implementation of GMRes.\n",
    "def GMRes(A, b, x0=np.array([0.0]), m=10, flag_display=True, threshold=1e-12):\n",
    "    n = len(b)\n",
    "    if len(x0)==1:\n",
    "        x0=np.zeros(n)\n",
    "    r0 = b - np.dot(A, x0)\n",
    "    nr0=np.linalg.norm(r0)\n",
    "    out_res=np.array(nr0)\n",
    "    Q = np.zeros((n,n))\n",
    "    H = np.zeros((n,n))\n",
    "    Q[:,0] = r0 / nr0\n",
    "    flag_break=False\n",
    "    for k in np.arange(np.min((m,n))):\n",
    "        y = np.dot(A, Q[:,k])\n",
    "        if flag_display:\n",
    "            print('||y||=',np.linalg.norm(y))\n",
    "        for j in np.arange(k+1):\n",
    "            H[j][k] = np.dot(Q[:,j], y)\n",
    "            if flag_display:\n",
    "                print('H[',j,'][',k,']=',H[j][k])\n",
    "            y = y - np.dot(H[j][k],Q[:,j])\n",
    "            if flag_display:\n",
    "                print('||y||=',np.linalg.norm(y))\n",
    "        # All but the last equation are treated equally. Why?\n",
    "        if k+1<n:\n",
    "            H[k+1][k] = np.linalg.norm(y)\n",
    "            if flag_display:\n",
    "                print('H[',k+1,'][',k,']=',H[k+1][k])\n",
    "            if (np.abs(H[k+1][k]) > 1e-16):\n",
    "                Q[:,k+1] = y/H[k+1][k]\n",
    "            else:\n",
    "                print('flag_break has been activated')\n",
    "                flag_break=True\n",
    "            # Do you remember e_1? The canonical vector.\n",
    "            e1 = np.zeros((k+1)+1)        \n",
    "            e1[0]=1\n",
    "            H_tilde=H[0:(k+1)+1,0:k+1]\n",
    "        else:\n",
    "            H_tilde=H[0:k+1,0:k+1]\n",
    "        # Solving the 'SMALL' least square problem. \n",
    "        # This could be improved with Givens rotations!\n",
    "        ck = np.linalg.lstsq(H_tilde, nr0*e1,rcond=None)[0] \n",
    "        if k+1<n:\n",
    "            x = x0 + np.dot(Q[:,0:(k+1)], ck)\n",
    "        else:\n",
    "            x = x0 + np.dot(Q, ck)\n",
    "        # Why is 'norm_small' equal to 'norm_full'?\n",
    "        norm_small=np.linalg.norm(np.dot(H_tilde,ck)-nr0*e1)\n",
    "        out_res = np.append(out_res,norm_small)\n",
    "        if flag_display:\n",
    "            norm_full=np.linalg.norm(b-np.dot(A,x))\n",
    "            print('..........||b-A\\,x_k||=',norm_full)\n",
    "            print('..........||H_k\\,c_k-nr0*e1||',norm_small);\n",
    "        if flag_break:\n",
    "            if flag_display: \n",
    "                print('EXIT: flag_break=True')\n",
    "            break\n",
    "        if norm_small<threshold:\n",
    "            if flag_display:\n",
    "                print('EXIT: norm_small<threshold')\n",
    "            break\n",
    "    return x, out_res"
   ]
  },
  {
   "cell_type": "markdown",
   "metadata": {},
   "source": [
    "<div id='AVSE' />\n",
    "\n",
    "## A very simple example\n",
    "[Back to TOC](#toc)"
   ]
  },
  {
   "cell_type": "code",
   "execution_count": 9,
   "metadata": {},
   "outputs": [],
   "source": [
    "A = np.array([[1,1,0],[0,1,0],[0,1,1]])\n",
    "b = np.array([1,2,3])\n",
    "x0 = np.zeros(3)"
   ]
  },
  {
   "cell_type": "code",
   "execution_count": 4,
   "metadata": {},
   "outputs": [
    {
     "name": "stdout",
     "output_type": "stream",
     "text": [
      "||y||= 1.647508942095828\n",
      "H[ 0 ][ 0 ]= 1.5714285714285716\n",
      "||y||= 0.4948716593053935\n",
      "H[ 1 ][ 0 ]= 0.4948716593053935\n",
      "..........||b-A\\,x_k||= 1.1239029738980326\n",
      "..........||H_k\\,c_k-nr0*e1|| 1.1239029738980326\n",
      "||y||= 0.7867957924694438\n",
      "H[ 0 ][ 1 ]= -0.6598288790738589\n",
      "||y||= 0.4285714285714284\n",
      "H[ 1 ][ 1 ]= 0.4285714285714284\n",
      "||y||= 3.387999773988765e-16\n",
      "H[ 2 ][ 1 ]= 3.387999773988765e-16\n",
      "..........||b-A\\,x_k||= 1.9484335006297032e-15\n",
      "..........||H_k\\,c_k-nr0*e1|| 2.3497118783862944e-15\n",
      "EXIT: norm_small<threshold\n",
      "--------------------------------\n",
      "x_scipy [-1.  2.  1.]\n",
      "x_our [-1.  2.  1.]\n",
      "x_np [-1.  2.  1.]\n"
     ]
    }
   ],
   "source": [
    "# scipy gmres\n",
    "x_scipy = scipy.sparse.linalg.gmres(A,b,x0)[0]\n",
    "# our gmres\n",
    "x_our, _ = GMRes(A,b)\n",
    "# numpy solve\n",
    "x_np= np.linalg.solve(A,b)\n",
    "\n",
    "# Showing the solutions\n",
    "print('--------------------------------')\n",
    "print('x_scipy',x_scipy)\n",
    "print('x_our',x_our)\n",
    "print('x_np',x_np)"
   ]
  },
  {
   "cell_type": "markdown",
   "metadata": {},
   "source": [
    "<div id='AEx' />\n",
    "\n",
    "## Another example, how may iteration does it need to converge?\n",
    "[Back to TOC](#toc)"
   ]
  },
  {
   "cell_type": "code",
   "execution_count": 13,
   "metadata": {},
   "outputs": [
    {
     "name": "stdout",
     "output_type": "stream",
     "text": [
      "||y||= 0.9999999999999999\n",
      "H[ 0 ][ 0 ]= 0.0\n",
      "||y||= 0.9999999999999999\n",
      "H[ 1 ][ 0 ]= 0.9999999999999999\n",
      "..........||b-A\\,x_k||= 1.4142135623730951\n",
      "..........||H_k\\,c_k-nr0*e1|| 1.4142135623730951\n",
      "||y||= 1.0\n",
      "H[ 0 ][ 1 ]= 1.0\n",
      "||y||= 1.5700924586837752e-16\n",
      "H[ 1 ][ 1 ]= 0.0\n",
      "||y||= 1.5700924586837752e-16\n",
      "H[ 2 ][ 1 ]= 1.5700924586837752e-16\n",
      "..........||b-A\\,x_k||= 3.1401849173675503e-16\n",
      "..........||H_k\\,c_k-nr0*e1|| 2.2204460492503136e-16\n",
      "EXIT: norm_small<threshold\n",
      "3.1401849173675503e-16\n"
     ]
    }
   ],
   "source": [
    "A = np.array([[0,0,0,1],[1,0,0,0],[0,1,0,0],[0,0,1,0]])\n",
    "b = np.array([1,0,1,0])\n",
    "x_our, _ = GMRes(A, b, m=10)\n",
    "norm_full=np.linalg.norm(b-np.dot(A,x_our))\n",
    "print(norm_full)"
   ]
  },
  {
   "cell_type": "code",
   "execution_count": 16,
   "metadata": {
    "scrolled": false
   },
   "outputs": [
    {
     "name": "stdout",
     "output_type": "stream",
     "text": [
      "||y||= 13.957320912931099\n",
      "H[ 0 ][ 0 ]= 13.794371422599848\n",
      "||y||= 2.1265286553217195\n",
      "H[ 1 ][ 0 ]= 2.1265286553217195\n",
      "..........||b-A\\,x_k||= 0.2607164235550259\n",
      "..........||H_k\\,c_k-nr0*e1|| 0.2607164235550259\n",
      "||y||= 11.399856535583883\n",
      "H[ 0 ][ 1 ]= 1.2819124253671323\n",
      "||y||= 11.32755179046134\n",
      "H[ 1 ][ 1 ]= 11.272428289304141\n",
      "||y||= 1.1161496441246697\n",
      "H[ 2 ][ 1 ]= 1.1161496441246697\n",
      "..........||b-A\\,x_k||= 0.026448943754714224\n",
      "..........||H_k\\,c_k-nr0*e1|| 0.026448943754714183\n",
      "||y||= 9.587291240428852\n",
      "H[ 0 ][ 2 ]= 0.5893086814266785\n",
      "||y||= 9.569162377491509\n",
      "H[ 1 ][ 2 ]= -0.0009431548570300041\n",
      "||y||= 9.569162331011938\n",
      "H[ 2 ][ 2 ]= 9.558387314130258\n",
      "||y||= 0.4539820154274888\n",
      "H[ 3 ][ 2 ]= 0.4539820154274888\n",
      "..........||b-A\\,x_k||= 0.0012600714394027273\n",
      "..........||H_k\\,c_k-nr0*e1|| 0.0012600714394028752\n",
      "||y||= 10.065824732823586\n",
      "H[ 0 ][ 3 ]= -0.15969312195617302\n",
      "||y||= 10.064557896833962\n",
      "H[ 1 ][ 3 ]= -0.5111204432605487\n",
      "||y||= 10.051571098649406\n",
      "H[ 2 ][ 3 ]= 0.1501825598833464\n",
      "||y||= 10.050449082001803\n",
      "H[ 3 ][ 3 ]= 9.986782401612611\n",
      "||y||= 1.129470678128281\n",
      "H[ 4 ][ 3 ]= 1.129470678128281\n",
      "..........||b-A\\,x_k||= 0.00014189853051179089\n",
      "..........||H_k\\,c_k-nr0*e1|| 0.00014189853051186954\n",
      "||y||= 9.836718295043294\n",
      "H[ 0 ][ 4 ]= 0.5484095243466489\n",
      "||y||= 9.821419134200786\n",
      "H[ 1 ][ 4 ]= 0.5232904017808595\n",
      "||y||= 9.807468631866703\n",
      "H[ 2 ][ 4 ]= -0.08467716371044087\n",
      "||y||= 9.807103075985042\n",
      "H[ 3 ][ 4 ]= -0.49057810640902855\n",
      "||y||= 9.794825361613519\n",
      "H[ 4 ][ 4 ]= 9.786516337178758\n",
      "||y||= 0.4033631696631198\n",
      "H[ 5 ][ 4 ]= 0.4033631696631198\n",
      "..........||b-A\\,x_k||= 5.848186681201243e-06\n",
      "..........||H_k\\,c_k-nr0*e1|| 5.848186681167597e-06\n",
      "||y||= 10.287382027383112\n",
      "H[ 0 ][ 5 ]= 0.4720590053423689\n",
      "||y||= 10.276545590459872\n",
      "H[ 1 ][ 5 ]= 0.210599692504164\n",
      "||y||= 10.274387429054705\n",
      "H[ 2 ][ 5 ]= -0.07321443007073242\n",
      "||y||= 10.274126565774182\n",
      "H[ 3 ][ 5 ]= -0.4228372179627453\n",
      "||y||= 10.26542183140334\n",
      "H[ 4 ][ 5 ]= -0.1074399044998271\n",
      "||y||= 10.264859572520875\n",
      "H[ 5 ][ 5 ]= 10.258449298316966\n",
      "||y||= 0.3627120585720267\n",
      "H[ 6 ][ 5 ]= 0.3627120585720267\n",
      "..........||b-A\\,x_k||= 2.067734931727496e-07\n",
      "..........||H_k\\,c_k-nr0*e1|| 2.0677349326922795e-07\n",
      "||y||= 10.081697674018754\n",
      "H[ 0 ][ 6 ]= -0.33883528087565973\n",
      "||y||= 10.07600211605521\n",
      "H[ 1 ][ 6 ]= 0.019933936501809413\n",
      "||y||= 10.075982397807403\n",
      "H[ 2 ][ 6 ]= -0.7644428469640405\n",
      "||y||= 10.046942242028175\n",
      "H[ 3 ][ 6 ]= 0.005128646131541181\n",
      "||y||= 10.0469409330223\n",
      "H[ 4 ][ 6 ]= 0.11620549679300574\n",
      "||y||= 10.046268879248359\n",
      "H[ 5 ][ 6 ]= -0.37230016772357677\n",
      "||y||= 10.039368056768668\n",
      "H[ 6 ][ 6 ]= 10.034052620170495\n",
      "||y||= 0.32664812094467927\n",
      "H[ 7 ][ 6 ]= 0.32664812094467927\n",
      "..........||b-A\\,x_k||= 6.723019710166756e-09\n",
      "..........||H_k\\,c_k-nr0*e1|| 6.723019707067295e-09\n",
      "||y||= 10.576299301736086\n",
      "H[ 0 ][ 7 ]= 0.04965190101080613\n",
      "||y||= 10.576182752232926\n",
      "H[ 1 ][ 7 ]= 0.22716306888339555\n",
      "||y||= 10.573742882667645\n",
      "H[ 2 ][ 7 ]= 0.30516270221754227\n",
      "||y||= 10.569338402849063\n",
      "H[ 3 ][ 7 ]= -0.23394873852356526\n",
      "||y||= 10.56674889744633\n",
      "H[ 4 ][ 7 ]= 0.23580016832023398\n",
      "||y||= 10.56411759411563\n",
      "H[ 5 ][ 7 ]= 0.32619337735231746\n",
      "||y||= 10.559080377706898\n",
      "H[ 6 ][ 7 ]= -0.1462922879985188\n",
      "||y||= 10.558066915366043\n",
      "H[ 7 ][ 7 ]= 10.551451715886461\n",
      "||y||= 0.37368927822950554\n",
      "H[ 8 ][ 7 ]= 0.37368927822950554\n",
      "..........||b-A\\,x_k||= 2.379630080927967e-10\n",
      "..........||H_k\\,c_k-nr0*e1|| 2.379631131400587e-10\n",
      "||y||= 10.27247448351114\n",
      "H[ 0 ][ 8 ]= 0.46321250193078\n",
      "||y||= 10.262025442983587\n",
      "H[ 1 ][ 8 ]= 0.3342108972752169\n",
      "||y||= 10.256581753614846\n",
      "H[ 2 ][ 8 ]= -0.28279669980107836\n",
      "||y||= 10.252682346350472\n",
      "H[ 3 ][ 8 ]= -0.26062223987428557\n",
      "||y||= 10.249369314413913\n",
      "H[ 4 ][ 8 ]= -0.17453466497405662\n",
      "||y||= 10.247883146970985\n",
      "H[ 5 ][ 8 ]= 0.5717016066349526\n",
      "||y||= 10.231923879063162\n",
      "H[ 6 ][ 8 ]= 0.26271394762208167\n",
      "||y||= 10.228550613291588\n",
      "H[ 7 ][ 8 ]= -0.41648753797711824\n",
      "||y||= 10.220067797200638\n",
      "H[ 8 ][ 8 ]= 10.21798744083252\n",
      "||y||= 0.20619999603880343\n",
      "H[ 9 ][ 8 ]= 0.20619999603880343\n",
      "..........||b-A\\,x_k||= 4.797059483409064e-12\n",
      "..........||H_k\\,c_k-nr0*e1|| 4.797101507001003e-12\n",
      "||y||= 9.412060272099675\n",
      "H[ 0 ][ 9 ]= 0.3363948994190519\n",
      "||y||= 9.406046833674699\n",
      "H[ 1 ][ 9 ]= 0.2742640540846648\n",
      "||y||= 9.402047450737467\n",
      "H[ 2 ][ 9 ]= -0.19559617608505064\n",
      "||y||= 9.400012680939309\n",
      "H[ 3 ][ 9 ]= -0.003840039045634569\n",
      "||y||= 9.400011896583957\n",
      "H[ 4 ][ 9 ]= 0.10488214823292319\n",
      "||y||= 9.399426758632782\n",
      "H[ 5 ][ 9 ]= -0.47674283131962514\n",
      "||y||= 9.387328675597084\n",
      "H[ 6 ][ 9 ]= 0.08700488273994056\n",
      "||y||= 9.38692547185002\n",
      "H[ 7 ][ 9 ]= -0.07862524828572359\n",
      "||y||= 9.386596182024597\n",
      "H[ 8 ][ 9 ]= 0.42339273506799446\n",
      "||y||= 9.377042522900831\n",
      "H[ 9 ][ 9 ]= 9.377042517334337\n",
      "||y||= 0.0003231014263170981\n",
      "..........||b-A\\,x_k||= 2.14509482847029e-15\n",
      "..........||H_k\\,c_k-nr0*e1|| 2.2659856212287715e-15\n",
      "2.14509482847029e-15\n"
     ]
    }
   ],
   "source": [
    "A = np.random.rand(10,10)+10*np.eye(10)\n",
    "b = np.random.rand(10)\n",
    "x_our, out_res = GMRes(A, b, m=10,flag_display=True, threshold=1e-15)\n",
    "norm_full=np.linalg.norm(b-np.dot(A,x_our))\n",
    "print(norm_full)"
   ]
  },
  {
   "cell_type": "markdown",
   "metadata": {},
   "source": [
    "<div id='Proi' />\n",
    "\n",
    "## Plotting the residual over the iterations\n",
    "[Back to TOC](#toc)"
   ]
  },
  {
   "cell_type": "code",
   "execution_count": 17,
   "metadata": {},
   "outputs": [
    {
     "data": {
      "image/png": "[encoded data removed]",
      "text/plain": [
       "<Figure size 576x576 with 1 Axes>"
      ]
     },
     "metadata": {
      "needs_background": "light"
     },
     "output_type": "display_data"
    }
   ],
   "source": [
    "plt.figure(figsize=(M,M))\n",
    "plt.semilogy(out_res,'.k',markersize=20,label='residual')\n",
    "plt.grid(True)\n",
    "plt.xlabel(r'$k$')\n",
    "plt.ylabel(r'$\\|\\|\\mathbf{b}-A\\,\\mathbf{x}_k\\|\\|_2$')\n",
    "plt.grid(True)\n",
    "plt.show()"
   ]
  },
  {
   "cell_type": "markdown",
   "metadata": {},
   "source": [
    "<div id='TP' />\n",
    "\n",
    "## Theoretical Problems\n",
    "[Back to TOC](#toc)"
   ]
  },
  {
   "cell_type": "markdown",
   "metadata": {},
   "source": [
    "1. Prove that in GMRES method, the backward error $||b- Ax_k||$ decreases monotonically with k.\n",
    "2. What would happen if we pass a singular matrix $A$ to the previous implementation of GMRes?\n",
    "3. Prove that for\n",
    "\\begin{equation}\n",
    "A=\n",
    "\\left[\n",
    "\\begin{array}{c|c}\n",
    "I & C \\\\\n",
    "\\hline\n",
    "0 & I\n",
    "\\end{array}\n",
    "\\right]\n",
    "\\end{equation}\n",
    "and any $x_0$ and $b$, GMRES converges to the exact solution after **two** steps. Here $C$ is a $m_1 \\times m_2$ submatrix, $0$ denotes the $m_2 \\times m_1$ matrix of zeros, and $I$ denotes the appropiate-sized identity matrix."
   ]
  },
  {
   "cell_type": "markdown",
   "metadata": {},
   "source": [
    "<div id='PP' />\n",
    "\n",
    "## Practical Problems\n",
    "[Back to TOC](#toc)"
   ]
  },
  {
   "cell_type": "markdown",
   "metadata": {},
   "source": [
    "1. A possible improvement to the present algorithm consists on taking out of the loop the least squares computations, since the _Krylov_ subspace spaned by $Q_k$ doesn't depend on previous least squares calculations.\n",
    "    * Verify the truth of the above statement.\n",
    "    * Verify if it is really an improvement.\n",
    "    * Implement it.\n",
    "    * Test both implementations using `%timeit`\n",
    "1. The GMRES method is meant for huge $n\\times n$ sparse matrices $A$. In most cases, the goal is to run the method for $k$ steps (with $k << n$), reducing the complexity of the subproblems (Least squares). Neverthless for $k$ values too small, the solution $x_k$ could be not as good as needed. So to keep the values $k$ small and avoid bad solutions, there exists a variation of the algorithm known as **Restarted GMRES**: If no enough progress is made toward the solution after $k$ iterations, discard $Q_k$ and start GMRES from the beginning, using the current best guess $x_k$ as the new $x_0$.\n",
    "    * Implement the Restarted GMRES method. Introduce a tolerance parameter to stop restarting.\n",
    "    * Compare the asymptotic operation count and storage requirements of GMRES and Restarted GMRES, for fixed $k$ and increasing $n$.\n",
    "    * Execute it on a _huge_ linear system $A x = b$, and compare the solution with the solution of standard GMRES. Keep a value of $k$ small, and count how many times Restarted GMRES has to restart. Perform benchmarks using `%timeit` and `%memit` and verify the results.\n",
    "    * Describe an example in which Restared GMRES can be expected to fail to converge, whereas GMRES succeds."
   ]
  },
  {
   "cell_type": "markdown",
   "metadata": {},
   "source": [
    "<div id='acknowledgements' />\n",
    "\n",
    "# Acknowledgements\n",
    "[Back to TOC](#toc)\n",
    "\n",
    "* _Material created by professor Claudio Torres_ (`ctorres@inf.utfsm.cl`) _and assistants: Laura Bermeo, Alvaro Salinas, Axel Simonsen and Martín Villanueva. DI UTFSM. April 2016._\n",
    "* _Material updated by professor Claudio Torres_ (`ctorres@inf.utfsm.cl`). DI UTFSM. June 2017.\n",
    "* _Update July 2020 - v1.21 - C.Torres_ : Fixing formatting issues.\n",
    "* _Update June 2021 - v1.22 - C.Torres_ : Updating format and adding link to TOC. Improving GMRes description. Adding `rcond=None` to  np.linalg.lstsq."
   ]
  },
  {
   "cell_type": "code",
   "execution_count": null,
   "metadata": {},
   "outputs": [],
   "source": []
  }
 ],
 "metadata": {
  "anaconda-cloud": {},
  "kernelspec": {
   "display_name": "Python 3",
   "language": "python",
   "name": "python3"
  },
  "language_info": {
   "codemirror_mode": {
    "name": "ipython",
    "version": 3
   },
   "file_extension": ".py",
   "mimetype": "text/x-python",
   "name": "python",
   "nbconvert_exporter": "python",
   "pygments_lexer": "ipython3",
   "version": "3.8.8"
  }
 },
 "nbformat": 4,
 "nbformat_minor": 4
}
