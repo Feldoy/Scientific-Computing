{
 "cells": [
  {
   "cell_type": "markdown",
   "metadata": {},
   "source": [
    "<center>\n",
    "    <img src=\"http://sct.inf.utfsm.cl/wp-content/uploads/2020/04/logo_di.png\" style=\"width:60%\">\n",
    "    <h1> INF285 - Computación Científica </h1>\n",
    "    <h2> Numerical Integration </h2>\n",
    "    <h2> <a href=\"#acknowledgements\"> [S]cientific [C]omputing [T]eam </a> </h2>\n",
    "    <h2> Version: 1.26</h2>\n",
    "</center>"
   ]
  },
  {
   "cell_type": "markdown",
   "metadata": {},
   "source": [
    "<div id='toc' />\n",
    "\n",
    "## Table of Contents\n",
    "* [Introduction](#intro)\n",
    "* [Preliminary functions](#config)\n",
    "* [Riemann Sums](#sr)\n",
    "* [Midpoint Rule](#mp)\n",
    "* [Trapezoid Rule](#rt)\n",
    "* [Simpson's Rule](#rs)\n",
    "* [Gaussian Quadrature](#cg)\n",
    "* [Convergence Analysis](#ca)\n",
    "* [Time Analysis](#ta)\n",
    "* [Acknowledgements](#acknowledgements)"
   ]
  },
  {
   "cell_type": "code",
   "execution_count": 1,
   "metadata": {},
   "outputs": [],
   "source": [
    "import numpy as np\n",
    "from matplotlib import pyplot as plt\n",
    "import math\n",
    "import time\n",
    "%matplotlib inline\n",
    "from ipywidgets import interact\n",
    "import inspect\n",
    "import matplotlib as mpl\n",
    "mpl.rcParams['font.size'] = 14\n",
    "mpl.rcParams['axes.labelsize'] = 20\n",
    "mpl.rcParams['xtick.labelsize'] = 14\n",
    "mpl.rcParams['ytick.labelsize'] = 14\n",
    "from scipy.interpolate import BarycentricInterpolator\n",
    "from scipy import integrate\n",
    "import pandas as pd\n",
    "from IPython.display import display"
   ]
  },
  {
   "cell_type": "markdown",
   "metadata": {},
   "source": [
    "<div id='intro' />\n",
    "\n",
    "# Introduction\n",
    "[Back to TOC](#toc)\n",
    "\n",
    "In this jupyter notebook we will study different numerical methods to integrate a function numerically.\n",
    "Here we mention a few reasons of why we may need to numerically integrate a function:\n",
    "- The computation of the anti-derivative may be too expensive. One could usually use a package for symbolic computation as `SymPy`, and it would be a good alternative, but it may be a bit slow for certain applications. Anyhow, it is recommended to try it out.\n",
    "- We may face the need to obtain the integral of a function that does not have an anti-derivative, such as $\\frac{\\sin(x)}{x}$ or $\\exp(-x^2)$, for instance.\n",
    "\n",
    "Thus, it is quite useful to be able to compute derivatives of a function! For instance, as we mentioned before, there does not exist the anti-derivative for some functions, however we may be able to build it numerically!"
   ]
  },
  {
   "cell_type": "markdown",
   "metadata": {},
   "source": [
    "<div id='config' />\n",
    "\n",
    "# Preliminary functions\n",
    "[Back to TOC](#toc)"
   ]
  },
  {
   "cell_type": "markdown",
   "metadata": {},
   "source": [
    "The next function will allow to visualize a graphical interpretation of the different algorithms we will study, which may be useful, but the heart of this is the algebraic understanding."
   ]
  },
  {
   "cell_type": "code",
   "execution_count": 2,
   "metadata": {},
   "outputs": [],
   "source": [
    "###########################################################################\n",
    "# General plotting framework\n",
    "###########################################################################\n",
    "def plot(f, xbin, ybin, int_val, m, text, figname='', type_quadrature='close', save_file=False):\n",
    "    plt.figure(figsize=(12,6))\n",
    "    n = 201\n",
    "    # Get a representation of f as a continuous function\n",
    "    x = np.linspace(xbin.min(), xbin.max(), n)\n",
    "    y = f(x)\n",
    "    # Plot the function\n",
    "    plt.plot(x, y, 'r', lw=2.0)\n",
    "    plt.grid(True)\n",
    "    # Plot the interpolation\n",
    "    plt.fill_between(xbin, 0, ybin, alpha=0.25, lw=2.0)\n",
    "    # Setting the lims\n",
    "    ymin, ymax = y.min(), y.max()\n",
    "    if abs(ymax-ymin)<1E-6:\n",
    "        ymin, ymax = 0.0, 1.0\n",
    "    dy = .1*(ymax-ymin)\n",
    "    plt.ylim([ymin-dy,ymax+dy])\n",
    "    xmin, xmax = x.min(), x.max()\n",
    "    if abs(b-a)<1e-6:\n",
    "        xmin, xmax = 0.0, 1.0\n",
    "    dx = .1*(b-a)\n",
    "    plt.xlim([xmin-dx,xmax+dx])\n",
    "    # Do the text\n",
    "    if m>1:\n",
    "        if type_quadrature=='close':\n",
    "            text_image = r\"$%s \\approx %.10f$ (using %d eval.)\" %(text, int_val, m+1)\n",
    "        else:\n",
    "            text_image = r\"$%s \\approx %.10f$ (using %d eval.)\" %(text, int_val, m)\n",
    "        plt.text(min(x), max(y), text_image, fontsize=18)\n",
    "    plt.xlabel(\"x\")\n",
    "    plt.ylabel(\"y\")\n",
    "    if save_file:\n",
    "        plt.savefig(figname)\n",
    "        plt.close()\n",
    "    else:\n",
    "        plt.show()\n",
    "    return"
   ]
  },
  {
   "cell_type": "markdown",
   "metadata": {},
   "source": [
    "### Some parameters\n",
    "\n",
    "For the initial numerical experiments, we will consider the function we will integrate is $f(x)$ defined on the domain $[a,b]$. An we will consider that we will integrate numerically the function $f(x)$ with $m$ intervals on the domain $[a,b]$."
   ]
  },
  {
   "cell_type": "code",
   "execution_count": 3,
   "metadata": {},
   "outputs": [],
   "source": [
    "#limits of integration\n",
    "a = -1; b = 1\n",
    "#function to integrate\n",
    "myfun = lambda x : np.exp(x)\n",
    "#text to show in the graphs\n",
    "# int_exact = integrate.quad(myfun,-1,1,epsabs=1e-12, epsrel=1e-12)[0]\n",
    "int_exact=np.exp(1)-np.exp(-1) # We know it, so we use it!\n",
    "text= r\"\\int_{%+.2f}^{%+.2f} \\exp(x) dx = %.10f\" %(a,b,int_exact)"
   ]
  },
  {
   "cell_type": "markdown",
   "metadata": {},
   "source": [
    "<div id='sr' />\n",
    "\n",
    "# Riemann's Sums\n",
    "[Back to TOC](#toc)\n",
    "\n",
    "As a first numerical approximation of an definite integral we have the Riemann sum, this theory goes beyond of this course but it may be interesting to take a look to it!\n",
    "What we will discuss here are the two well known Riemann sum, the left and the right version.\n",
    "They way they work is to approximate the integral as a weighted sum, where the weight is defined different from the left and the right version.\n",
    "In both cases the integration domain $[a,b]$ is divided in intervals, bot necessarily equalspaced but we will consider them as equalspaced for simplicity.\n",
    "This means $a = x_0 < x_1 < \\cdots < x_{m-1} < x_m = b$ and, as we mentioned before, we have $h=x_{k+1}-x_{k}$.\n",
    "\n",
    "## Left Riemann sum\n",
    "This alternative approximate the integral on the interval $[x_k,x_{k+1}]$ as $f(x_{k})\\,h$, thus, its composite version is as follows,\n",
    "\\begin{align*}\n",
    "c = \\int_a^b f(x) dx & \\approx \\sum_{k=0}^{m-1} f(x_{k})\\,h\n",
    "\\end{align*}\n",
    "\n",
    "## Right Riemann sum\n",
    "On the other hand, this alternative approximate the integral on the interval $[x_{k},x_{k+1}]$ as $f(x_{k+1})\\,h$, thus, its composite version is as follows,\n",
    "\\begin{align*}\n",
    "c = \\int_a^b f(x) dx & \\approx \\sum_{k=0}^{m-1} f(x_{k+1})\\,h\n",
    "\\end{align*}\n",
    "\n",
    "\n",
    "Thus, their numerical implementation can be build in one function, where we only need to indicate which version is considered."
   ]
  },
  {
   "cell_type": "code",
   "execution_count": 4,
   "metadata": {},
   "outputs": [
    {
     "data": {
      "image/png": "[encoded data removed]",
      "text/plain": [
       "<Figure size 864x432 with 1 Axes>"
      ]
     },
     "metadata": {
      "needs_background": "light"
     },
     "output_type": "display_data"
    },
    {
     "name": "stdout",
     "output_type": "stream",
     "text": [
      "Approximated integral: 1.9115773555576518\n"
     ]
    },
    {
     "data": {
      "image/png": "[encoded data removed]",
      "text/plain": [
       "<Figure size 864x432 with 1 Axes>"
      ]
     },
     "metadata": {
      "needs_background": "light"
     },
     "output_type": "display_data"
    },
    {
     "name": "stdout",
     "output_type": "stream",
     "text": [
      "Approximated integral: 2.851738310472693\n"
     ]
    }
   ],
   "source": [
    "###########################################################################\n",
    "# Riemann Rule\n",
    "###########################################################################\n",
    "def riemann(myfun, m, a, b, direction='left', verbose=False, text=text, figname='', save_file=False):\n",
    "    f = np.vectorize(myfun) # So we can apply it to arrays without trouble\n",
    "    x = np.linspace(a, b, m+1) # We want m bins, so we need m+1 points  \n",
    "    h = (b-a)/m\n",
    "    if direction in 'left':\n",
    "        xi = x[:-1]\n",
    "    elif direction in 'right':\n",
    "        xi = x[1:]\n",
    "    else:\n",
    "        print(\"Riemann Sum: You must choose direction='left' or direction='right'.\")\n",
    "        return\n",
    "    w = np.full(m,h)\n",
    "    int_val = np.dot(f(xi),w)\n",
    "    if verbose:\n",
    "        xbin = np.vstack([x[:-1], x[1:]]).flatten('F')\n",
    "        ybin = np.vstack([f(xi), f(xi)]).flatten('F')\n",
    "        plot(f, xbin, ybin, int_val, m, text, figname, type_quadrature='riemann', save_file=save_file)\n",
    "    return int_val\n",
    "\n",
    "m=5\n",
    "print('Approximated integral: {0}'.format(riemann(myfun, m, a, b, direction=\"left\", \n",
    "                                    verbose=True, figname=\"riemann_left_%d.png\"%m)))\n",
    "print('Approximated integral: {0}'.format(riemann(myfun, m, a, b, direction=\"right\", \n",
    "                                    verbose=True, figname=\"riemann_right_%d.png\"%m)))"
   ]
  },
  {
   "cell_type": "markdown",
   "metadata": {},
   "source": [
    "<div id='mp' />\n",
    "\n",
    "## Midpoint Rule\n",
    "[Back to TOC](#toc)\n",
    "\n",
    "The _midpoint rule_ approximates the integral on the interval $[x_{k},x_{k+1}]$ as $f\\left(\\dfrac{x_k+x_{k+1}}{2}\\right)\\,h$.\n",
    "One way to understand this method is by finding the best linear function within the interval $[x_k,x_{k+1}]$,\n",
    "which end up being the line obtained by the Taylor approximation at the middle of the interval.\n",
    "The composite version is as follows,\n",
    "\\begin{align*}\n",
    "\\int_{a}^{b} f(x) dx &= \\sum_{i=1}^{m} \\int_{x_{i-1}}^{x_{i}} f(x) dx  \\\\\n",
    "                     &= \\sum_{i=1}^{m} h\\,f(\\widehat{x}_i) + \\underbrace{\\frac{(b-a)}{24} h^2 f''(c)}_{\\text{Error term}}\n",
    "\\end{align*}\n",
    "where $h=(b-a)/m$, $\\widehat{x}_i=\\frac{1}{2}(x_{i-1}+x_{i})$ and $c\\in[a,b]$.\n",
    "One interesting feature of this method is that it does not require the evaluation of the function on the end points of the interval, which may be very useful in some cases.\n",
    "The error term included gives us very useful information, it tells us that if $h$ is decreased in half, the error decreases by a factor of $4$.\n",
    "This is very interesting! We say that the method is second order for this reason."
   ]
  },
  {
   "cell_type": "code",
   "execution_count": 5,
   "metadata": {},
   "outputs": [
    {
     "data": {
      "image/png": "[encoded data removed]",
      "text/plain": [
       "<Figure size 864x432 with 1 Axes>"
      ]
     },
     "metadata": {
      "needs_background": "light"
     },
     "output_type": "display_data"
    },
    {
     "name": "stdout",
     "output_type": "stream",
     "text": [
      "Approximated sum: 2.326096384556418\n"
     ]
    }
   ],
   "source": [
    "def midpoint(myfun, m, a, b, verbose=False, text='', figname='', save_file=False):\n",
    "    f = np.vectorize(myfun)\n",
    "    x = np.linspace(a, b, m+1)\n",
    "    h = (b-a)/m\n",
    "    xhat = x[:-1] + h/2\n",
    "    w = np.full(m,h)\n",
    "    int_val = np.dot(f(xhat),w)\n",
    "    if verbose:\n",
    "        xbin = np.vstack([x[:-1], x[1:]]).flatten('F')\n",
    "        ybin = np.vstack([f(xhat), f(xhat)]).flatten('F')\n",
    "        plot(f, xbin, ybin, int_val, m, text, figname, type_quadrature='open', save_file=save_file)\n",
    "    return int_val\n",
    "\n",
    "m = 4\n",
    "print('Approximated sum: {0}'.format(midpoint(myfun, m, a, b, \n",
    "    verbose=True, text=text, figname=\"midpoint_%d.png\"%m)))"
   ]
  },
  {
   "cell_type": "markdown",
   "metadata": {},
   "source": [
    "<div id='rt' />\n",
    "\n",
    "## Trapezoid Rule\n",
    "[Back to TOC](#toc)\n",
    "\n",
    "This algorithm approximate the integral on interval $[x_k,x_{k+1}]$ by building a polynomial approximation on the interval, in particular uses a linear approximation.\n",
    "The linear approximation is built with the points $(x_k,f(x_k))$ and $(x_{k+1},f(x_{k+1}))$.\n",
    "The shape obtained is an actual trapezoid, thus is the reason for the name of the method.\n",
    "In particular, the integral on the interval $[x_k,x_{k+1}]$ is approximated by $(f(x_k)+f(x_{k+1}))\\,h/2$.\n",
    "Now, the composite version becomes,\n",
    "\\begin{align*}\n",
    "\\int_{x_0}^{x_m} f(x) dx &= \\sum_{i=1}^{m} \\int_{x_{i-1}}^{x_{i}} f(x) dx\\\\\n",
    "                         &= \\frac{h}{2}\\left[f(a) + f(b) + 2\\sum_{i=1}^{m-1} f(x_i) \\right] - \\underbrace{(b-a) \\frac{h^2}{12} f''(c)}_{\\text{Error term}}\n",
    "\\end{align*}\n",
    "where $h=(b-a)/m$ is the length of the sub-interval, and $c\\in [a, b]$. \n",
    "In this case the error is also second order.\n",
    "\n",
    "Notice that the error analysis shown before means the following:\n",
    "\\begin{align*}\n",
    "\\left|\\int_{a}^{b} f(x) dx \n",
    "-\n",
    "\\frac{h}{2}\\left[f(a) + f(b) + 2\\sum_{i=1}^{m-1} f(x_i) \\right]\n",
    "\\right|\n",
    "& =  |b-a| \\frac{h^2}{12} \\left|f''(c)\\right| \\leq |b-a| \\frac{h^2}{12} \\max_{y\\in [a,b]}\\left|f''(y)\\right|\n",
    "\\end{align*}\n",
    "This has the following interpretations:\n",
    "1. The trapezoidal rule will integrate exactly up to linear functions since they will have null second derivative.\n",
    "2. If the hand bounded second derivative on the integration interval, this means $\\displaystyle\\max_{y\\in [a,b]}\\left|f''(y)\\right|<\\infty$, the method will converge cuadratically due to the $h^2$ term.\n",
    "3. If the second derivative is not bounded on the interval, we may have issued of convergence. Recall that even if the second derivative is not bounded, the integral may still exists, the problem is that we may not be able to get it with all algorithms.\n",
    "4. This analysis is valid for all algorithm, adapting it correspondingly to the error term they have."
   ]
  },
  {
   "cell_type": "code",
   "execution_count": 6,
   "metadata": {},
   "outputs": [
    {
     "data": {
      "image/png": "[encoded data removed]",
      "text/plain": [
       "<Figure size 864x432 with 1 Axes>"
      ]
     },
     "metadata": {
      "needs_background": "light"
     },
     "output_type": "display_data"
    },
    {
     "name": "stdout",
     "output_type": "stream",
     "text": [
      "Approximated sum: 2.3504031707550133\n"
     ]
    }
   ],
   "source": [
    "def trapezoid(myfun, m, a, b, verbose=False, text='', figname='', save_file=False):\n",
    "    f = np.vectorize(myfun)\n",
    "    x = np.linspace(a, b, m+1)\n",
    "    h = (b-a)/m\n",
    "    w  = np.full(m+1,h)\n",
    "    w[0] /=2\n",
    "    w[-1] /=2\n",
    "    int_val = np.dot(f(x),w)\n",
    "    if verbose:\n",
    "        xbin = x\n",
    "        ybin = f(x)\n",
    "        plot(f, xbin, ybin, int_val, m, text, figname, save_file=save_file)\n",
    "    return int_val\n",
    "\n",
    "m = 1000\n",
    "print('Approximated sum: {0}'.format(trapezoid(myfun, m, a, b, \n",
    "    verbose=True, text=text, figname=\"trapezoid_%d.png\"%m)))"
   ]
  },
  {
   "cell_type": "markdown",
   "metadata": {},
   "source": [
    "<div id='rs' />\n",
    "\n",
    "## Simpson's Rule\n",
    "[Back to TOC](#toc)\n",
    "\n",
    "The natural extension of the Trapezoid rules is the Simpson's rule, which approximate the function $f(x)$ with three points, i.e. it builds a parabola and then it integrates it.\n",
    "This the points used are $(x_k,f(x_k))$, $(x_{k+1},f(x_{k+1}))$ and $(x_{k+2},f(x_{k+2}))$.\n",
    "For simplicity, we only provide the composite version, which is,\n",
    "\\begin{align*}\n",
    "\\int_{a}^{b} f(x) dx &= \\frac{h}{3} \\left( f(x_0) + \\sum_{i=1}^{m} 4 f(x_{2i-1}) + \\sum_{i=1}^{m-1} 2 f(x_{2i}) +  f(x_N) \\right) - \\underbrace{(b-a)\\frac{h^4}{90} f^{(4)}(c)}_{\\text{Error term}}\n",
    "\\end{align*}\n",
    "where $h=(b-a)/m$ and $c\\in[a,b]$.\n",
    "In this, it is required that $m$ is an even number.\n",
    "We also notice that the error has a higher order exponent of $h$, which is $h^4$, thus if we decrease $h$ by $2$, the the error decreases by $16$.\n",
    "This is wonderful!"
   ]
  },
  {
   "cell_type": "code",
   "execution_count": 7,
   "metadata": {},
   "outputs": [
    {
     "data": {
      "image/png": "[encoded data removed]",
      "text/plain": [
       "<Figure size 864x432 with 1 Axes>"
      ]
     },
     "metadata": {
      "needs_background": "light"
     },
     "output_type": "display_data"
    },
    {
     "name": "stdout",
     "output_type": "stream",
     "text": [
      "Approximated sum: 2.3504036915138387\n"
     ]
    }
   ],
   "source": [
    "def simpsons(myfun, m, a, b, verbose=False, text=\"\", figname=\"\", save_file=False):\n",
    "    f = np.vectorize(myfun)\n",
    "    x = np.linspace(a, b, m+1)\n",
    "    if m%2==1:\n",
    "        if verbose: print(\"Simpson's rule is only applicable to an even number of segments.\")\n",
    "        return np.nan\n",
    "    h = (b-a)/m\n",
    "    w = np.full(m+1,h/3)\n",
    "    w[1:-1:2]*=4\n",
    "    w[2:-1:2]*=2\n",
    "    int_val = np.dot(f(x),w)\n",
    "    if verbose:\n",
    "        xbin, ybin = simpsons_bins(f, x)\n",
    "        plot(f, xbin, ybin, int_val, m, text, figname, save_file=save_file)\n",
    "    return int_val\n",
    "\n",
    "def simpsons_bins(f, xg):\n",
    "    xleft   = xg[:-2:2]\n",
    "    xmiddle = xg[1::2]\n",
    "    xright  = xg[2::2]\n",
    "    xbin, ybin = [], []\n",
    "    n = 21\n",
    "    for x0, x1, x2 in zip(xleft, xmiddle, xright):\n",
    "        xl = np.linspace(x0, x2, n)\n",
    "        p = BarycentricInterpolator([x0,x1,x2],f([x0,x1,x2]))\n",
    "        y = p(xl)\n",
    "        xbin.extend(list(xl))\n",
    "        ybin.extend(list(y))\n",
    "    return np.array(xbin), np.array(ybin)\n",
    "\n",
    "m=20\n",
    "print('Approximated sum: {0}'.format(simpsons(myfun, m, a, b, \n",
    "    verbose=True, text=text, figname=\"simpsons_%d.png\"%m)))"
   ]
  },
  {
   "cell_type": "markdown",
   "metadata": {},
   "source": [
    "<div id='cg' />\n",
    "\n",
    "## Gaussian Quadrature\n",
    "[Back to TOC](#toc)\n",
    "\n",
    "In a similar fashion used to introduce the Chebyshev points for polynomial interpolation, we have the followign question:\n",
    "\n",
    "### _Would it possible to find really good nodes $x_k$ and weights $w_k$ for numerically integrate a funcion on $[a,b]$? Moreover, is it be possible to find nodes $x_k$ and weights $w_k$ for $k\\in\\{1,2,\\dots,m\\}$ such that we can integrate exactly polynomials of degree $2\\,m-1$?_ \n",
    "\n",
    "The answer is yes! The points that define the nodes correspond to the roots of the Legendre polynomials $p_m(x)$, which is defined as follows:\n",
    "\\begin{align*}\n",
    "    p_m(x) = \\frac{1}{2^m m!} \\frac{d^m}{dx^m} \\left[ (x^2 - 1)^m \\right].\n",
    "\\end{align*}\n",
    "Given the $m$ nodes, we could build a polynomial interpolation of the function $f(x)$ at the nodes $x_i$, generating the polynomial $Q(x)=\\sum_{i=1}^m L_i(x)\\,f(x_i)$, where $L_i(x)$ is the Lagrange polynomial from the Lagrange interpolation. \n",
    "For simplicity, we will use the interval $[-1,1]$, thus,\n",
    "\\begin{align*}\n",
    "    \\int_{-1}^1 f(x)\\,dx & \\approx \\int_{-1}^1 Q(x)\\,dx\\\\\n",
    "                         & \\approx \\int_{-1}^1 \\sum_{i=1}^m L_i(x)\\,f(x_i)\\,dx\\\\\n",
    "                         & \\approx \\sum_{i=1}^m f(x_i)\\underbrace{\\int_{-1}^1  L_i(x)\\,dx}_{w_i}.\n",
    "\\end{align*}\n",
    "Unfortunately this procedure is quite cumbersome for computing the nodes and weights of the Gaussian Quadrature.\n",
    "So, what do we do then?\n",
    "Fortunately we have a procedure ```gaussian_nodes_and_weights(m, a, b)``` that efficiently computes them! \n",
    "More details on this procedure are in the appendix of the classnotes."
   ]
  },
  {
   "cell_type": "code",
   "execution_count": 8,
   "metadata": {},
   "outputs": [],
   "source": [
    "# Comment: These nodes could be precomputed in advance, here\n",
    "# they are computed as needed so it will penalize the \n",
    "# computation time.\n",
    "def gaussian_nodes_and_weights(m, a, b):\n",
    "    if m==1: \n",
    "        return np.array([1]), np.array([2])\n",
    "    beta = .5 / np.sqrt(1.-(2.*np.arange(1.,m))**(-2))\n",
    "    T = np.diag(beta,1) + np.diag(beta,-1)\n",
    "    D, V = np.linalg.eigh(T)\n",
    "    x = D\n",
    "    x = .5 * ((b-a)*x + b + a)\n",
    "    w = 2*V[0,:]**2\n",
    "    w = .5*(b-a)*w\n",
    "    return x, w\n",
    "\n",
    "# This procedure precomputed the Gaussian nodes and weights\n",
    "# to be used in the 'gaussianquad' procedure.\n",
    "gaussian_nodes_and_weights_precomputed_canonical={}\n",
    "for i in range(1,101):\n",
    "    x,w = gaussian_nodes_and_weights(i, -1, 1)\n",
    "    gaussian_nodes_and_weights_precomputed_canonical[i]=(x,w)\n",
    "for i in [216, 1024]:\n",
    "    x,w = gaussian_nodes_and_weights(i, -1, 1)\n",
    "    gaussian_nodes_and_weights_precomputed_canonical[i]=(x,w)\n",
    "\n",
    "def gaussianquad(myfun, m, a, b, verbose=False, text=\"\", figname=\"\", save_file=False, use_precomputed_values=True):\n",
    "    f = np.vectorize(myfun)\n",
    "    if use_precomputed_values or m>100:\n",
    "        x, w = gaussian_nodes_and_weights(m, a, b)\n",
    "    else:\n",
    "        x, w = gaussian_nodes_and_weights_precomputed_canonical[m]\n",
    "        x = .5 * ((b-a)*x + b + a)\n",
    "        w = .5*(b-a)*w\n",
    "    int_val = np.dot(f(x),w)\n",
    "    if verbose:\n",
    "        xbin, ybin = gaussian_bins(f, x, w)\n",
    "        plot(f, xbin, ybin, int_val, m, text, figname, type_quadrature='open', save_file=save_file)\n",
    "    return int_val\n",
    "\n",
    "def gaussian_bins(f, x, w):\n",
    "    z = [a] + list(a + w.cumsum())\n",
    "    xbin = np.vstack([z[:-1], z[1:]]).flatten('F')\n",
    "    z = f(x)\n",
    "    ybin = np.vstack([z[:], z[:]]).flatten('F')\n",
    "    return np.array(xbin), np.array(ybin)"
   ]
  },
  {
   "cell_type": "code",
   "execution_count": 9,
   "metadata": {},
   "outputs": [
    {
     "data": {
      "image/png": "[encoded data removed]",
      "text/plain": [
       "<Figure size 864x432 with 1 Axes>"
      ]
     },
     "metadata": {
      "needs_background": "light"
     },
     "output_type": "display_data"
    },
    {
     "name": "stdout",
     "output_type": "stream",
     "text": [
      "Approximated sum: 2.3504023872860356\n"
     ]
    }
   ],
   "source": [
    "m = 6\n",
    "print('Approximated sum: {0}'.format(gaussianquad(myfun, m, a, b, verbose=True, \n",
    "                                    text=text, figname=\"gaussianquad_%d.png\"%m)))"
   ]
  },
  {
   "cell_type": "markdown",
   "metadata": {},
   "source": [
    "## Questions\n",
    "- What is the computational importance of $h$ in the _Error term_ on each method?\n",
    "- What is the computational importance of $f^{(k)}(c)$ in the _Error term_ on each method?"
   ]
  },
  {
   "cell_type": "markdown",
   "metadata": {},
   "source": [
    "<div id='ca' />\n",
    "\n",
    "# Convergence Analysis\n",
    "[Back to TOC](#toc)\n",
    "\n",
    "There exists two concepts highly related that we will use here, degree of precision and order of convergence, they will be defined now:\n",
    "\n",
    "- **Degree of precision**: This correspond to the degree of the polynomials are integrated exactly by each method. For instance, for the _midpoint rule_ corresponds to $1$ since the second derivative of linear functions is equal to $0$.\n",
    "- **Orden de convergencia**: The order of convergence, or just simple order, corresponds to the exponent of $h$ of the composite form of the error. For instance, the _midpoint rule_ is of second order, since the exponent of $h$ is $2$.\n",
    "\n",
    "In the following examples we will analyze this numerically."
   ]
  },
  {
   "cell_type": "markdown",
   "metadata": {},
   "source": [
    "### Experiments"
   ]
  },
  {
   "cell_type": "code",
   "execution_count": 10,
   "metadata": {},
   "outputs": [],
   "source": [
    "list_experiments=[]\n",
    "\n",
    "###########################\n",
    "# Function 1: exponential\n",
    "# gaussian quad outperforms all the other methods\n",
    "m_values = range(4, 11) #20\n",
    "f = lambda x : np.exp(x)\n",
    "a = -1.0\n",
    "b = +2.0\n",
    "sol = np.exp(b) - np.exp(a)\n",
    "exp4 = (m_values, f, a, b, sol)\n",
    "list_experiments.append(('exp1: '+inspect.getsource(f).replace('\\n', ''),exp4))\n",
    "\n",
    "###########################\n",
    "# Function 2: Constant\n",
    "# All methods are good\n",
    "m_values = range(4, 11)\n",
    "x0, x1, x2 = 5., -1., 3.\n",
    "f = lambda x : 1\n",
    "a = -1.0\n",
    "b = +1.0\n",
    "sol = 2\n",
    "exp1 = (m_values, f, a, b, sol)\n",
    "list_experiments.append(('exp2: '+inspect.getsource(f).replace('\\n', ''),exp1))\n",
    "\n",
    "###########################\n",
    "# Function 3: sin\n",
    "# All method equal if symmetric interval\n",
    "# Gaussian quad better if asymmetric interval\n",
    "m_values = range(4, 100)\n",
    "f = lambda x : np.sin(x)\n",
    "a = 0.0\n",
    "b = +5.0\n",
    "sol = -np.cos(b)+np.cos(a)\n",
    "exp2 = (m_values, f, a, b, sol)\n",
    "list_experiments.append(('exp3: '+inspect.getsource(f).replace('\\n', ''),exp2))\n",
    "\n",
    "###########################\n",
    "# Function 4: gaussian bell\n",
    "# gaussian quad outperforms all the other methods\n",
    "m_values = range(4, 20)\n",
    "f = lambda x : np.exp(-x**2)\n",
    "a = -1.0\n",
    "b = +1.0\n",
    "sol = 1.4936482656248541 # Specific value for the range [-1,1]\n",
    "exp3 = (m_values, f, a, b, sol)\n",
    "list_experiments.append(('exp4: '+inspect.getsource(f).replace('\\n', ''),exp3))\n",
    "\n",
    "###########################\n",
    "# Function 5: logarithm\n",
    "m_values = range(4, 20)\n",
    "f = lambda x : np.log(np.abs(x))\n",
    "a = 1e-10 # 0\n",
    "b = +1.0\n",
    "sol = (b*np.log(b)-b) - (a*np.log(a)-a)#-2.0000000000000000 # -1 \n",
    "exp5 = (m_values, f, a, b, sol)\n",
    "list_experiments.append(('exp5: '+inspect.getsource(f).replace('\\n', ''),exp5))\n",
    "\n",
    "###########################\n",
    "# Function 6 and true value\n",
    "m_values = range(4, 20)\n",
    "f = lambda x : np.sin(x)/x #if abs(x)>1e-6 else 1.0\n",
    "a = -1.0\n",
    "b = +1.0\n",
    "sol = 1.8921661407343660\n",
    "exp6 = (m_values, f, a, b, sol)\n",
    "list_experiments.append(('exp6: '+inspect.getsource(f).replace('\\n', ''),exp6))\n",
    "\n",
    "###########################\n",
    "# Function 7 : absolute value\n",
    "# Midpoint wins\n",
    "# Do (-1,1) and (-2,1)\n",
    "m_values = range(4, 20)\n",
    "f = lambda x : abs(x)\n",
    "a = -1 #-np.pi\n",
    "b = +1.0\n",
    "sol = (a**2+b**2)/2.\n",
    "exp7 = (m_values, f, a, b, sol)\n",
    "list_experiments.append(('exp7: '+inspect.getsource(f).replace('\\n', ''),exp7))\n",
    "\n",
    "###########################\n",
    "# Function 8 : Gaussian\n",
    "# Midpoint/Traps wins over gaussian\n",
    "m_values = range(4, 100)\n",
    "f = lambda x : np.exp(-x**2)\n",
    "a = -10.0\n",
    "b = +10.0\n",
    "sol = np.sqrt(math.pi)\n",
    "exp8 = (m_values, f, a, b, sol)\n",
    "list_experiments.append(('exp8: '+inspect.getsource(f).replace('\\n', ''),exp8))\n",
    "\n",
    "###########################\n",
    "# Function 9 : 1/x^2\n",
    "# Gaussian wins, but they all degrade if a->0\n",
    "# Here we should try an adaptative method\n",
    "m_values = range(4, 20)\n",
    "f = lambda x : 1.0/(x**2)\n",
    "a = 1e-4\n",
    "b = +1.\n",
    "sol = 1.0/a - 1.0/b\n",
    "exp9 = (m_values, f, a, b, sol)\n",
    "list_experiments.append(('exp9: '+inspect.getsource(f).replace('\\n', ''),exp9))\n",
    "\n",
    "###########################\n",
    "# Function 10 : 1/x^0.5\n",
    "m_values = range(4, 20)\n",
    "f = lambda x : 1.0/(np.sqrt(np.abs(x)))\n",
    "a = 0.0\n",
    "b = 1.0\n",
    "sol = 2.0\n",
    "exp10 = (m_values, f, a, b, sol)\n",
    "list_experiments.append(('exp10: '+inspect.getsource(f).replace('\\n', ''),exp10))"
   ]
  },
  {
   "cell_type": "markdown",
   "metadata": {},
   "source": [
    "## Code for performing convergence analysis"
   ]
  },
  {
   "cell_type": "code",
   "execution_count": 11,
   "metadata": {},
   "outputs": [],
   "source": [
    "def get_error_and_time(quadrature_rule, myfun, m_range, a, b, true_value, get_time=False, direction_riemann='left'):\n",
    "    quad_error = []\n",
    "    if get_time:\n",
    "        quad_times = []\n",
    "        m_range = np.logspace(1, 10, num=5, endpoint=True, base=2, dtype=int)\n",
    "        for i in range(len(m_range)):\n",
    "            if m_range[i]%2==1:\n",
    "                m_range[i]+=1\n",
    "        for m in m_range:\n",
    "            if quadrature_rule==riemann:\n",
    "                error = np.abs(true_value - quadrature_rule(myfun, m, a, b, direction=direction_riemann))\n",
    "            else:\n",
    "                error = np.abs(true_value - quadrature_rule(myfun, m, a, b))\n",
    "            if error<1e-16:\n",
    "                quad_error.append(1E-16)\n",
    "            else:\n",
    "                quad_error.append(error)\n",
    "            if quadrature_rule==riemann:\n",
    "                out = %timeit -o -q -n 10 -r 5 quadrature_rule(myfun, m, a, b, direction=direction_riemann)\n",
    "            else:\n",
    "                out = %timeit -o -q -n 10 -r 5 quadrature_rule(myfun, m, a, b)\n",
    "            quad_times.append(out.average)\n",
    "        return quad_error, quad_times, m_range\n",
    "    else: \n",
    "        for m in m_range:\n",
    "            if quadrature_rule==riemann:\n",
    "                error = np.abs(true_value - quadrature_rule(myfun, m, a, b, direction=direction_riemann))\n",
    "            else:\n",
    "                error = np.abs(true_value - quadrature_rule(myfun, m, a, b))\n",
    "            if error<1e-16:\n",
    "                quad_error.append(1E-16)\n",
    "            else:\n",
    "                quad_error.append(error)\n",
    "        return quad_error\n",
    "\n",
    "def set_ylim(ymin, ymax):\n",
    "    ymin = min(plt.ylim()[0], ymin)\n",
    "    ymax = max(plt.ylim()[1], ymax)\n",
    "    plt.ylim([ymin, ymax])\n",
    "    return\n",
    "\n",
    "def convergence(exp_data):\n",
    "    m_range     = exp_data[0]\n",
    "    myfun      = exp_data[1]\n",
    "    a          = exp_data[2]\n",
    "    b          = exp_data[3]\n",
    "    true_value = exp_data[4]\n",
    "    #######################################################\n",
    "    print('Printing numerical experiment details:')\n",
    "    print('m_range: ', m_range)\n",
    "    print(inspect.getsource(myfun).replace('\\n', ''))\n",
    "    print('a: ', a)\n",
    "    print('b: ', b)\n",
    "    print('true_value: ', true_value)\n",
    "    #######################################################\n",
    "    ms = 10\n",
    "    f = np.vectorize(myfun) # So we can apply it to arrays without trouble\n",
    "    e_rl = get_error_and_time(riemann, myfun, m_range, a, b, true_value)\n",
    "    e_rr = get_error_and_time(riemann, myfun, m_range, a, b, true_value, direction_riemann='right')\n",
    "    e_mp = get_error_and_time(midpoint, myfun, m_range, a, b, true_value)\n",
    "    e_tr = get_error_and_time(trapezoid, myfun, m_range, a, b, true_value)\n",
    "    e_sp = get_error_and_time(simpsons, myfun, m_range, a, b, true_value)\n",
    "    e_gq = get_error_and_time(gaussianquad, myfun, m_range, a, b, true_value)\n",
    "\n",
    "    fig = plt.figure(figsize=(16,16))\n",
    "    plt.rcParams.update({'font.size': 22})\n",
    "    \n",
    "    # First plot\n",
    "    ax = plt.subplot(2,2,1)\n",
    "    dd = 0.1*(b-a)\n",
    "    x = np.linspace(a-dd, b+dd, 1000)\n",
    "    plt.plot(x, f(x), 'k', label=\"f(x)\", lw=2.0)\n",
    "    x = np.linspace(a, b, 1000)\n",
    "    plt.fill_between(x, f(x), 0, alpha=0.5, label=r\"$\\int_a^b f(x) dx$\")\n",
    "    plt.xlabel(\"x\")\n",
    "    plt.ylabel(\"f(x)\")\n",
    "    ymax = 1.05*plt.ylim()[1]\n",
    "    plt.ylim([-ymax, ymax])\n",
    "    plt.grid('on')\n",
    "    plt.legend(loc=\"lower left\")\n",
    "    \n",
    "    # Second plot\n",
    "    ax = plt.subplot(2,2,2) \n",
    "    plt.plot(m_range, e_rl, 'Pm', lw=2.0, ms=ms, label=\"Riemann Left\")\n",
    "    plt.plot(m_range, e_rr, 'hc', lw=2.0, ms=ms, label=\"Riemann Right\")\n",
    "    plt.plot(m_range, e_mp, 'sb', lw=2.0, ms=ms, label=\"Midpoint\")\n",
    "    plt.plot(m_range, e_tr, 'or', lw=2.0, ms=ms, label=\"Trapezoid\")\n",
    "    plt.plot(m_range, e_sp, '>y', lw=2.0, ms=ms, label=\"Simpsons\")\n",
    "    plt.plot(m_range, e_gq, 'Dg', lw=2.0, ms=ms, label=\"Gaussian Quad\")\n",
    "    set_ylim(-5E-2, 1E-1)\n",
    "    plt.xlabel(\"m\")\n",
    "    plt.ylabel(\"Absolute Error\")\n",
    "    #ax.legend(loc='upper right', bbox_to_anchor=(0.5, 1.00), ncol=1, fancybox=True, shadow=True, numpoints=1)\n",
    "    ##ax.legend(loc='upper right', ncol=1, fancybox=True, shadow=True, numpoints=1)\n",
    "    ax.legend(loc='lower left', ncol=1, fancybox=True, shadow=True, numpoints=1, bbox_to_anchor=(1,0))\n",
    "    plt.grid('on')\n",
    "    \n",
    "    # Third plot\n",
    "    ax = plt.subplot(2,2,3)\n",
    "    plt.loglog(m_range, e_rl, 'Pm', lw=2.0, ms=ms, label=\"Riemann Left\")\n",
    "    plt.loglog(m_range, e_rr, 'hc', lw=2.0, ms=ms, label=\"Riemann Right\")\n",
    "    plt.loglog(m_range, e_mp, 'sb', ms=ms, lw=2.0, label=\"Midpoint\")\n",
    "    plt.loglog(m_range, e_tr, 'or', ms=ms, lw=2.0, label=\"Trapezoid\")\n",
    "    plt.loglog(m_range, e_sp, '>y', ms=ms, lw=2.0, label=\"Simpsons\")\n",
    "    plt.loglog(m_range, e_gq, 'Dg', ms=ms, lw=2.0, label=\"Gaussian Quad\")\n",
    "    #ax.legend(loc='best', ncol=1, fancybox=True, shadow=True, numpoints=1)\n",
    "    plt.ylim([1E-18, 1E+1])\n",
    "    '''m = np.arange(1,101,10)\n",
    "    plt.loglog(m, 1./m**2, '-k', lw=2.0, alpha=0.5)\n",
    "    plt.loglog(m, 1./m**4, '-k', lw=2.0, alpha=0.5)'''\n",
    "    plt.xlabel(\"m\")\n",
    "    plt.ylabel(\"Absolute Error\")\n",
    "    plt.xlim([0.9*min(m_range),1.1*max(m_range)])\n",
    "    plt.grid('on')\n",
    "    \n",
    "    # Forth plot\n",
    "    ax = plt.subplot(2,2,4)\n",
    "    h = 1./np.arange(1,101,10)\n",
    "    plt.loglog(h, h, '-k', lw=2.0, alpha=0.5, label=r'$O(h)$')\n",
    "    plt.loglog(h, h**2, '--k', lw=2.0, alpha=0.5, label=r'$O(h^2)$')\n",
    "    plt.loglog(h, h**3, '-.k', lw=2.0, alpha=0.5, label=r'$O(h^3)$')\n",
    "    plt.loglog(h, h**4, 'k', linestyle='dotted', lw=2.0, alpha=0.5, label=r'$O(h^4)$')\n",
    "    # Plotting Gaussian Quadratupre first but using larger markers\n",
    "    h = 1./np.array(m_range)\n",
    "    plt.loglog(h, e_rl, 'Pm', lw=2.0, ms=ms, label=\"Riemann Left\")\n",
    "    plt.loglog(h, e_rr, 'hc', lw=2.0, ms=ms, label=\"Riemann Right\")\n",
    "    plt.loglog(h, e_mp, 'sb', lw=2.0, ms=ms, label=\"Midpoint\")\n",
    "    plt.loglog(h, e_tr, 'or', lw=2.0, ms=ms, label=\"Trapezoid\")\n",
    "    plt.loglog(h, e_sp, '>y', lw=2.0, ms=ms, label=\"Simpsons\")\n",
    "    plt.loglog(h, e_gq, 'Dg', lw=2.0, ms=ms, label=\"Gaussian Quad\")\n",
    "    ax.legend(loc='lower left', ncol=1, fancybox=True, shadow=True, numpoints=1, bbox_to_anchor=(1,0))\n",
    "    plt.ylim([1e-18, 1e+1])\n",
    "    plt.xlabel(\"h\")\n",
    "    plt.ylabel(\"Absolute Error\")\n",
    "    plt.grid('on')\n",
    "    plt.xlim([0.9*min(h),1.1*max(h)])\n",
    "    plt.show()\n",
    "    #fig.savefig('myfig.eps', format='eps')\n",
    "    \n",
    "    ##########################################\n",
    "    # Showing output of last plot in a Table.\n",
    "    ##########################################\n",
    "    # This table shows on each column the 'error' achieved by each method for the \n",
    "    # corresponding (m,h) tuple in log scale, notice that 'm' corresponds to the number\n",
    "    # intervals used in the numerical integration and 'h' the corresponding length of each interval. \n",
    "    # The value showed on each row corresponds to each different algorithm.\n",
    "    data = np.zeros((6,len(m_range)))\n",
    "    data[0,:] = e_rl\n",
    "    data[1,:] = e_rr\n",
    "    data[2,:] = e_mp\n",
    "    data[3,:] = e_tr\n",
    "    data[4,:] = e_sp\n",
    "    data[5,:] = e_gq\n",
    "    data      = np.log10(data)\n",
    "    columns    = list(zip(m_range,np.round(np.log10(h),3)))\n",
    "    rows      = ['Riemann Left', 'Riemann Right', 'Midpoint', 'Trapezoid', 'Simpsons', 'Gaussian Quad']\n",
    "    df = pd.DataFrame(data=data, index=rows, columns=columns)\n",
    "    display(df)"
   ]
  },
  {
   "cell_type": "markdown",
   "metadata": {},
   "source": [
    "### Convergence test"
   ]
  },
  {
   "cell_type": "code",
   "execution_count": 12,
   "metadata": {
    "scrolled": false
   },
   "outputs": [
    {
     "data": {
      "application/vnd.jupyter.widget-view+json": {
       "model_id": "03f3931e25c0445184c2dc9204b03c0e",
       "version_major": 2,
       "version_minor": 0
      },
      "text/plain": [
       "interactive(children=(Dropdown(description='exp_data', options=(('exp1: f = lambda x : np.exp(x)', (range(4, 1…"
      ]
     },
     "metadata": {},
     "output_type": "display_data"
    },
    {
     "data": {
      "text/plain": [
       "<function __main__.convergence(exp_data)>"
      ]
     },
     "execution_count": 12,
     "metadata": {},
     "output_type": "execute_result"
    }
   ],
   "source": [
    "interact(convergence, exp_data=list_experiments)"
   ]
  },
  {
   "cell_type": "markdown",
   "metadata": {},
   "source": [
    "<div id='ta' />\n",
    "\n",
    "# Time Analysis\n",
    "[Back to TOC](#toc)"
   ]
  },
  {
   "cell_type": "code",
   "execution_count": 13,
   "metadata": {},
   "outputs": [],
   "source": [
    "def timing(exp_data):\n",
    "    m_range     = exp_data[0]\n",
    "    myfun      = exp_data[1]\n",
    "    a          = exp_data[2]\n",
    "    b          = exp_data[3]\n",
    "    true_value = exp_data[4]\n",
    "    #######################################################\n",
    "    print('Printing numerical experiment details:')\n",
    "    print('m_range: logarithmic range used')\n",
    "    print(inspect.getsource(myfun).replace('\\n', ''))\n",
    "    print('a: ', a)\n",
    "    print('b: ', b)\n",
    "    print('true_value: ', true_value)\n",
    "    #######################################################\n",
    "    ms = 10\n",
    "    f = np.vectorize(myfun) # So we can apply it to arrays without trouble\n",
    "    e_rl, t_rl, _ = get_error_and_time(riemann, myfun, m_range, a, b, true_value, get_time=True)\n",
    "    e_rr, t_rr, _ = get_error_and_time(riemann, myfun, m_range, a, b, true_value, get_time=True, direction_riemann='right')\n",
    "    e_mp, t_mp, _ = get_error_and_time(midpoint, myfun, m_range, a, b, true_value, get_time=True)\n",
    "    e_tr, t_tr, _ = get_error_and_time(trapezoid, myfun, m_range, a, b, true_value, get_time=True)\n",
    "    e_sp, t_sp, _ = get_error_and_time(simpsons, myfun, m_range, a, b, true_value, get_time=True)\n",
    "    e_gq, t_gq, m_range = get_error_and_time(gaussianquad, myfun, m_range, a, b, true_value, get_time=True)\n",
    "\n",
    "    fig = plt.figure(figsize=(8,8))\n",
    "    plt.rcParams.update({'font.size': 10})\n",
    "        \n",
    "    # Plotting Gaussian Quadratupre first but using larger markers\n",
    "    plt.loglog(e_rl, t_rl, 'Pm', lw=2.0, ms=ms, label=\"Riemann Left\")\n",
    "    plt.loglog(e_rr, t_rr, 'hc', lw=2.0, ms=ms, label=\"Riemann Right\")\n",
    "    plt.loglog(e_mp, t_mp, 'sb', lw=2.0, ms=ms, label=\"Midpoint\")\n",
    "    plt.loglog(e_tr, t_tr, 'or', lw=2.0, ms=ms, label=\"Trapezoid\")\n",
    "    plt.loglog(e_sp, t_sp, '>y', lw=2.0, ms=ms, label=\"Simpsons\")\n",
    "    plt.loglog(e_gq, t_gq, 'Dg', lw=2.0, ms=ms, label=\"Gaussian Quad\")\n",
    "    #plt.legend(loc='upper right', ncol=1, fancybox=True, shadow=True, numpoints=1)\n",
    "    plt.legend(loc='lower left', ncol=1, fancybox=True, shadow=True, numpoints=1, bbox_to_anchor=(1,0))\n",
    "    plt.xlabel(\"Absolute Error\")\n",
    "    plt.ylabel(\"Time in seconds\")\n",
    "    plt.grid('on')\n",
    "    plt.show()\n",
    "    #fig.savefig('myfig.eps', format='eps')\n",
    "    \n",
    "    ############################\n",
    "    # Showing output in a Table.\n",
    "    ############################\n",
    "    # This table show on each columns the tuple (error,computation time in seconds) in log10 scale \n",
    "    # achieved by each method for the corresponding (m,h) tuple used, notice that 'm' corresponds to the number\n",
    "    # intervals used in the numerical integration and 'h' the corresponding length of each interval. \n",
    "    # The value showed on each row corresponds to each different algorithm.\n",
    "    # What we expect from this table is to get the lowest error possible in the lowest time possible,\n",
    "    # since the values are shown in log10 scale, this means that the lowest values will be the \n",
    "    # most negative values. Read the table carefully, it is challenging to undestanding it but\n",
    "    # very important.\n",
    "    h = (b-a)/m_range\n",
    "    data = list()\n",
    "    for e_alg, t_alg in zip([e_rl, e_rr, e_mp, e_tr, e_sp, e_gq],[t_rl, t_rr, t_mp, t_tr, t_sp, t_gq]):\n",
    "        data.append(list(zip(np.round(np.log10(e_alg),3),np.round(np.log10(t_alg),3))))\n",
    "    columns   = list(zip(m_range,np.round(np.log10(h),3)))\n",
    "    rows      = ['Riemann Left', 'Riemann Right', 'Midpoint', 'Trapezoid', 'Simpsons', 'Gaussian Quad']\n",
    "    df = pd.DataFrame(data=data, index=rows, columns=columns)\n",
    "    display(df)"
   ]
  },
  {
   "cell_type": "markdown",
   "metadata": {},
   "source": [
    "### Time test"
   ]
  },
  {
   "cell_type": "code",
   "execution_count": 14,
   "metadata": {},
   "outputs": [
    {
     "data": {
      "application/vnd.jupyter.widget-view+json": {
       "model_id": "31745e22a7b64a46a9709b4e59b18222",
       "version_major": 2,
       "version_minor": 0
      },
      "text/plain": [
       "interactive(children=(Dropdown(description='exp_data', options=(('exp1: f = lambda x : np.exp(x)', (range(4, 1…"
      ]
     },
     "metadata": {},
     "output_type": "display_data"
    },
    {
     "data": {
      "text/plain": [
       "<function __main__.timing(exp_data)>"
      ]
     },
     "execution_count": 14,
     "metadata": {},
     "output_type": "execute_result"
    }
   ],
   "source": [
    "interact(timing, exp_data=list_experiments)"
   ]
  },
  {
   "cell_type": "markdown",
   "metadata": {},
   "source": [
    "<div id='acknowledgements' />\n",
    "\n",
    "# Acknowledgements\n",
    "[Back to TOC](#toc)\n",
    "\n",
    "- **DISCLAIMER**: El presente notebook ha sido creado para el curso **ILI286 - Computación Científica 2**, del [Departamento de Informática](http://www.inf.utfsm.cl/), [Universidad Técnica Federico Santa María](http://www.utfsm.cl/). El material ha sido creado por Claudio Torres <ctorres@inf.utfsm.cl> y Sebastian Flores <sebastian.flores@usm.cl>, y es distribuido sin restricciones. En caso de encontrar un error, por favor no dude en contactarnos.\n",
    "- _Material creado por profesor Claudio Torres_ (`ctorres@inf.utfsm.cl`) _y ayudantes: Alvaro Salinas y Martín Villanueva. DI UTFSM. Abril 2016._\n",
    "- [Update 2016] (Martín) Notebook creado como una fusión de las tres partes anteriores. Modificadas funciones de integración con parámetro verbose para controlar la salida, y añadido el decorador para medir los tiempos. \n",
    "- [Update 2017] (Cristopher) Corrección de typos, correccion de método del trapecio.\n",
    "- [Update 2017] (C. Torres) Adding *interact*.\n",
    "- [Update 2019] (C. Torres) changing .flatten(1) to .flatten('F'). Fixing issue with titles of sections.\n",
    "- _Update June 2021 - v1.24 - C.Torres_ : Adding TOC link, translating to English, timing computation update, and major update in general.\n",
    "- _Update June 2021 - v1.25 - C.Torres_ : Fixing issue with the number of evaluations of a Riemann sum. Adding flag for last cell of notebook.\n",
    "- _Update June 2021 - v1.26 - C.Torres_ : Adding Riemann Sum by left and right to convergence and time analysis. Adding Table to show output of the convergence analysis and time analysis. Updating explanation generated in class for the Trapezoidal quadrature."
   ]
  },
  {
   "cell_type": "markdown",
   "metadata": {},
   "source": [
    "# Appendix used to compute the plots for the classnotes.\n",
    "[Back to TOC](#toc)"
   ]
  },
  {
   "cell_type": "code",
   "execution_count": 15,
   "metadata": {
    "scrolled": false
   },
   "outputs": [],
   "source": [
    "FLAG_generate_images = False\n",
    "if FLAG_generate_images:\n",
    "    a, b = -1, 1\n",
    "    myfun = lambda x : np.exp(x)\n",
    "    m_values = np.power(2,[0, 1, 2, 3, 4, 5, 6, 7, 8, 9, 10], dtype=int)\n",
    "    #text to show in the graphs\n",
    "    # Notice that in thios case we know the exact value of the integral,\n",
    "    # this is why we are adding explicitly. But in general we don't know it!\n",
    "    text= r\"\\int_{-1}^{1} \\exp(x) dx = %.10f \" %(np.exp(1)-np.exp(-1))\n",
    "    for m in m_values:\n",
    "        riemann(myfun, m, a, b, direction=\"left\", verbose=True, \n",
    "                      text=text, figname=\"classnotes_riemann_left_%d.png\"%m, save_file=True)\n",
    "        riemann(myfun, m, a, b, direction=\"right\", verbose=True,\n",
    "                      text=text, figname=\"classnotes_riemann_right_%d.png\"%m,save_file=True)\n",
    "        midpoint(myfun, m, a, b, verbose=True,\n",
    "                       text=text, figname=\"classnotes_midpoint_%d.png\"%m,save_file=True)\n",
    "        trapezoid(myfun, m, a, b, verbose=True,\n",
    "                        text=text, figname=\"classnotes_trapezoid_%d.png\"%m,save_file=True)\n",
    "        simpsons(myfun, m, a, b, verbose=True,\n",
    "                       text=text, figname=\"classnotes_simpsons_%d.png\"%m,save_file=True)\n",
    "        gaussianquad(myfun, m, a, b, verbose=True,\n",
    "                           text=text, figname=\"classnotes_gaussianquad_%d.png\"%m,save_file=True)"
   ]
  },
  {
   "cell_type": "code",
   "execution_count": null,
   "metadata": {},
   "outputs": [],
   "source": []
  }
 ],
 "metadata": {
  "kernelspec": {
   "display_name": "Python 3",
   "language": "python",
   "name": "python3"
  },
  "language_info": {
   "codemirror_mode": {
    "name": "ipython",
    "version": 3
   },
   "file_extension": ".py",
   "mimetype": "text/x-python",
   "name": "python",
   "nbconvert_exporter": "python",
   "pygments_lexer": "ipython3",
   "version": "3.8.8"
  }
 },
 "nbformat": 4,
 "nbformat_minor": 4
}
