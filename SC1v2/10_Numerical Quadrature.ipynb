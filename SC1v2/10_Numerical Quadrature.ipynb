{
 "cells": [
  {
   "cell_type": "markdown",
   "metadata": {},
   "source": [
    "<center>\n",
    "    <h1> INF-285 - Computación Científica</h1>\n",
    "    <h2> Integración Numérica </h2>\n",
    "    <h2> <a href=\"#acknowledgements\"> [S]cientific [C]omputing [T]eam </a> </h2>\n",
    "    <h2> Version: 1.23</h2>\n",
    "</center>"
   ]
  },
  {
   "cell_type": "markdown",
   "metadata": {},
   "source": [
    "# Tabla de Contenidos\n",
    "* [Introducción](#intro)\n",
    "* [Configuraciones](#config)\n",
    "* [Sumas de Riemann](#sr)\n",
    "* [Métodos de Newton-Cotes](#nc)\n",
    "    * [Regla del Trapecio](#rt)\n",
    "    * [Regla de Simpson](#rs)\n",
    "    * [Midpoint](#mp)\n",
    "* [Cuadratura Gaussiana](#cg)\n",
    "* [Análisis de Convergencia](#ac)\n",
    "* [Análisis de Tiempo](#at)\n",
    "* [Acknowledgements](#acknowledgements)"
   ]
  },
  {
   "cell_type": "markdown",
   "metadata": {},
   "source": [
    "<div id='intro' />\n",
    "\n",
    "# Introducción\n",
    "En este notebook estudiaremos métodos numéricos para integrar numéricamente funciones de distinto tipo. Las motivaciones para la utilización de estos métodos son varias, algunas de ellas:\n",
    "* El cálculo teórico de la antiderivada de una función es un proceso tedioso, incluso para librerías de álgebra simbólica como `SymPy`.\n",
    "* Peor que lo anterior, existen funciones que no tienen [integral elemental](https://en.wikipedia.org/wiki/Nonelementary_integral), esto es, aquellas cuya antiderivada no puede ser expresada como una _expresión_ de funciones elementales. Un ejemplo clásico es:\n",
    "$$ \\int e^{-x^2}dx $$\n",
    "* Como veremos, existen métodos numéricos sumamente precisos, para los cuales el error que se comete debido a las aproximaciones, converge rápidamente a $0$ a medida que se aumenta la cantidad de puntos en la malla utilizada.\n",
    "\n",
    "Partiendo de la noción geométrica de la integral definida, como aquella cantidad que expresa el __área bajo la curva__ de una función, nacen los distintos métodos que estudiaremos a continuación."
   ]
  },
  {
   "cell_type": "markdown",
   "metadata": {},
   "source": [
    "<div id='config' />\n",
    "\n",
    "# Configuraciones\n",
    "\n",
    "### Librerías utilizadas en el notebook"
   ]
  },
  {
   "cell_type": "code",
   "execution_count": 1,
   "metadata": {},
   "outputs": [],
   "source": [
    "import numpy as np\n",
    "from matplotlib import pyplot as plt\n",
    "import math\n",
    "import time\n",
    "%matplotlib inline\n",
    "from ipywidgets import interact\n",
    "import inspect"
   ]
  },
  {
   "cell_type": "markdown",
   "metadata": {},
   "source": [
    "La siguiente función nos permitirá graficar y visualizar apropiadamente los resultados."
   ]
  },
  {
   "cell_type": "code",
   "execution_count": 2,
   "metadata": {},
   "outputs": [],
   "source": [
    "###########################################################################\n",
    "# General plotting framework\n",
    "###########################################################################\n",
    "def plot(f, xbin, ybin, int_val, N, text, figname=''):\n",
    "    plt.figure(figsize=(12,6))\n",
    "    n = 201\n",
    "    # Get a representation of f as a continuous function\n",
    "    x = np.linspace(xbin.min(), xbin.max(), n)\n",
    "    y = f(x)\n",
    "    # Plot the function\n",
    "    plt.plot(x, y, 'r', lw=2.0)\n",
    "    # Plot the interpolation\n",
    "    plt.fill_between(xbin, 0, ybin, alpha=0.25, lw=2.0)\n",
    "    # Setting the lims\n",
    "    ymin, ymax = y.min(), y.max()\n",
    "    if abs(ymax-ymin)<1E-6:\n",
    "        ymin, ymax = 0.0, 1.0\n",
    "    dy = .1*(ymax-ymin)\n",
    "    plt.ylim([ymin-dy,ymax+dy])\n",
    "    xmin, xmax = x.min(), x.max()\n",
    "    if abs(b-a)<1E-6:\n",
    "        xmin, xmax = 0.0, 1.0\n",
    "    dx = .1*(b-a)\n",
    "    plt.xlim([xmin-dx,xmax+dx])\n",
    "    # Do the text\n",
    "    if N>1:\n",
    "        text_N = r\"$%s \\approx %.10f$ (usando %d evaluaciones de $f$)\" %(text, int_val, N)\n",
    "        plt.text(min(x), max(y), text_N, fontsize=18)\n",
    "        #plt.text(min(x), 0.9*max(y), \"Valor exacto $2.35040$\", fontsize=18)\n",
    "    plt.xlabel(\"x\")\n",
    "    plt.ylabel(\"y\")\n",
    "    plt.show()\n",
    "    return"
   ]
  },
  {
   "cell_type": "markdown",
   "metadata": {},
   "source": [
    "### Parámetros\n",
    "\n",
    "Para los experimentos numéricos, consideraremos la función $f(x)$ con dominio $x \\in [a,b]$. El número de puntos a utilizar en las mallas equiespaciadas vendrá definido por $N$. Todas las anteriores se definen en la celda siguiente."
   ]
  },
  {
   "cell_type": "code",
   "execution_count": 3,
   "metadata": {},
   "outputs": [],
   "source": [
    "#limits of integration\n",
    "a = -1; b = 1\n",
    "#function to integrate\n",
    "myfun = lambda x : np.exp(x) #x**2 #1 # x #np.exp(-x)\n",
    "#number the points in the 1D grid\n",
    "N = 10\n",
    "#text to show in the graphs\n",
    "text= r\"\\int_{%+.2f}^{%+.2f} e^x dx\" %(a,b)"
   ]
  },
  {
   "cell_type": "markdown",
   "metadata": {},
   "source": [
    "<div id='sr' />\n",
    "\n",
    "# Sumas de Riemann\n",
    "\n",
    "Como primera aproximación hacia la integración numérica, revisaremos la suma que compone la base sobre la cual se define una integral definida: **La integral de Riemann**. Esta consiste en particionar el dominio de integración $D = [a,b] \\rightarrow a = x_0 < x_1 < \\cdots < x_{n-1} < x_n = b $, de tal modo que para cada partición $[x_k,x_{k+1}]$ aproximemos el área bajo $f$ por rectángulos, tomando como altura de los rectángulos a $f(c)$ con $c \\in [x_k,x_{k+1}]$. Cuando se elige tal $c$ como uno de los extremos de la partición, se da origen a las siguiente dos aproximaciones:  \n",
    "\n",
    "### Suma izquierda de Riemann\n",
    "Eligiendo $c = x_{k}$ (extremo izquierdo) para cada partición, sobre una malla regular de ancho $x_{k+1}-x_{k}=\\Delta x$:\n",
    "\\begin{align*}\n",
    "A = \\int_a^b f(x) dx & \\approx \\sum_{k=0}^{n-1} f(x_k) \\Delta x\n",
    "\\end{align*}\n",
    "\n",
    "### Suma derecha de Riemann\n",
    "Eligiendo $c = x_{k+1}$ (extremo derecho) para cada partición, sobre una malla regular de ancho $x_{k+1}-x_{k}=\\Delta x$:\n",
    "\\begin{align*}\n",
    "A = \\int_a^b f(x) dx \\approx \\sum_{k=1}^{n} f(x_k)\\Delta x\n",
    "\\end{align*}\n",
    "\n",
    "El código que se provee a continuación, implementa la integración numérica por sumas de Riemann."
   ]
  },
  {
   "cell_type": "code",
   "execution_count": 4,
   "metadata": {},
   "outputs": [
    {
     "data": {
      "image/png": "[encoded data removed]",
      "text/plain": [
       "<Figure size 864x432 with 1 Axes>"
      ]
     },
     "metadata": {
      "needs_background": "light"
     },
     "output_type": "display_data"
    },
    {
     "name": "stdout",
     "output_type": "stream",
     "text": [
      "Approximated sum: 2.123191605036145\n"
     ]
    },
    {
     "data": {
      "image/png": "[encoded data removed]",
      "text/plain": [
       "<Figure size 864x432 with 1 Axes>"
      ]
     },
     "metadata": {
      "needs_background": "light"
     },
     "output_type": "display_data"
    },
    {
     "name": "stdout",
     "output_type": "stream",
     "text": [
      "Approximated sum: 2.5932720824936655\n"
     ]
    }
   ],
   "source": [
    "###########################################################################\n",
    "# Riemann Rule\n",
    "###########################################################################\n",
    "def riemann(myfun, N, a, b, direction='left', verbose=False, text=text, figname=''):\n",
    "    f = np.vectorize(myfun) # So we can apply it to arrays without trouble\n",
    "    x = np.linspace(a, b, N+1) # We want N bins, so N+1 points  \n",
    "    dx = x[1]-x[0]\n",
    "    if direction in 'left':\n",
    "        points = x[:-1]\n",
    "    elif direction in 'right':\n",
    "        points = x[1:]\n",
    "    else:\n",
    "        print(\"Riemann Sum: choose left or right\")\n",
    "        return\n",
    "    point_values = f(points)\n",
    "    int_val = sum(point_values*dx)\n",
    "    if verbose:\n",
    "        xbin = np.vstack([x[:-1], x[1:]]).flatten('F')\n",
    "        ybin = np.vstack([point_values, point_values]).flatten('F')\n",
    "        plot(f, xbin, ybin, int_val, N, text, figname)\n",
    "    return int_val\n",
    "\n",
    "print('Approximated sum: {0}'.format(riemann(myfun, N, a, b, direction=\"left\", \n",
    "                                    verbose=True, figname=\"riemann_left_%d.png\"%N)))\n",
    "print('Approximated sum: {0}'.format(riemann(myfun, N, a, b, direction=\"right\", \n",
    "                                    verbose=True, figname=\"riemann_right_%d.png\"%N)))"
   ]
  },
  {
   "cell_type": "markdown",
   "metadata": {},
   "source": [
    "<div id='nc' />\n",
    "\n",
    "# Métodos de Newton-Cotes\n",
    "\n",
    "Los siguientes dos métodos que se presentan a continuación, conforman parte de una familia de métodos llamados de Newton-Cotes. Estos generan una malla equiespaciada para particionar el dominio de integración $[a,b]$.\n",
    "\n",
    "Todos estos métodos se basan en aproximar la función $f$ por un __polinomio__ de grado $n-1: \\ p_{n-1}$, que interpole $n$ puntos de tal malla, y de este modo computar el área bajo la curva de este polinomio (En vez de $f$), lo cual es fácil dado que las integrales de polinomios son también polinomios (de un grado superior).\n",
    "\n",
    "Las derivaciones de las fórmulas a utilizar pueden ser consultadas en el texto guía: _Numerical Analysis, Timothy Sauer_."
   ]
  },
  {
   "cell_type": "markdown",
   "metadata": {},
   "source": [
    "<div id='rt' />\n",
    "\n",
    "## Regla del Trapecio\n",
    "\n",
    "El primero y más simple de tales métodos, es utilizar polinomios de grado $1$ que interpolen cada $(x_k,f(x_k))$ y $(x_{k+1},f(x_{k+1}))$. Es fácil notar que como resultado, el área aproximada entre cada dos puntos de la malla, será el área de un trapecio, motivo del nombre de tal regla.\n",
    "\n",
    "Al particionar el intervalo $[a,b]$ en $m$ segmentos y $m+1$ puntos $a = x_0 < \\cdots < x_{m} = b \\ \\ $, se obtiene el siguiente resultado\n",
    " \n",
    "\\begin{align*}\n",
    "\\int_{x_0}^{x_m} f(x) dx = \\sum_{i=1}^{m} \\int_{x_{i-1}}^{x_{i}} f(x) dx\n",
    "                         = \\frac{h}{2}\\left[f(a) + f(b) + 2\\sum_{i=1}^{m-1} f(x_i) \\right] - \\underbrace{(b-a) \\frac{h^2}{12} f''(c)}_{\\text{Error term}}\n",
    "\\end{align*}\n",
    "donde $h=(b-a)/m \\ $ es el largo de cada subintervalo, y $\\ c  \\in [a, b]$. Dado que $c$ no es conocido, el _Error term_ en la práctica no se toma en cuenta, y por lo mismo constituye el error del método."
   ]
  },
  {
   "cell_type": "code",
   "execution_count": 5,
   "metadata": {},
   "outputs": [
    {
     "data": {
      "image/png": "[encoded data removed]",
      "text/plain": [
       "<Figure size 864x432 with 1 Axes>"
      ]
     },
     "metadata": {
      "needs_background": "light"
     },
     "output_type": "display_data"
    },
    {
     "name": "stdout",
     "output_type": "stream",
     "text": [
      "Approximated sum: 2.5430806348152437\n"
     ]
    }
   ],
   "source": [
    "def trapezoid(myfun, N, a, b, verbose=False, text='', figname=''):\n",
    "    f = np.vectorize(myfun) # So we can apply it to arrays without trouble\n",
    "    x = np.linspace(a, b, N+1) # We want N bins, so N+1 points  \n",
    "    h = x[1]-x[0]\n",
    "    xleft = x[:-1]\n",
    "    xright = x[1:]\n",
    "    int_val = 0.5*h*sum(f(xleft)+f(xright))\n",
    "    if verbose:\n",
    "        xbin = x\n",
    "        ybin = f(x) \n",
    "        plot(f, xbin, ybin, int_val, N, text, figname)\n",
    "    return int_val\n",
    "\n",
    "N = 2\n",
    "#myfun = lambda x : x**2\n",
    "print('Approximated sum: {0}'.format(trapezoid(myfun, N, a, b, verbose=True, text=text, figname=\"trapezoid_%d.png\"%N)))"
   ]
  },
  {
   "cell_type": "markdown",
   "metadata": {},
   "source": [
    "<div id='rs' />\n",
    "\n",
    "## Regla de Simpson\n",
    "\n",
    "La extensión lógica a la regla anterior, es utilizar polinomio de grado $2$ (parábolas) para aproximar la función $f$. Para ello, cada tres puntos $(x_k,f(x_k))$, $(x_{k+1},f(x_{k+1}))$ y $(x_{k+2},f(x_{k+2}))$ una parábola es utilizada para aproximar la función. \n",
    "\n",
    "\n",
    "Al particionar el intervalo $[a,b]$ en $m$ segmentos y $m+1$ puntos $a = x_0 < \\cdots < x_{m} = b \\ \\ $, con $\\ m\\ $ par, se obtiene el siguiente resultado:\n",
    "\n",
    "\\begin{align*}\n",
    "\\int_{a}^{b} f(x) dx = \\frac{h}{3} \\left( f(x_0) + \\sum_{i=1}^{N} 4 f(x_{2i-1}) + \\sum_{i=1}^{N-1} 2 f(x_{2i}) +  f(x_N) \\right) - \\underbrace{(b-a)\\frac{h^4}{90} f^{(4)}(c)}_{\\text{Error term}}\n",
    "\\end{align*}\n",
    "donde $h=(x_{i+1}-x_i) \\ \\ $ y $c \\in [a, b]$"
   ]
  },
  {
   "cell_type": "code",
   "execution_count": 6,
   "metadata": {},
   "outputs": [
    {
     "data": {
      "image/png": "[encoded data removed]",
      "text/plain": [
       "<Figure size 864x432 with 1 Axes>"
      ]
     },
     "metadata": {
      "needs_background": "light"
     },
     "output_type": "display_data"
    },
    {
     "name": "stdout",
     "output_type": "stream",
     "text": [
      "Approximated sum: 2.362053756543496\n"
     ]
    }
   ],
   "source": [
    "def simpsons(myfun, N, a, b, verbose=False, text=\"\", figname=\"\"):\n",
    "    f = np.vectorize(myfun) # So we can apply it to arrays without trouble\n",
    "    x = np.linspace(a, b, N+1) # We want N bins, so N+1 points\n",
    "    if N%2==1:\n",
    "        if verbose: print(\"Simpsons rule only applicable to even number of segments\")\n",
    "        return np.nan\n",
    "    dx = x[1]-x[0]\n",
    "    xleft   = x[:-2:2]\n",
    "    xmiddle = x[1::2]\n",
    "    xright  = x[2::2]\n",
    "    int_val = sum((f(xleft)+4*f(xmiddle)+f(xright))*dx/3)\n",
    "    if verbose:\n",
    "        xbin, ybin = simpsons_bins(f, xleft, xmiddle, xright)\n",
    "        plot(f, xbin, ybin, int_val, N, text, figname)\n",
    "    return int_val\n",
    "\n",
    "def simpsons_bins(f, xleft, xmiddle, xright):\n",
    "    xbin, ybin = [], []\n",
    "    n = 21\n",
    "    for x0, x1, x2 in zip(xleft, xmiddle, xright):\n",
    "        x = np.linspace(x0, x2, n)\n",
    "        y = (f(x0)*(x-x1)*(x-x2)) / ((x0-x1)*(x0-x2))\n",
    "        y+= (f(x1)*(x-x0)*(x-x2)) / ((x1-x0)*(x1-x2))\n",
    "        y+= (f(x2)*(x-x0)*(x-x1)) / ((x2-x0)*(x2-x1))\n",
    "        xbin.extend(list(x))\n",
    "        ybin.extend(list(y))\n",
    "    return np.array(xbin), np.array(ybin)\n",
    "N=2\n",
    "print('Approximated sum: {0}'.format(simpsons(myfun, N, a, b, verbose=True, text=text, figname=\"simpsons_%d.png\"%N)))"
   ]
  },
  {
   "cell_type": "markdown",
   "metadata": {},
   "source": [
    "<div id='mp' />\n",
    "\n",
    "## Midpoint\n",
    "\n",
    "Una de las limitaciones de las dos reglas anteriores, es que requieren evaluar $f$ en los extremos del intervalo, y pueden haber casos en donde $f$ no esté bien definida en tales puntos.\n",
    "\n",
    "La regla del punto medio _midpoint_ para cada dos puntos $(x_k,f(x_k))$ y $(x_{k+1},f(x_{k+1}))$, aproxima la función por una expansión de Taylor de grado $1$, centrada en el punto medio $\\displaystyle \\left( \\frac{x_k+x_{k+1}}{2}, f\\left(\\frac{x_k+x_{k+1}}{2} \\right) \\right)$, es decir, aproxima $f$ por un polinomio de grado $1$ (al igual que la regla del trapecio).\n",
    "\n",
    "Al particionar el intervalo $[a,b]$ en $m$ segmentos y $m+1$ puntos $a = x_0 < \\cdots < x_{m} = b \\ \\ $, se obtiene el siguiente resultado:\n",
    "\n",
    "\\begin{align*}\n",
    "\\int_{a}^{b} f(x) dx = \\sum_{i=1}^{m} \\int_{x_{i-1}}^{x_{i}} f(x) dx  \\\\\n",
    "                     = \\sum_{i=1}^{m} h f(w_i) + \\underbrace{\\frac{(b-a)}{24} h^2 f''(c)}_{\\text{Error term}}\n",
    "\\end{align*}\n",
    "donde $h=(b-a)/m \\ \\ \\ $,\n",
    "$w_i=\\frac{1}{2}(x_{i-1}+x_{i})\\ \\ \\ $\n",
    "y\n",
    "$\\ \\ c \\in [a, b]$"
   ]
  },
  {
   "cell_type": "code",
   "execution_count": 7,
   "metadata": {},
   "outputs": [
    {
     "data": {
      "image/png": "[encoded data removed]",
      "text/plain": [
       "<Figure size 864x432 with 1 Axes>"
      ]
     },
     "metadata": {
      "needs_background": "light"
     },
     "output_type": "display_data"
    },
    {
     "name": "stdout",
     "output_type": "stream",
     "text": [
      "Approximated sum: 2.3348058545146397\n"
     ]
    }
   ],
   "source": [
    "def midpoint(myfun, N, a, b, verbose=False, text='', figname=''):\n",
    "    f = np.vectorize(myfun) # So we can apply it to arrays without trouble\n",
    "    x = np.linspace(a, b, N+1) # We want N bins, so N+1 points  \n",
    "    dx = x[1]-x[0]\n",
    "    midpoints = x[:-1] + .5*dx\n",
    "    midpoint_values = f(midpoints)\n",
    "    int_val = sum(midpoint_values*dx)\n",
    "    if verbose:\n",
    "        xbin = np.vstack([x[:-1], x[1:]]).flatten('F')\n",
    "        ybin = np.vstack([midpoint_values, midpoint_values]).flatten('F')\n",
    "        plot(f, xbin, ybin, int_val, N, text, figname)\n",
    "    return int_val\n",
    "\n",
    "N = 5\n",
    "#myfun = lambda x : x + 1\n",
    "print('Approximated sum: {0}'.format(midpoint(myfun, N, a, b, verbose=True, text=text, figname=\"midpoint_%d.png\"%N)))"
   ]
  },
  {
   "cell_type": "markdown",
   "metadata": {},
   "source": [
    "<div id='cg' />\n",
    "\n",
    "## Cuadratura Gaussiana\n",
    "\n",
    "Similar a las ideas que propuso Chebyshev para mejorar los método de interpolación, nace la siguiente pregunta:\n",
    "\n",
    "* _¿Se podrá mejorar el proceso de integración particionando $[a,b]$ de una forma no equiespaciada?_\n",
    "\n",
    "La respuesta a esta pregunta es __sí__. De modo análogo a los puntos de Chebyshev, aca podemos seleccionar las raíces de los polinomios de Legendre $p_n(x)$ siguientes:\n",
    "\\begin{align*}\n",
    "p_n(x) = \\frac{1}{2^n n!} \\frac{d^n}{dx^n} \\left[ (x^2 - 1)^n \\right]\n",
    "\\end{align*}\n",
    "para luego interpolar $f$ sobre estos puntos, generando un polinomio $p_{n-1}$ sobre el cual realizar la integración.\n",
    "\n",
    "Este método utiliza la siguiente aproximación, para un intervalo $[-1,1]$:\n",
    "\\begin{align*}\n",
    "\\int_{a}^{b} f(x) dx \\approx \\sum_{i=1}^n w_i f(x_i)\n",
    "\\end{align*}\n",
    "donde los $x_i$ se definen como las raíces del n-ésimo polinomio de Legendre $p_n(x)$, y los $w_i$ se calculan como:\n",
    "$$\n",
    "w_i = \\int_{-1}^{1}L_{i}(x)dx, \\ \\ \\  i = 1,\\dots,n\n",
    "$$\n",
    "siendo $L_i(x)$ los conocidos polinomio de la interpolación de Lagrange.\n",
    "\n",
    "\n",
    "__Nota__: Para un intervalo arbitrario $[a,b]$ es necesario realizar la transformación lineal correspondiente."
   ]
  },
  {
   "cell_type": "code",
   "execution_count": 8,
   "metadata": {},
   "outputs": [
    {
     "data": {
      "image/png": "[encoded data removed]",
      "text/plain": [
       "<Figure size 864x432 with 1 Axes>"
      ]
     },
     "metadata": {
      "needs_background": "light"
     },
     "output_type": "display_data"
    },
    {
     "name": "stdout",
     "output_type": "stream",
     "text": [
      "Approximated sum: 2.350402386462826\n"
     ]
    }
   ],
   "source": [
    "def gaussianquad(myfun, N, a, b, verbose=False, text=\"\", figname=\"\"):\n",
    "    f = np.vectorize(myfun) # So we can apply it to arrays without trouble\n",
    "    x, w = gaussian_nodes_and_weights(N, a, b)\n",
    "    int_val = sum( w * f(x) )\n",
    "    if verbose:\n",
    "        xbin, ybin = gaussian_bins(f, x, w)\n",
    "        plot(f, xbin, ybin, int_val, N, text, figname)\n",
    "    return int_val\n",
    "\n",
    "# Comment: These nodes could be precomputed in advance, here\n",
    "# they are computed as needed so it will penalize the \n",
    "# computation time.\n",
    "def gaussian_nodes_and_weights(N, a, b):\n",
    "    if N==1: \n",
    "        return np.array([1]), np.array([2])\n",
    "    beta = .5 / np.sqrt(1.-(2.*np.arange(1.,N))**(-2))\n",
    "    T = np.diag(beta,1) + np.diag(beta,-1)\n",
    "    D, V = np.linalg.eigh(T)\n",
    "    x = D\n",
    "    x = .5 * ( (b-a)*x + b + a) # Rescaling\n",
    "    w = 2*V[0,:]**2\n",
    "    w = .5*(b-a)*w\n",
    "    return x, w\n",
    "\n",
    "def gaussian_bins(f, x, w):\n",
    "    z = [a] + list(a + w.cumsum())\n",
    "    xbin = np.vstack([z[:-1], z[1:]]).flatten('F')\n",
    "    z = f(x)\n",
    "    ybin = np.vstack([z[:], z[:]]).flatten('F')\n",
    "    return np.array(xbin), np.array(ybin)\n",
    "\n",
    "print('Approximated sum: {0}'.format(gaussianquad(myfun, N, a, b, verbose=True, \n",
    "                                    text=text, figname=\"gaussianquad_%d.png\"%N)))"
   ]
  },
  {
   "cell_type": "code",
   "execution_count": 9,
   "metadata": {},
   "outputs": [
    {
     "data": {
      "text/plain": [
       "(array([-0.57735027,  0.57735027]), array([1., 1.]))"
      ]
     },
     "execution_count": 9,
     "metadata": {},
     "output_type": "execute_result"
    }
   ],
   "source": [
    "gaussian_nodes_and_weights(2, -1, 1)"
   ]
  },
  {
   "cell_type": "markdown",
   "metadata": {},
   "source": [
    "## Preguntas\n",
    "* El método de _Midpoint_ y el del Trapecio se basan ambos en aproximaciones por polinomio de grado $1$. ¿Cuál considera usted mejor?. _Hint:_ Considere la cantidad de evaluaciones de funciones, y el termino de error.\n",
    "* ¿Cuál es la importancia del término $h$ en los _Error term_ de cada método?\n",
    "* ¿Cuál es la importancia del orden de la derivada $f^{(k)}(c)$ en los _Error term_ de cada método?"
   ]
  },
  {
   "cell_type": "markdown",
   "metadata": {},
   "source": [
    "<div id='ac' />\n",
    "\n",
    "# Análisis de Convergencia\n",
    "\n",
    "Para entender bien el concepto de convergencia, es fundamental entender correctamente dos conceptos:\n",
    "\n",
    "* **Grado de Precisión (Degree of Precision)**. Para un método de integración numérica, corresponde al mayor entero $k$ para el cual todos los polinomios de grado $k$ o menor, son integrados exactamente (sin error). Si recordamos los métodos ya estudiados, el término de error tiene la forma general:\n",
    "$$\n",
    "\\text{Error term} = C \\ h^p \\ f^{(q)}(c) \\ \\ \\ \\ \\text{con} \\ \\ C \\ \\text{constante} \\ \\ \\text{y} \\ \\ p,q \\in \\mathbb{N}\n",
    "$$\n",
    "Dado que para cualquier polinomio de grado $\\leq q-1$ se obtiene que $f^{(q)}=0$, entonces el _grado de precisión_ de un tal método, viene determinado por el orden de la derivada, y es $q-1$.\n",
    "* **Orden de convergencia.** El orden de convergencia está derminada por la otra componente del _Error term_, esto es, por $h^p$. Recordar que $h$ debe ser _pequeño_ ($h < 1$), y por lo tanto a mayor potencia $p$, menor será el orden del método. El orden de convergencia, nos dice _cómo decrece el error a medida que se aumentan la cantidad de puntos de la malla_. \n",
    "\n",
    "\n",
    "A continuación compararemos gráficamente la convergencia de estos métodos:"
   ]
  },
  {
   "cell_type": "code",
   "execution_count": 10,
   "metadata": {},
   "outputs": [],
   "source": [
    "def get_error(quadrature_rule, myfun, Nrange, a, b, true_value):\n",
    "    quad_error = []\n",
    "    for N in Nrange:\n",
    "        error = np.abs(true_value - quadrature_rule(myfun, N, a, b) )\n",
    "        if error<1E-16:\n",
    "            quad_error.append(1E-16)\n",
    "        else:\n",
    "            quad_error.append(error)\n",
    "    return quad_error\n",
    "\n",
    "def set_ylim(ymin, ymax):\n",
    "    ymin = min(plt.ylim()[0], ymin)\n",
    "    ymax = max(plt.ylim()[1], ymax)\n",
    "    plt.ylim([ymin, ymax])\n",
    "    return\n",
    "\n",
    "def convergence(exp_data):\n",
    "    Nrange     = exp_data[0]\n",
    "    myfun      = exp_data[1]\n",
    "    a          = exp_data[2]\n",
    "    b          = exp_data[3]\n",
    "    true_value = exp_data[4]\n",
    "    #######################################################\n",
    "    print('Printing numerical experiment details:')\n",
    "    print('Nrange: ', Nrange)\n",
    "    print(inspect.getsource(myfun).replace('\\n', ''))\n",
    "    print('a: ', a)\n",
    "    print('b: ', b)\n",
    "    print('true_value: ', true_value)\n",
    "    #######################################################\n",
    "    ms = 10\n",
    "    f = np.vectorize(myfun) # So we can apply it to arrays without trouble\n",
    "    e_mp = get_error(midpoint, myfun, Nrange, a, b, true_value)\n",
    "    e_tr = get_error(trapezoid, myfun, Nrange, a, b, true_value)\n",
    "    e_sp = get_error(simpsons, myfun, Nrange, a, b, true_value)\n",
    "    e_gq = get_error(gaussianquad, myfun, Nrange, a, b, true_value)\n",
    "    #plt.figure(figsize=(12,16))\n",
    "    fig = plt.figure(figsize=(24,24))\n",
    "    plt.rcParams.update({'font.size': 22})\n",
    "    \n",
    "    # First plot\n",
    "    ax = plt.subplot(2,2,1)\n",
    "    dd = 0.1*(b-a)\n",
    "    x = np.linspace(a-dd, b+dd, 1000)\n",
    "    plt.plot(x, f(x), 'k', label=\"f(x)\", lw=2.0)\n",
    "    x = np.linspace(a, b, 1000)\n",
    "    plt.fill_between(x, f(x), 0, alpha=0.5, label=r\"$\\int_a^b f(x) dx$\")\n",
    "    plt.xlabel(\"x\")\n",
    "    plt.ylabel(\"f(x)\")\n",
    "    ymax = 1.05*plt.ylim()[1]\n",
    "    plt.ylim([-ymax, ymax])\n",
    "    plt.grid('on')\n",
    "    plt.legend(loc=\"lower left\")\n",
    "    \n",
    "    # Second plot\n",
    "    ax = plt.subplot(2,2,2) \n",
    "    plt.plot(Nrange, e_mp, 'sb', lw=2.0, ms=ms, label=\"Midpoint\")\n",
    "    plt.plot(Nrange, e_tr, 'or', lw=2.0, ms=ms, label=\"Trapezoid\")\n",
    "    plt.plot(Nrange, e_sp, '>y', lw=2.0, ms=ms, label=\"Simpsons\")\n",
    "    plt.plot(Nrange, e_gq, 'Dg', lw=2.0, ms=ms, label=\"Gaussian Quad\")\n",
    "    set_ylim(-5E-2, 1E-1)\n",
    "    plt.xlabel(\"N\")\n",
    "    plt.ylabel(\"Absolute Error\")\n",
    "    ax.legend(loc='best', bbox_to_anchor=(0.5, 1.00), ncol=1, fancybox=True, shadow=True, numpoints=1)\n",
    "    plt.grid('on')\n",
    "    \n",
    "    # Third plot\n",
    "    ax = plt.subplot(2,2,3)\n",
    "    plt.loglog(Nrange, e_mp, 'sb', ms=ms, lw=2.0, label=\"Midpoint\")\n",
    "    plt.loglog(Nrange, e_tr, 'or', ms=ms, lw=2.0, label=\"Trapezoid\")\n",
    "    plt.loglog(Nrange, e_sp, '>y', ms=ms, lw=2.0, label=\"Simpsons\")\n",
    "    plt.loglog(Nrange, e_gq, 'Dg', ms=ms, lw=2.0, label=\"Gaussian Quad\")\n",
    "    ax.legend(loc='best', ncol=1, fancybox=True, shadow=True, numpoints=1)\n",
    "    plt.ylim([1E-18, 1E+1])\n",
    "    N = np.arange(1,101,10)\n",
    "    #plt.loglog(N, 1./N, '-k', lw=2.0, alpha=0.5)\n",
    "    plt.loglog(N, 1./N**2, '-k', lw=2.0, alpha=0.5)\n",
    "    #plt.loglog(N, 1./N**3, '-k', lw=2.0, alpha=0.5)\n",
    "    plt.loglog(N, 1./N**4, '-k', lw=2.0, alpha=0.5)\n",
    "    plt.xlabel(\"N\")\n",
    "    plt.ylabel(\"Absolute Error\")\n",
    "    plt.xlim([0.9*min(Nrange),1.1*max(Nrange)])\n",
    "    plt.grid('on')\n",
    "    #print(Nrange)\n",
    "    #print(np.log10(e_mp))\n",
    "    #print(np.log10(e_tr))\n",
    "    #print(np.log10(e_sp))\n",
    "    #print(np.log10(e_gq))\n",
    "    \n",
    "    # Forth plot\n",
    "    ax = plt.subplot(2,2,4)\n",
    "    h = 1./np.arange(1,101,10)\n",
    "    #plt.loglog(h, h, '-k', lw=2.0, alpha=0.5)\n",
    "    plt.loglog(h, h**2, '-k', lw=2.0, alpha=0.5)\n",
    "    #plt.loglog(h, h**3, '-k', lw=2.0, alpha=0.5)\n",
    "    plt.loglog(h, h**4, '-k', lw=2.0, alpha=0.5)\n",
    "    # Plotting Gaussian Quadratupre first but using larger markers\n",
    "    h = 1./np.array(Nrange)\n",
    "    plt.loglog(h, e_mp, 'sb', lw=2.0, ms=ms, label=\"Midpoint\")\n",
    "    plt.loglog(h, e_tr, 'or', lw=2.0, ms=ms, label=\"Trapezoid\")\n",
    "    plt.loglog(h, e_sp, '>y', lw=2.0, ms=ms, label=\"Simpsons\")\n",
    "    plt.loglog(h, e_gq, 'Dg', lw=2.0, ms=ms, label=\"Gaussian Quad\")\n",
    "    ax.legend(loc='best', ncol=1, fancybox=True, shadow=True, numpoints=1)\n",
    "    plt.ylim([1E-18, 1E+1])\n",
    "    plt.xlabel(\"h\")\n",
    "    plt.ylabel(\"Absolute Error\")\n",
    "    plt.grid('on')\n",
    "    plt.xlim([0.9*min(h),1.1*max(h)])\n",
    "    plt.show()\n",
    "    #fig.savefig('myfig.eps', format='eps')"
   ]
  },
  {
   "cell_type": "markdown",
   "metadata": {},
   "source": [
    "### Parámetros\n",
    "\n",
    "A continuación, se defininen los parámetros a utilizar en nuestros experimentos."
   ]
  },
  {
   "cell_type": "code",
   "execution_count": 11,
   "metadata": {},
   "outputs": [],
   "source": [
    "list_experiments=[]\n",
    "###########################\n",
    "# Function 1: Constant\n",
    "# All methods are good\n",
    "Ns = range(4, 11)\n",
    "x0, x1, x2 = 5., -1., 3.\n",
    "f = lambda x : 1\n",
    "a = -1.0\n",
    "b = +1.0\n",
    "sol = 2\n",
    "exp1 = (Ns, f, a, b, sol)\n",
    "list_experiments.append(('exp1: '+inspect.getsource(f).replace('\\n', ''),exp1))\n",
    "\n",
    "###########################\n",
    "# Function 2: sin\n",
    "# All method equal if symmetric interval\n",
    "# Gaussian quad better if asymmetric interval\n",
    "Ns = range(4, 100)\n",
    "f = lambda x : np.sin(x)\n",
    "a = 0.0\n",
    "b = +1.0\n",
    "sol = -np.cos(b)+np.cos(a)\n",
    "exp2 = (Ns, f, a, b, sol)\n",
    "list_experiments.append(('exp2: '+inspect.getsource(f).replace('\\n', ''),exp2))\n",
    "\n",
    "###########################\n",
    "# Function 3: gaussian bell\n",
    "# gaussian quad outperforms all the other methods\n",
    "Ns = range(4, 20)\n",
    "f = lambda x : np.exp(-x**2)\n",
    "a = -1.0\n",
    "b = +1.0\n",
    "sol = 1.4936482656248541 # Specific value for the range [-1,1]\n",
    "exp3 = (Ns, f, a, b, sol)\n",
    "list_experiments.append(('exp3: '+inspect.getsource(f).replace('\\n', ''),exp3))\n",
    "\n",
    "###########################\n",
    "# Function 4: exponential\n",
    "# gaussian quad outperforms all the other methods\n",
    "Ns = range(4, 11) #20\n",
    "f = lambda x : np.exp(x)\n",
    "a = -1.0\n",
    "b = +2.0\n",
    "sol = np.exp(b) - np.exp(a)\n",
    "exp4 = (Ns, f, a, b, sol)\n",
    "list_experiments.append(('exp4: '+inspect.getsource(f).replace('\\n', ''),exp4))\n",
    "\n",
    "###########################\n",
    "# Function 5: logarithm\n",
    "Ns = range(4, 20)\n",
    "f = lambda x : np.log(np.abs(x))\n",
    "a = 1e-10 # 0\n",
    "b = +1.0\n",
    "sol = (b*np.log(b)-b) - (a*np.log(a)-a)#-2.0000000000000000 # -1 \n",
    "exp5 = (Ns, f, a, b, sol)\n",
    "list_experiments.append(('exp5: '+inspect.getsource(f).replace('\\n', ''),exp5))\n",
    "\n",
    "###########################\n",
    "# Function 6 and true value\n",
    "Ns = range(4, 20)\n",
    "f = lambda x : np.sin(x)/x #if abs(x)>1e-6 else 1.0\n",
    "a = -1.0\n",
    "b = +1.0\n",
    "sol = 1.8921661407343660\n",
    "exp6 = (Ns, f, a, b, sol)\n",
    "list_experiments.append(('exp6: '+inspect.getsource(f).replace('\\n', ''),exp6))\n",
    "\n",
    "###########################\n",
    "# Function 7 : absolute value\n",
    "# Midpoint wins\n",
    "# Do (-1,1) and (-2,1)\n",
    "Ns = range(4, 20)\n",
    "f = lambda x : abs(x)\n",
    "a = -1 #-np.pi\n",
    "b = +1.0\n",
    "sol = (a**2+b**2)/2.\n",
    "exp7 = (Ns, f, a, b, sol)\n",
    "list_experiments.append(('exp7: '+inspect.getsource(f).replace('\\n', ''),exp7))\n",
    "\n",
    "###########################\n",
    "# Function 8 : Gaussian\n",
    "# Midpoint/Traps wins over gaussian\n",
    "Ns = range(4, 100)\n",
    "f = lambda x : np.exp(-x**2)\n",
    "a = -10.0\n",
    "b = +10.0\n",
    "sol = np.sqrt(math.pi)\n",
    "exp8 = (Ns, f, a, b, sol)\n",
    "list_experiments.append(('exp8: '+inspect.getsource(f).replace('\\n', ''),exp8))\n",
    "\n",
    "###########################\n",
    "# Function 9 : 1/x^2\n",
    "# Gaussian wins, but they all degrade if a->0\n",
    "# Here we should try an adaptative method\n",
    "Ns = range(4, 20)\n",
    "f = lambda x : 1.0/(x**2)\n",
    "a = 1e-4\n",
    "b = +1.\n",
    "sol = 1.0/a - 1.0/b\n",
    "exp9 = (Ns, f, a, b, sol)\n",
    "list_experiments.append(('exp9: '+inspect.getsource(f).replace('\\n', ''),exp9))\n",
    "\n",
    "###########################\n",
    "# Function 10 : 1/x^0.5\n",
    "Ns = range(4, 20)\n",
    "f = lambda x : 1.0/(np.sqrt(np.abs(x)))\n",
    "a = 0.0\n",
    "b = 1.0\n",
    "sol = 2.0\n",
    "exp10 = (Ns, f, a, b, sol)\n",
    "list_experiments.append(('exp10: '+inspect.getsource(f).replace('\\n', ''),exp10))"
   ]
  },
  {
   "cell_type": "markdown",
   "metadata": {},
   "source": [
    "### Test de Convergencia\n",
    "Finalmente podemos testear la convergencia de nuestros métodos"
   ]
  },
  {
   "cell_type": "code",
   "execution_count": 12,
   "metadata": {},
   "outputs": [
    {
     "data": {
      "application/vnd.jupyter.widget-view+json": {
       "model_id": "c7345773845b4d5483e85452595ffea6",
       "version_major": 2,
       "version_minor": 0
      },
      "text/plain": [
       "interactive(children=(Dropdown(description='exp_data', options=(('exp1: f = lambda x : 1', (range(4, 11), <fun…"
      ]
     },
     "metadata": {},
     "output_type": "display_data"
    },
    {
     "data": {
      "text/plain": [
       "<function __main__.convergence(exp_data)>"
      ]
     },
     "execution_count": 12,
     "metadata": {},
     "output_type": "execute_result"
    }
   ],
   "source": [
    "interact(convergence, exp_data=list_experiments)"
   ]
  },
  {
   "cell_type": "markdown",
   "metadata": {},
   "source": [
    "<div id='at' />\n",
    "\n",
    "# Análisis de Tiempo\n",
    "\n",
    "Usamos el siguiente decorador para medir los tiempos de ejecución de las funciones"
   ]
  },
  {
   "cell_type": "code",
   "execution_count": 13,
   "metadata": {},
   "outputs": [],
   "source": [
    "def timeit(f):\n",
    "    def timed(*args, **kw):\n",
    "        N = 50\n",
    "        T = 0.\n",
    "        for i in range(N):\n",
    "            ts = time.time()\n",
    "            result = f(*args, **kw)\n",
    "            te = time.time()\n",
    "            T += (te-ts)*1000. # In ms  \n",
    "        return T/N\n",
    "    return timed"
   ]
  },
  {
   "cell_type": "code",
   "execution_count": 14,
   "metadata": {},
   "outputs": [],
   "source": [
    "\"\"\"\n",
    "Decorated functions\n",
    "\"\"\"\n",
    "@timeit\n",
    "def t_trapezoid(myfun, N, a, b):\n",
    "    return trapezoid(myfunc, N, a, b)\n",
    "\n",
    "@timeit\n",
    "def t_simpsons(myfun, N, a, b):\n",
    "    return simpsons(myfunc, N, a, b)\n",
    "\n",
    "@timeit\n",
    "def t_midpoint(myfun, N, a, b):\n",
    "    return midpoint(myfun, N, a, b)\n",
    "\n",
    "@timeit\n",
    "def t_gaussianquad(myfun, N, a, b):\n",
    "    return gaussianquad(myfunc, N, a, b)"
   ]
  },
  {
   "cell_type": "code",
   "execution_count": 15,
   "metadata": {},
   "outputs": [],
   "source": [
    "def timing(exp_data):\n",
    "    Nrange     = exp_data[0]\n",
    "    myfun      = exp_data[1]\n",
    "    a          = exp_data[2]\n",
    "    b          = exp_data[3]\n",
    "    true_value = 0.0\n",
    "    #######################################################\n",
    "    print('Printing numerical experiment details:')\n",
    "    print('Nrange: ', Nrange)\n",
    "    print(inspect.getsource(myfun).replace('\\n', ''))\n",
    "    print('a: ', a)\n",
    "    print('b: ', b)\n",
    "    print('true_value (for time!): ', true_value)\n",
    "    #######################################################\n",
    "    ms = 10\n",
    "    f = np.vectorize(myfun) # So we can apply it to arrays without trouble\n",
    "    e_mp = get_error(midpoint, myfun, Nrange, a, b, true_value)\n",
    "    e_tr = get_error(trapezoid, myfun, Nrange, a, b, true_value)\n",
    "    e_sp = get_error(simpsons, myfun, Nrange, a, b, true_value)\n",
    "    e_gq = get_error(gaussianquad, myfun, Nrange, a, b, true_value)\n",
    "    plt.figure(figsize=(12,16))\n",
    "    # First plot\n",
    "    ax = plt.subplot(4,1,1)\n",
    "    dd = 0.1*(b-a)\n",
    "    x = np.linspace(a-dd, b+dd, 1000)\n",
    "    plt.plot(x, f(x), 'k', label=\"f(x)\", lw=2.0)\n",
    "    x = np.linspace(a, b, 1000)\n",
    "    plt.fill_between(x, myfun(x), 0, alpha=0.5, label=r\"$\\int_a^b f(x) dx$\")\n",
    "    plt.xlabel(\"x\")\n",
    "    plt.ylabel(\"f(x)\")\n",
    "    ymax = 1.05*plt.ylim()[1]\n",
    "    plt.ylim([-ymax, ymax])\n",
    "    plt.grid('on')\n",
    "    plt.legend(loc=\"lower left\")\n",
    "    # Second plot\n",
    "    ax = plt.subplot(4,1,2) \n",
    "    plt.plot(Nrange, e_mp, 'sb', lw=2.0, ms=ms, label=\"Midpoint\")\n",
    "    plt.plot(Nrange, e_tr, 'or', lw=2.0, ms=ms, label=\"Trapezoid\")\n",
    "    plt.plot(Nrange, e_gq, 'Dg', lw=2.0, ms=ms, label=\"Gaussian Quad\")\n",
    "    plt.plot(Nrange, e_sp, '>y', lw=2.0, ms=ms, label=\"Simpsons\")\n",
    "    set_ylim(-5E-2, 1E-1)\n",
    "    plt.xlabel(\"N\")\n",
    "    plt.ylabel(\"Tiempo [ms]\")\n",
    "    ax.legend(loc='upper center', bbox_to_anchor=(0.5, 1.00),\n",
    "          ncol=4, fancybox=True, shadow=True, numpoints=1)\n",
    "    plt.grid('on')\n",
    "    # Third plot\n",
    "    plt.subplot(4,1,3)\n",
    "    plt.loglog(Nrange, e_mp, 'sb', ms=ms, lw=2.0)\n",
    "    plt.loglog(Nrange, e_tr, 'or', ms=ms, lw=2.0)\n",
    "    plt.loglog(Nrange, e_sp, '>y', ms=ms, lw=2.0)\n",
    "    plt.loglog(Nrange, e_gq, 'Dg', ms=ms, lw=2.0)\n",
    "    #set_ylim(1E-18, 1E+1)\n",
    "    plt.xlabel(\"N\")\n",
    "    plt.ylabel(\"Tiempo [ms]\")\n",
    "    plt.grid('on')\n",
    "    # Forth plot\n",
    "    plt.subplot(4,1,4)\n",
    "    # Plotting Gaussian Quadratupre first but using larger markers\n",
    "    h = 1./np.array(Nrange)\n",
    "    plt.loglog(h, e_gq, 'Dg', lw=2.0, ms=ms)\n",
    "    plt.loglog(h, e_mp, 'sb', lw=2.0, ms=ms)\n",
    "    plt.loglog(h, e_tr, 'or', lw=2.0, ms=ms)\n",
    "    plt.loglog(h, e_sp, '>y', lw=2.0, ms=ms)\n",
    "    #set_ylim(1E-18, 1E+1)\n",
    "    plt.xlabel(\"h\")\n",
    "    plt.ylabel(\"Tiempo [ms]\")\n",
    "    plt.grid('on')\n",
    "    plt.show()"
   ]
  },
  {
   "cell_type": "markdown",
   "metadata": {},
   "source": [
    "### Test de tiempos\n",
    "\n",
    "Finalmente podemos testear los tiempos de nuestros métodos"
   ]
  },
  {
   "cell_type": "code",
   "execution_count": 16,
   "metadata": {},
   "outputs": [
    {
     "data": {
      "application/vnd.jupyter.widget-view+json": {
       "model_id": "efc4c066b1d143d3aaaa849c5656b5a7",
       "version_major": 2,
       "version_minor": 0
      },
      "text/plain": [
       "interactive(children=(Dropdown(description='exp_data', options=(('exp1: f = lambda x : 1', (range(4, 11), <fun…"
      ]
     },
     "metadata": {},
     "output_type": "display_data"
    }
   ],
   "source": [
    "interact(timing, exp_data=list_experiments);"
   ]
  },
  {
   "cell_type": "markdown",
   "metadata": {},
   "source": [
    "<div id='acknowledgements' />\n",
    "\n",
    "# Acknowledgements\n",
    "* _Material creado por profesor Claudio Torres_ (`ctorres@inf.utfsm.cl`) _y ayudantes: Alvaro Salinas y Martín Villanueva. DI UTFSM. Abril 2016._\n",
    "\n",
    "***\n",
    "### DISCLAIMER ###\n",
    "\n",
    "El presente notebook ha sido creado para el curso **ILI286 - Computación Científica 2**, del [Departamento de Informática](http://www.inf.utfsm.cl/), [Universidad Técnica Federico Santa María](http://www.utfsm.cl/). \n",
    "\n",
    "El material ha sido creado por Claudio Torres <ctorres@inf.utfsm.cl> y Sebastian Flores <sebastian.flores@usm.cl>, y es distribuido sin restricciones. En caso de encontrar un error, por favor no dude en contactarnos.\n",
    "\n",
    "[Update 2016] (Martín) Notebook creado como una fusión de las tres partes anteriores. Modificadas funciones de integración con parámetro verbose para controlar la salida, y añadido el decorador para medir los tiempos. \n",
    "\n",
    "[Update 2017] (Cristopher) Corrección de typos, correccion de método del trapecio.\n",
    "\n",
    "[Update 2017] (C. Torres) Adding *interact*.\n",
    "\n",
    "[Update 2019] (C. Torres) changing .flatten(1) to .flatten('F'). Fixing issue with titles of sections.\n",
    "***"
   ]
  },
  {
   "cell_type": "code",
   "execution_count": null,
   "metadata": {},
   "outputs": [],
   "source": []
  }
 ],
 "metadata": {
  "kernelspec": {
   "display_name": "Python 3",
   "language": "python",
   "name": "python3"
  },
  "language_info": {
   "codemirror_mode": {
    "name": "ipython",
    "version": 3
   },
   "file_extension": ".py",
   "mimetype": "text/x-python",
   "name": "python",
   "nbconvert_exporter": "python",
   "pygments_lexer": "ipython3",
   "version": "3.8.5"
  }
 },
 "nbformat": 4,
 "nbformat_minor": 4
}
