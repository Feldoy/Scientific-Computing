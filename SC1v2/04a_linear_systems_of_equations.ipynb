{
 "cells": [
  {
   "cell_type": "markdown",
   "metadata": {},
   "source": [
    "<center>\n",
    "    <img src=\"http://sct.inf.utfsm.cl/wp-content/uploads/2020/04/logo_di.png\" style=\"width:60%\">\n",
    "    <h1> INF-285 - Computación Científica </h1>\n",
    "    <h2> Linear Systems of Equations </h2>\n",
    "    <h2> <a href=\"#acknowledgements\"> [S]cientific [C]omputing [T]eam </a> </h2>\n",
    "    <h2> Version: 1.17</h2>\n",
    "</center>"
   ]
  },
  {
   "cell_type": "markdown",
   "metadata": {},
   "source": [
    "<div id='toc' />\n",
    "\n",
    "## Table of Contents\n",
    "* [Introduction](#intro)\n",
    "* [Direct Methods](#DM)\n",
    "    * [LU](#lu)\n",
    "    * [PALU](#palu)\n",
    "    * [Cholesky](#cholesky)\n",
    "* [Iterative Methods](#im)\n",
    "    * [Jacobi](#jacobi)\n",
    "    * [Gauss-Seidel](#gaussseidel)\n",
    "    * [SOR](#sor)\n",
    "* [Convergence Analysis](#ca)\n",
    "* [Examples](#examples)\n",
    "    * [Hilbert Matrix](#hilbertMatrix)\n",
    "    * [Motivation for PALU in classnotes example](#classnotesPaluExample)\n",
    "    * [Iterative Methods classnotes example](#iterativeMethodExample)\n",
    "* [Exercises](#ex)\n",
    "* [Acknowledgements](#acknowledgements)"
   ]
  },
  {
   "cell_type": "code",
   "execution_count": 113,
   "metadata": {},
   "outputs": [],
   "source": [
    "import numpy as np\n",
    "import matplotlib.pyplot as plt\n",
    "from scipy.linalg import lu\n",
    "import pandas as pd\n",
    "%matplotlib inline\n",
    "from scipy.linalg import hilbert"
   ]
  },
  {
   "cell_type": "markdown",
   "metadata": {},
   "source": [
    "<div id='intro' />\n",
    "\n",
    "## Introduction\n",
    "[Back to TOC](#toc)\n",
    "\n",
    "In our last Jupyter Notebook we learned how to solve 1D equations. Now, we'll go to the next level and will learn how to solve not just <i>one</i> equation, but a <i>system</i> of linear equations. This is a set of $n$ equations involving $n$ variables wherein all the equations must be satisfied at the same time. You probably know how to solve small 2D systems with methods such as substitution and reduction, but in practical real-life situations it's very likely that you'll find problems of bigger dimensions. As usual, we'll present some useful methods for solving systems of linear equations below."
   ]
  },
  {
   "cell_type": "markdown",
   "metadata": {},
   "source": [
    "<div id='DM' />\n",
    "\n",
    "## Direct Methods\n",
    "[Back to TOC](#toc)"
   ]
  },
  {
   "cell_type": "markdown",
   "metadata": {},
   "source": [
    "Firstly, we will study _direct methods_. They compute the analytic solution of the system (from here comes the name **direct**) limited only by the loss of numerical precision, because of the arithmetic operations performed by the computer. Their counterpart is the _iterative methods_, which calculate an approximate solution that evolves iteratively converging to the real solution."
   ]
  },
  {
   "cell_type": "markdown",
   "metadata": {},
   "source": [
    "<div id='lu' />\n",
    "\n",
    "### LU decomposition\n",
    "[Back to TOC](#toc)"
   ]
  },
  {
   "cell_type": "markdown",
   "metadata": {},
   "source": [
    "Given the matrix $A \\in \\mathbb{R}^{n \\times n}$ square and non singular, the main goal of this method involves finding a decomposition like $A = L U$ where $L,U \\in  \\mathbb{R}^{n \\times n}$ are lower and upper triangular matrices respectively.\n",
    "\n",
    "The algorithm to perform this decomposition is basically a modified version of _Gaussian Elimination_. It basically iterates through the first $n-1$ columns, making $0$ all the entries below the main diagonal. This is accomplished by performing row operations. "
   ]
  },
  {
   "cell_type": "code",
   "execution_count": 2,
   "metadata": {},
   "outputs": [],
   "source": [
    "def lu_decomp(A, show=False, print_precision=2):\n",
    "    N,_ = A.shape\n",
    "    U = np.copy(A)\n",
    "    L = np.identity(N)\n",
    "    if show:\n",
    "        print('Initial matrices')\n",
    "        print('L = '); print(np.array_str(L, precision=print_precision, suppress_small=True))\n",
    "        print('U = '); print(np.array_str(U, precision=print_precision, suppress_small=True))\n",
    "        print('----------------------------------------')\n",
    "    #iterating through columns\n",
    "    for j in range(N-1):\n",
    "        #iterating through rows\n",
    "        for i in range(j+1,N):\n",
    "            L[i,j] = U[i,j]/U[j,j]\n",
    "            U[i] -= L[i,j]*U[j] \n",
    "            if show:\n",
    "                print('L = '); print(np.array_str(L, precision=print_precision, suppress_small=True))\n",
    "                print('U = '); print(np.array_str(U, precision=print_precision, suppress_small=True))\n",
    "                print('----------------------------------------')\n",
    "    return L,U"
   ]
  },
  {
   "cell_type": "markdown",
   "metadata": {},
   "source": [
    "Once the decomposition is done, solving a linear system like $A x = b$ is straightforward:\n",
    "\n",
    "$$A x = b \\rightarrow L U x = b \\ \\ \\text{ if we set } \\ \\  U x = c \\rightarrow L c = b \\ \\ \\text{ (solve for c) } \\ \\rightarrow U x = c$$\n",
    "\n",
    "and as you might know, solving lower and upper triangular systems can be easily performed by back-substitution and forward-subsitution respectively. "
   ]
  },
  {
   "cell_type": "code",
   "execution_count": 3,
   "metadata": {},
   "outputs": [],
   "source": [
    "\"\"\"\n",
    "Solves a linear system A x = b, where A is a\n",
    "triangular (upper or lower) matrix\n",
    "\"\"\"\n",
    "def solve_triangular(A, b, upper=True):\n",
    "    n = b.shape[0]\n",
    "    x = np.zeros_like(b)\n",
    "    if upper==True:\n",
    "        #perform back-substitution\n",
    "        x[-1] = (1./A[-1,-1]) * b[-1]\n",
    "        for i in range(n-2, -1, -1):\n",
    "            x[i] = (1./A[i,i]) * (b[i] - np.sum(A[i,i+1:] * x[i+1:]))\n",
    "    else:\n",
    "        #perform forward-substitution\n",
    "        x[0] = (1./A[0,0]) * b[0]\n",
    "        for i in range(1,n):\n",
    "            x[i] = (1./A[i,i]) * (b[i] - np.sum(A[i,:i] * x[:i]))\n",
    "    return x\n",
    "\n",
    "def solve_lu(A, b, show=False, print_precision=2):\n",
    "    L,U = lu_decomp(A, show, print_precision=print_precision)\n",
    "    # L.c = b with c = U.x\n",
    "    c = solve_triangular(L, b, upper=False)\n",
    "    x = solve_triangular(U, c)\n",
    "    return x"
   ]
  },
  {
   "cell_type": "markdown",
   "metadata": {},
   "source": [
    "Let's now try our implementations. We begin by creating a random 100$\\times$100 linear system:"
   ]
  },
  {
   "cell_type": "code",
   "execution_count": 4,
   "metadata": {},
   "outputs": [],
   "source": [
    "A = np.random.random((3,3))\n",
    "b = np.ones(3)"
   ]
  },
  {
   "cell_type": "markdown",
   "metadata": {},
   "source": [
    "and then we compute the solution with our LU solver, and aditionally with the NumPy solver which computes the solution using LAPACK routines."
   ]
  },
  {
   "cell_type": "code",
   "execution_count": 5,
   "metadata": {},
   "outputs": [
    {
     "name": "stdout",
     "output_type": "stream",
     "text": [
      "Initial matrices\n",
      "L = \n",
      "[[1. 0. 0.]\n",
      " [0. 1. 0.]\n",
      " [0. 0. 1.]]\n",
      "U = \n",
      "[[0.01 0.56 0.56]\n",
      " [0.79 0.86 0.16]\n",
      " [0.61 0.07 0.3 ]]\n",
      "----------------------------------------\n",
      "L = \n",
      "[[ 1.    0.    0.  ]\n",
      " [94.12  1.    0.  ]\n",
      " [ 0.    0.    1.  ]]\n",
      "U = \n",
      "[[  0.01   0.56   0.56]\n",
      " [  0.   -51.6  -52.47]\n",
      " [  0.61   0.07   0.3 ]]\n",
      "----------------------------------------\n",
      "L = \n",
      "[[ 1.    0.    0.  ]\n",
      " [94.12  1.    0.  ]\n",
      " [73.04  0.    1.  ]]\n",
      "U = \n",
      "[[  0.01   0.56   0.56]\n",
      " [  0.   -51.6  -52.47]\n",
      " [  0.   -40.65 -40.54]]\n",
      "----------------------------------------\n",
      "L = \n",
      "[[ 1.    0.    0.  ]\n",
      " [94.12  1.    0.  ]\n",
      " [73.04  0.79  1.  ]]\n",
      "U = \n",
      "[[  0.01   0.56   0.56]\n",
      " [  0.   -51.6  -52.47]\n",
      " [  0.     0.     0.79]]\n",
      "----------------------------------------\n"
     ]
    }
   ],
   "source": [
    "lu_sol = solve_lu(A,b, show=True)\n",
    "np_sol = np.linalg.solve(A,b)"
   ]
  },
  {
   "cell_type": "markdown",
   "metadata": {},
   "source": [
    "in order to compare these huge vectors, we use the Euclidean metric as follows:"
   ]
  },
  {
   "cell_type": "code",
   "execution_count": 6,
   "metadata": {},
   "outputs": [
    {
     "data": {
      "text/plain": [
       "4.395207357358892e-15"
      ]
     },
     "execution_count": 6,
     "metadata": {},
     "output_type": "execute_result"
    }
   ],
   "source": [
    "np.linalg.norm(lu_sol - np_sol)"
   ]
  },
  {
   "cell_type": "markdown",
   "metadata": {},
   "source": [
    "which is a very good result!"
   ]
  },
  {
   "cell_type": "markdown",
   "metadata": {},
   "source": [
    "This method has two important facts to be noted:\n",
    "\n",
    "1. Computing the LU decomposition requires $2n^3/3$ floating point operations. Can you check that?\n",
    "2. When computing the LU decomposition you can see the instruction `L[i,j] = U[i,j]/U[j,j]`. Here we divide an entry below the main diagonal by the _pivot_ value. What happens if the pivot equals 0? How can we prevent that? **Answer:** PALU."
   ]
  },
  {
   "cell_type": "markdown",
   "metadata": {},
   "source": [
    "<div id='palu' />\n",
    "\n",
    "### PALU decomposition\n",
    "[Back to TOC](#toc)"
   ]
  },
  {
   "cell_type": "markdown",
   "metadata": {},
   "source": [
    "As you might've noted previously, LU has a problem when a _pivot_ has the value of $0$. To handle this problem, we add row permutations to the original LU algorithm. The procedure is as follows:\n",
    "\n",
    "1. When visiting the row $j$, search for $\\max(|a_{j,j}|,\\ |a_{j+1,j}|,\\ \\ldots,\\ |a_{N-1,j}|,\\ |a_{N,j}|)$ (the maximum between the pivot and the entries below it).\n",
    "2. If such maximum is $|a_{j,k}| \\neq |a_{j,j}|$, permutate rows $i$ and $k$ making $a_{j,k}$ the new pivot.\n",
    "\n",
    "To keep track of all the permutations performed, we use the permutation matrix $P$. It's inicially an identity matrix which permutes its rows in the same way the algorithm does on the resulting matrix. "
   ]
  },
  {
   "cell_type": "code",
   "execution_count": 7,
   "metadata": {},
   "outputs": [],
   "source": [
    "#permutation between rows i and j on matrix A\n",
    "def row_perm(A, i, j):\n",
    "    tmp = np.copy(A[i])\n",
    "    A[i] = A[j]\n",
    "    A[j] = tmp\n",
    "\n",
    "def palu_decomp(A, show=False, print_precision=2):\n",
    "    N,_ = A.shape\n",
    "    P = np.identity(N)\n",
    "    L = np.zeros((N,N))\n",
    "    U = np.copy(A)\n",
    "    if show:\n",
    "        print('Initial matrices')\n",
    "        print('P = '); print(np.array_str(P, precision=print_precision, suppress_small=True))\n",
    "        print('L = '); print(np.array_str(L+np.eye(N), precision=print_precision, suppress_small=True))\n",
    "        print('U = '); print(np.array_str(U, precision=print_precision, suppress_small=True))\n",
    "        print('----------------------------------------')\n",
    "    #iterating through columns\n",
    "    for j in range(N-1):\n",
    "        #determine the new pivot\n",
    "        p_index = np.argmax(np.abs(U[j:,j]))\n",
    "        if p_index != 0:\n",
    "            row_perm(P, j, j+p_index)\n",
    "            row_perm(U, j, j+p_index)\n",
    "            row_perm(L, j, j+p_index)\n",
    "            if show:\n",
    "                print('A permutation has been made')\n",
    "                print('P = '); print(np.array_str(P, precision=print_precision, suppress_small=True))\n",
    "                print('L = '); print(np.array_str(L+np.eye(N), precision=print_precision, suppress_small=True))\n",
    "                print('U = '); print(np.array_str(U, precision=print_precision, suppress_small=True))\n",
    "                print('----------------------------------------')\n",
    "        #iterating through rows\n",
    "        for i in range(j+1,N):\n",
    "            L[i,j] = U[i,j]/U[j,j]\n",
    "            U[i] -= L[i,j]*U[j]\n",
    "            if show:\n",
    "                print('P = '); print(np.array_str(P, precision=print_precision, suppress_small=True))\n",
    "                print('L = '); print(np.array_str(L+np.eye(N), precision=print_precision, suppress_small=True))\n",
    "                print('U = '); print(np.array_str(U, precision=print_precision, suppress_small=True))\n",
    "                print('----------------------------------------')\n",
    "    np.fill_diagonal(L,1)\n",
    "    return P,L,U"
   ]
  },
  {
   "cell_type": "markdown",
   "metadata": {},
   "source": [
    "The procedure to solve the system $Ax=b$ remains almost the same. We have to add the efect of the permutation matrix $P$:\n",
    "\n",
    "$$A x = b \\rightarrow P A x = P b \\rightarrow L U x = b' \\ \\ \\text{ if we set } \\ \\  U x = c \\rightarrow L c = b' \\ \\ \\text{ (solve for c) } \\ \\rightarrow U x = c$$"
   ]
  },
  {
   "cell_type": "code",
   "execution_count": 8,
   "metadata": {},
   "outputs": [],
   "source": [
    "def solve_palu(A, b, show=False, print_precision=2):\n",
    "    P,L,U = palu_decomp(A, show, print_precision=print_precision)\n",
    "    #A.x = b -> P.A.x = P.b = b'\n",
    "    b = np.dot(P,b)\n",
    "    # L.c = b' with c = U.x\n",
    "    c = solve_triangular(L, b, upper=False)\n",
    "    x = solve_triangular(U, c)\n",
    "    return x"
   ]
  },
  {
   "cell_type": "markdown",
   "metadata": {},
   "source": [
    "Let's test this new method against the LU and NumPy solvers"
   ]
  },
  {
   "cell_type": "code",
   "execution_count": 9,
   "metadata": {},
   "outputs": [
    {
     "name": "stdout",
     "output_type": "stream",
     "text": [
      "Initial matrices\n",
      "P = \n",
      "[[1. 0. 0.]\n",
      " [0. 1. 0.]\n",
      " [0. 0. 1.]]\n",
      "L = \n",
      "[[1. 0. 0.]\n",
      " [0. 1. 0.]\n",
      " [0. 0. 1.]]\n",
      "U = \n",
      "[[0.0083 0.5575 0.5592]\n",
      " [0.7854 0.8634 0.1571]\n",
      " [0.6095 0.0687 0.3008]]\n",
      "----------------------------------------\n",
      "A permutation has been made\n",
      "P = \n",
      "[[0. 1. 0.]\n",
      " [1. 0. 0.]\n",
      " [0. 0. 1.]]\n",
      "L = \n",
      "[[1. 0. 0.]\n",
      " [0. 1. 0.]\n",
      " [0. 0. 1.]]\n",
      "U = \n",
      "[[0.7854 0.8634 0.1571]\n",
      " [0.0083 0.5575 0.5592]\n",
      " [0.6095 0.0687 0.3008]]\n",
      "----------------------------------------\n",
      "P = \n",
      "[[0. 1. 0.]\n",
      " [1. 0. 0.]\n",
      " [0. 0. 1.]]\n",
      "L = \n",
      "[[1.     0.     0.    ]\n",
      " [0.0106 1.     0.    ]\n",
      " [0.     0.     1.    ]]\n",
      "U = \n",
      "[[0.7854 0.8634 0.1571]\n",
      " [0.     0.5483 0.5575]\n",
      " [0.6095 0.0687 0.3008]]\n",
      "----------------------------------------\n",
      "P = \n",
      "[[0. 1. 0.]\n",
      " [1. 0. 0.]\n",
      " [0. 0. 1.]]\n",
      "L = \n",
      "[[1.     0.     0.    ]\n",
      " [0.0106 1.     0.    ]\n",
      " [0.7761 0.     1.    ]]\n",
      "U = \n",
      "[[ 0.7854  0.8634  0.1571]\n",
      " [ 0.      0.5483  0.5575]\n",
      " [ 0.     -0.6013  0.1789]]\n",
      "----------------------------------------\n",
      "A permutation has been made\n",
      "P = \n",
      "[[0. 1. 0.]\n",
      " [0. 0. 1.]\n",
      " [1. 0. 0.]]\n",
      "L = \n",
      "[[1.     0.     0.    ]\n",
      " [0.7761 1.     0.    ]\n",
      " [0.0106 0.     1.    ]]\n",
      "U = \n",
      "[[ 0.7854  0.8634  0.1571]\n",
      " [ 0.     -0.6013  0.1789]\n",
      " [ 0.      0.5483  0.5575]]\n",
      "----------------------------------------\n",
      "P = \n",
      "[[0. 1. 0.]\n",
      " [0. 0. 1.]\n",
      " [1. 0. 0.]]\n",
      "L = \n",
      "[[ 1.      0.      0.    ]\n",
      " [ 0.7761  1.      0.    ]\n",
      " [ 0.0106 -0.9118  1.    ]]\n",
      "U = \n",
      "[[ 0.7854  0.8634  0.1571]\n",
      " [ 0.     -0.6013  0.1789]\n",
      " [ 0.      0.      0.7207]]\n",
      "----------------------------------------\n"
     ]
    }
   ],
   "source": [
    "palu_sol = solve_palu(A, b, show=True, print_precision=4)"
   ]
  },
  {
   "cell_type": "code",
   "execution_count": 10,
   "metadata": {},
   "outputs": [
    {
     "data": {
      "text/plain": [
       "4.499165109271057e-15"
      ]
     },
     "execution_count": 10,
     "metadata": {},
     "output_type": "execute_result"
    }
   ],
   "source": [
    "np.linalg.norm(palu_sol - lu_sol)"
   ]
  },
  {
   "cell_type": "code",
   "execution_count": 11,
   "metadata": {},
   "outputs": [
    {
     "data": {
      "text/plain": [
       "1.1857187100668868e-16"
      ]
     },
     "execution_count": 11,
     "metadata": {},
     "output_type": "execute_result"
    }
   ],
   "source": [
    "np.linalg.norm(palu_sol - np_sol)"
   ]
  },
  {
   "cell_type": "code",
   "execution_count": 12,
   "metadata": {},
   "outputs": [
    {
     "name": "stdout",
     "output_type": "stream",
     "text": [
      "P:  [[0. 1. 0.]\n",
      " [0. 0. 1.]\n",
      " [1. 0. 0.]]\n",
      "L:  [[ 1.          0.          0.        ]\n",
      " [ 0.77607053  1.          0.        ]\n",
      " [ 0.01062499 -0.91178869  1.        ]]\n",
      "U:  [[ 0.78536391  0.86343297  0.15707539]\n",
      " [ 0.         -0.60134798  0.17893714]\n",
      " [ 0.          0.          0.72066578]]\n"
     ]
    }
   ],
   "source": [
    "P,L,U = palu_decomp(A)\n",
    "print('P: ',P)\n",
    "print('L: ',L)\n",
    "print('U: ',U)"
   ]
  },
  {
   "cell_type": "markdown",
   "metadata": {},
   "source": [
    "Here are some questions about PALU:\n",
    "1. How much computational complexity has been added to the original $2n^3/3$ of LU?\n",
    "2. Clearly PALU is more robust than LU, but given a non sigular matrix $A$ will it always be possible to perform the PALU decomposition?"
   ]
  },
  {
   "cell_type": "markdown",
   "metadata": {},
   "source": [
    "<div id='cholesky' />\n",
    "\n",
    "### Cholesky\n",
    "[Back to TOC](#toc)"
   ]
  },
  {
   "cell_type": "markdown",
   "metadata": {},
   "source": [
    "This is another direct method only applicable to _symmetric positive-definite_ matrices. In order to try this algorithm we have to create this kind of matrices. The next function generates random _symmetric positive-definite_ matrices. "
   ]
  },
  {
   "cell_type": "code",
   "execution_count": 13,
   "metadata": {},
   "outputs": [],
   "source": [
    "\"\"\"\n",
    "Randomly generates an nxn symmetric positive-\n",
    "definite matrix A.\n",
    "\"\"\"\n",
    "def generate_spd_matrix(n, flag=True):\n",
    "    if flag:\n",
    "        A = np.random.random((n,n))\n",
    "        # Constructing symmetry\n",
    "        A += A.T \n",
    "        # A = np.dot(A.T,A) # Another way\n",
    "        #symmetric+diagonally dominant -> symmetric positive-definite\n",
    "        deltas = 0.1*np.random.random(n)\n",
    "        row_sum = A.sum(axis=1)-np.diag(A)\n",
    "        np.fill_diagonal(A, row_sum+deltas)\n",
    "    else:\n",
    "        B = np.random.random((n,n))\n",
    "        # A way to make sure the quadratic form is greater or equal to zero:\n",
    "        # this means x^T*B^T\\B*x >= ||B*x||, but if B is singular, it could be zero.\n",
    "        A = np.dot(B.T,B)\n",
    "        # To avoid a being singular, we just add a positive diagonal matrix\n",
    "        A = A + np.eye(n)\n",
    "    return A"
   ]
  },
  {
   "cell_type": "markdown",
   "metadata": {},
   "source": [
    "Given a symmetric positive-definite matrix $A \\in \\mathbb{R}^{n \\times n}$, the Cholesky decomposition is of the form $A =R^T R$, with $R$ being an upper triangular matrix. This method takes advantage of the properties of symmetric matrices, reaching approximately twice the efficiency of LU."
   ]
  },
  {
   "cell_type": "code",
   "execution_count": 14,
   "metadata": {},
   "outputs": [],
   "source": [
    "def cholesky_decomp(A, show=False):\n",
    "    N,_ = A.shape\n",
    "    A = np.copy(A)\n",
    "    R = np.zeros((N,N))\n",
    "    if show:\n",
    "        print('Initial matrix')\n",
    "        print('A = '); print(np.array_str(A, precision=2, suppress_small=True))\n",
    "        print('R = '); print(np.array_str(R, precision=2, suppress_small=True))\n",
    "        print('----------------------------------------')\n",
    "    for i in range(N):\n",
    "        R[i,i] = np.sqrt(A[i,i])\n",
    "        u = (1./R[i,i])*A[i,i+1:]\n",
    "        R[i,i+1:] = u\n",
    "        A[i+1:,i+1:] -= np.outer(u,u)\n",
    "        if show:\n",
    "            print('A = '); print(np.array_str(A, precision=2, suppress_small=True))\n",
    "            print('R = '); print(np.array_str(R, precision=2, suppress_small=True))\n",
    "            print('----------------------------------------')\n",
    "    return R"
   ]
  },
  {
   "cell_type": "markdown",
   "metadata": {},
   "source": [
    "The solve stage remains the same as LU:  "
   ]
  },
  {
   "cell_type": "code",
   "execution_count": 15,
   "metadata": {},
   "outputs": [],
   "source": [
    "def solve_cholesky(A, b, show=False):\n",
    "    R = cholesky_decomp(A, show)\n",
    "    #R^T.R.x = b -> R^T.c = b with R.x = c\n",
    "    c = solve_triangular(R.T, b, upper=False)\n",
    "    x = solve_triangular(R, c)\n",
    "    return x"
   ]
  },
  {
   "cell_type": "markdown",
   "metadata": {},
   "source": [
    "Now we test our implementation, comparing time execution with LU and PALU on two different linear systems"
   ]
  },
  {
   "cell_type": "code",
   "execution_count": 16,
   "metadata": {},
   "outputs": [],
   "source": [
    "A = generate_spd_matrix(3)\n",
    "b = np.ones(3)"
   ]
  },
  {
   "cell_type": "code",
   "execution_count": 17,
   "metadata": {},
   "outputs": [
    {
     "name": "stdout",
     "output_type": "stream",
     "text": [
      "Initial matrix\n",
      "A = \n",
      "[[2.49 1.02 1.38]\n",
      " [1.02 2.27 1.15]\n",
      " [1.38 1.15 2.59]]\n",
      "R = \n",
      "[[0. 0. 0.]\n",
      " [0. 0. 0.]\n",
      " [0. 0. 0.]]\n",
      "----------------------------------------\n",
      "A = \n",
      "[[2.49 1.02 1.38]\n",
      " [1.02 1.85 0.58]\n",
      " [1.38 0.58 1.82]]\n",
      "R = \n",
      "[[1.58 0.65 0.88]\n",
      " [0.   0.   0.  ]\n",
      " [0.   0.   0.  ]]\n",
      "----------------------------------------\n",
      "A = \n",
      "[[2.49 1.02 1.38]\n",
      " [1.02 1.85 0.58]\n",
      " [1.38 0.58 1.63]]\n",
      "R = \n",
      "[[1.58 0.65 0.88]\n",
      " [0.   1.36 0.43]\n",
      " [0.   0.   0.  ]]\n",
      "----------------------------------------\n",
      "A = \n",
      "[[2.49 1.02 1.38]\n",
      " [1.02 1.85 0.58]\n",
      " [1.38 0.58 1.63]]\n",
      "R = \n",
      "[[1.58 0.65 0.88]\n",
      " [0.   1.36 0.43]\n",
      " [0.   0.   1.28]]\n",
      "----------------------------------------\n"
     ]
    },
    {
     "data": {
      "text/plain": [
       "array([1, 0, 0])"
      ]
     },
     "execution_count": 17,
     "metadata": {},
     "output_type": "execute_result"
    }
   ],
   "source": [
    "b=np.array([4,2,0])\n",
    "solve_cholesky(A, b, show=True)"
   ]
  },
  {
   "cell_type": "code",
   "execution_count": 18,
   "metadata": {},
   "outputs": [],
   "source": [
    "A = generate_spd_matrix(100)\n",
    "b = np.ones(100)"
   ]
  },
  {
   "cell_type": "code",
   "execution_count": 19,
   "metadata": {
    "scrolled": false
   },
   "outputs": [
    {
     "name": "stdout",
     "output_type": "stream",
     "text": [
      "3.82 ms ± 677 µs per loop (mean ± std. dev. of 7 runs, 100 loops each)\n",
      "18.6 ms ± 1.62 ms per loop (mean ± std. dev. of 7 runs, 10 loops each)\n",
      "16.5 ms ± 702 µs per loop (mean ± std. dev. of 7 runs, 100 loops each)\n"
     ]
    }
   ],
   "source": [
    "%timeit solve_cholesky(A, b)\n",
    "%timeit solve_lu(A, b)\n",
    "%timeit solve_palu(A, b)"
   ]
  },
  {
   "cell_type": "code",
   "execution_count": 20,
   "metadata": {},
   "outputs": [],
   "source": [
    "A = generate_spd_matrix(1000)\n",
    "b = np.ones(1000)"
   ]
  },
  {
   "cell_type": "code",
   "execution_count": 21,
   "metadata": {
    "scrolled": true
   },
   "outputs": [
    {
     "name": "stdout",
     "output_type": "stream",
     "text": [
      "1.35 s ± 46.4 ms per loop (mean ± std. dev. of 7 runs, 1 loop each)\n",
      "2.3 s ± 52.4 ms per loop (mean ± std. dev. of 7 runs, 1 loop each)\n",
      "2.32 s ± 86.5 ms per loop (mean ± std. dev. of 7 runs, 1 loop each)\n"
     ]
    }
   ],
   "source": [
    "%timeit solve_cholesky(A, b)\n",
    "%timeit solve_lu(A, b)\n",
    "%timeit solve_palu(A, b)"
   ]
  },
  {
   "cell_type": "markdown",
   "metadata": {},
   "source": [
    "<div id='im' />\n",
    "\n",
    "## Iterative Methods\n",
    "[Back to TOC](#toc)"
   ]
  },
  {
   "cell_type": "code",
   "execution_count": 115,
   "metadata": {},
   "outputs": [],
   "source": [
    "\"\"\"\n",
    "Randomly generates an nxn strictly diagonally \n",
    "dominant matrix A.\n",
    "\"\"\"\n",
    "def generate_dd_matrix(n):\n",
    "    A = np.random.random((n,n))\n",
    "    deltas = 0.1*np.random.random(n)\n",
    "    row_sum = A.sum(axis=1)-np.diag(A)\n",
    "    np.fill_diagonal(A, row_sum+deltas)\n",
    "    return A\n",
    "\n",
    "\"\"\"\n",
    "Computes relative error between each row on \n",
    "X matrix and y vector. \n",
    "\"\"\"\n",
    "def error(X, y):\n",
    "    D = X-y\n",
    "    err = np.linalg.norm(D, axis=1, ord=np.inf)\n",
    "    return err"
   ]
  },
  {
   "cell_type": "markdown",
   "metadata": {},
   "source": [
    "As before we will create a linear system $A x = b$, with $A$ as a diagonally dominant matrix, which is a **sufficient** condition for the methods we will study in this section converge "
   ]
  },
  {
   "cell_type": "code",
   "execution_count": 116,
   "metadata": {},
   "outputs": [
    {
     "name": "stdout",
     "output_type": "stream",
     "text": [
      "A=\n",
      "[[ 3.  -1.   0.   0.   0.   0.5]\n",
      " [-1.   3.  -1.   0.   0.5  0. ]\n",
      " [ 0.  -1.   3.  -1.   0.   0. ]\n",
      " [ 0.   0.  -1.   3.  -1.   0. ]\n",
      " [ 0.   0.5  0.  -1.   3.  -1. ]\n",
      " [ 0.5  0.   0.   0.  -1.   3. ]]\n",
      "b=\n",
      "[2.5 1.5 1.  1.  1.5 2.5]\n"
     ]
    }
   ],
   "source": [
    "A = np.array([[3, -1, 0, 0, 0, 0.5],[-1, 3, -1, 0, 0.5, 0],[0, -1, 3, -1, 0, 0],[0, 0, -1, 3, -1, 0],\n",
    "              [0, 0.5, 0, -1, 3, -1],[0.5, 0, 0, 0, -1, 3]])\n",
    "b = np.array([2.5, 1.5, 1., 1., 1.5, 2.5])\n",
    "print ('A='); print (A)\n",
    "print ('b='); print (b)"
   ]
  },
  {
   "cell_type": "markdown",
   "metadata": {},
   "source": [
    "and find the solution $x$ through `np.linalg.solve` to use it as the reference solution-"
   ]
  },
  {
   "cell_type": "code",
   "execution_count": 117,
   "metadata": {},
   "outputs": [],
   "source": [
    "np_sol = np.linalg.solve(A,b)"
   ]
  },
  {
   "cell_type": "markdown",
   "metadata": {
    "collapsed": true
   },
   "source": [
    "<div id='jacobi' />\n",
    "\n",
    "### Jacobi\n",
    "[Back to TOC](#toc)"
   ]
  },
  {
   "cell_type": "code",
   "execution_count": 118,
   "metadata": {},
   "outputs": [],
   "source": [
    "\"\"\"\n",
    "Iterative methods implementations returns an array X\n",
    "with the the solutions at each iteration\n",
    "\"\"\"\n",
    "def jacobi(A, b, n_iter=50):\n",
    "    n = A.shape[0]\n",
    "    #array with solutions\n",
    "    X = np.empty((n_iter, n))\n",
    "    #initial guess\n",
    "    X[0] = np.zeros(n)\n",
    "    #submatrices\n",
    "    D = np.diag(A)\n",
    "    Dinv = D**-1\n",
    "    R = A - np.diag(D) # R = (L+U)\n",
    "    for i in range(1, n_iter):\n",
    "        # X[i] = Dinv*(b - np.dot(R, X[i-1]))\n",
    "        # v1.12\n",
    "        ri = b - np.dot(A, X[i-1])\n",
    "        X[i] = X[i-1]+Dinv*ri # = np.dot(np.linalg.inv(D),ri)\n",
    "    return X\n",
    "def jacobi_M(A):\n",
    "    L = np.tril(A,-1)\n",
    "    U = np.triu(A,1)\n",
    "    D = np.diag(np.diag(A))\n",
    "    M = -np.dot(np.linalg.inv(D),L+U)\n",
    "    return M"
   ]
  },
  {
   "cell_type": "markdown",
   "metadata": {},
   "source": [
    "$\\mathbf{x}_{n+1}=M\\,\\mathbf{x}_{n}+\\widehat{\\mathbf{b}}$"
   ]
  },
  {
   "cell_type": "markdown",
   "metadata": {},
   "source": [
    "Now let's resolve the same linear system with Jacobi method!"
   ]
  },
  {
   "cell_type": "code",
   "execution_count": 119,
   "metadata": {},
   "outputs": [],
   "source": [
    "jac_sol = jacobi(A,b, n_iter=50)"
   ]
  },
  {
   "cell_type": "code",
   "execution_count": 120,
   "metadata": {},
   "outputs": [],
   "source": [
    "jac_err = error(jac_sol, np_sol)\n",
    "it = np.linspace(1, 50, 50)"
   ]
  },
  {
   "cell_type": "code",
   "execution_count": 121,
   "metadata": {},
   "outputs": [
    {
     "data": {
      "image/png": "[encoded data removed]",
      "text/plain": [
       "<Figure size 864x432 with 1 Axes>"
      ]
     },
     "metadata": {
      "needs_background": "light"
     },
     "output_type": "display_data"
    }
   ],
   "source": [
    "plt.figure(figsize=(12,6))\n",
    "plt.semilogy(it, jac_err, marker='o', linestyle='--', color='b')\n",
    "plt.grid(True)\n",
    "plt.xlabel('Iterations')\n",
    "plt.ylabel('Error')\n",
    "plt.title('Infinity norm error for Jacobi method')\n",
    "plt.show()"
   ]
  },
  {
   "cell_type": "code",
   "execution_count": 29,
   "metadata": {},
   "outputs": [
    {
     "name": "stdout",
     "output_type": "stream",
     "text": [
      "1.1055415967851334\n"
     ]
    }
   ],
   "source": [
    "Mj = jacobi_M(A)\n",
    "print(np.linalg.norm(Mj))"
   ]
  },
  {
   "cell_type": "code",
   "execution_count": 30,
   "metadata": {},
   "outputs": [
    {
     "data": {
      "text/plain": [
       "array([-0.56734117, -0.53694624, -0.03039493,  0.03039493,  0.56734117,\n",
       "        0.53694624])"
      ]
     },
     "execution_count": 30,
     "metadata": {},
     "output_type": "execute_result"
    }
   ],
   "source": [
    "np.linalg.eigvals(Mj)"
   ]
  },
  {
   "cell_type": "code",
   "execution_count": 31,
   "metadata": {},
   "outputs": [
    {
     "data": {
      "text/plain": [
       "array([0.56734117, 0.53694624, 0.03039493, 0.03039493, 0.56734117,\n",
       "       0.53694624])"
      ]
     },
     "execution_count": 31,
     "metadata": {},
     "output_type": "execute_result"
    }
   ],
   "source": [
    "np.abs(np.linalg.eigvals(Mj))"
   ]
  },
  {
   "cell_type": "code",
   "execution_count": 32,
   "metadata": {},
   "outputs": [
    {
     "data": {
      "text/plain": [
       "0.5673411660774048"
      ]
     },
     "execution_count": 32,
     "metadata": {},
     "output_type": "execute_result"
    }
   ],
   "source": [
    "np.max(np.abs(np.linalg.eigvals(Mj)))"
   ]
  },
  {
   "cell_type": "markdown",
   "metadata": {},
   "source": [
    "<div id='gaussseidel' />\n",
    "\n",
    "### Gauss Seidel\n",
    "[Back to TOC](#toc)"
   ]
  },
  {
   "cell_type": "code",
   "execution_count": 122,
   "metadata": {},
   "outputs": [],
   "source": [
    "def gauss_seidel(A, b, n_iter=50):\n",
    "    n = A.shape[0]\n",
    "    #array with solutions\n",
    "    X = np.empty((n_iter, n))\n",
    "    #initial guess\n",
    "    X[0] = np.zeros(n)\n",
    "    #submatrices\n",
    "    R = np.tril(A) # R=(L+D)\n",
    "    U = A-R\n",
    "    for i in range(1, n_iter):\n",
    "        #X[i] = solve_triangular(R, b-np.dot(U, X[i-1]), upper=False)\n",
    "        # v1.11\n",
    "        X[i] = X[i-1]+solve_triangular(R, b-np.dot(A, X[i-1]), upper=False)\n",
    "    return X\n",
    "def gauss_seidel_M(A):\n",
    "    L = np.tril(A,-1)\n",
    "    U = np.triu(A,1)\n",
    "    D = np.diag(np.diag(A))\n",
    "    M = -np.dot(np.linalg.inv(L+D),U)\n",
    "    return M"
   ]
  },
  {
   "cell_type": "markdown",
   "metadata": {},
   "source": [
    "Now let's resolve the same linear system with Gauss-Seidel method!"
   ]
  },
  {
   "cell_type": "code",
   "execution_count": 123,
   "metadata": {},
   "outputs": [],
   "source": [
    "gauss_seidel_sol = gauss_seidel(A,b)"
   ]
  },
  {
   "cell_type": "code",
   "execution_count": 124,
   "metadata": {},
   "outputs": [],
   "source": [
    "gauss_seidel_err = error(gauss_seidel_sol, np_sol)"
   ]
  },
  {
   "cell_type": "code",
   "execution_count": 125,
   "metadata": {},
   "outputs": [
    {
     "data": {
      "image/png": "[encoded data removed]",
      "text/plain": [
       "<Figure size 864x432 with 1 Axes>"
      ]
     },
     "metadata": {
      "needs_background": "light"
     },
     "output_type": "display_data"
    }
   ],
   "source": [
    "plt.figure(figsize=(12,6))\n",
    "plt.semilogy(it, gauss_seidel_err, marker='o', linestyle='--', color='r')\n",
    "plt.grid(True)\n",
    "plt.xlabel('Iterations')\n",
    "plt.ylabel('Error')\n",
    "plt.title('Infinity norm error for Gauss method')\n",
    "plt.show()"
   ]
  },
  {
   "cell_type": "markdown",
   "metadata": {},
   "source": [
    "Here are some questions about Gauss-Seidel:\n",
    "- Can you explain what the differences between this and Jacobi method are?\n",
    "- Why do we use `solve_triangular` instead of `np.linalg.solve` or something similar?"
   ]
  },
  {
   "cell_type": "code",
   "execution_count": 37,
   "metadata": {},
   "outputs": [
    {
     "name": "stdout",
     "output_type": "stream",
     "text": [
      "0.8351230731594124\n"
     ]
    }
   ],
   "source": [
    "Mgs = gauss_seidel_M(A)\n",
    "print(np.linalg.norm(Mgs))"
   ]
  },
  {
   "cell_type": "code",
   "execution_count": 38,
   "metadata": {},
   "outputs": [
    {
     "data": {
      "text/plain": [
       "0.373727998772384"
      ]
     },
     "execution_count": 38,
     "metadata": {},
     "output_type": "execute_result"
    }
   ],
   "source": [
    "np.max(np.abs(np.linalg.eigvals(Mgs)))"
   ]
  },
  {
   "cell_type": "markdown",
   "metadata": {},
   "source": [
    "<div id='sor' />\n",
    "\n",
    "### SOR\n",
    "[Back to TOC](#toc)"
   ]
  },
  {
   "cell_type": "code",
   "execution_count": 39,
   "metadata": {},
   "outputs": [],
   "source": [
    "def sor(A, b, w=1.05, n_iter=50):\n",
    "    n = A.shape[0]\n",
    "    #array with solutions\n",
    "    X = np.empty((n_iter, n))\n",
    "    #initial guess\n",
    "    X[0] = np.zeros(n)\n",
    "    #submatrices\n",
    "    R = np.tril(A) #R=(L+D)\n",
    "    U = A-R\n",
    "    # v1.11\n",
    "    L = np.tril(A,-1)\n",
    "    D = np.diag(np.diag(A))\n",
    "    M = L+D/w\n",
    "    for i in range(1, n_iter):\n",
    "        #X_i = solve_triangular(R, b-np.dot(U, X[i-1]), upper=False)\n",
    "        #X[i] = w*X_i + (1-w)*X[i-1]\n",
    "        # v1.11\n",
    "        X[i] = X[i-1]+solve_triangular(M, b-np.dot(A, X[i-1]), upper=False)\n",
    "    return X\n",
    "def sor_M(A,w=1.05):\n",
    "    L = np.tril(A,-1)\n",
    "    U = np.triu(A,1)\n",
    "    D = np.diag(np.diag(A))\n",
    "    M = np.dot(np.linalg.inv(w*L + D),((1-w)*D -w*U))\n",
    "    return M"
   ]
  },
  {
   "cell_type": "markdown",
   "metadata": {},
   "source": [
    "Now let's resolve the same linear system with Jacobi method!"
   ]
  },
  {
   "cell_type": "code",
   "execution_count": 40,
   "metadata": {},
   "outputs": [],
   "source": [
    "sor_sol = sor(A, b, w=1.15)"
   ]
  },
  {
   "cell_type": "code",
   "execution_count": 41,
   "metadata": {},
   "outputs": [],
   "source": [
    "sor_err = error(sor_sol, np_sol)"
   ]
  },
  {
   "cell_type": "code",
   "execution_count": 42,
   "metadata": {},
   "outputs": [
    {
     "data": {
      "image/png": "[encoded data removed]",
      "text/plain": [
       "<Figure size 864x432 with 1 Axes>"
      ]
     },
     "metadata": {
      "needs_background": "light"
     },
     "output_type": "display_data"
    }
   ],
   "source": [
    "plt.figure(figsize=(12,6))\n",
    "plt.semilogy(it, sor_err, marker='o', linestyle='--', color='g')\n",
    "plt.grid(True)\n",
    "plt.xlabel('Iterations')\n",
    "plt.ylabel('Error')\n",
    "plt.title('Infinity norm error for SOR method')\n",
    "plt.show()"
   ]
  },
  {
   "cell_type": "code",
   "execution_count": 43,
   "metadata": {},
   "outputs": [
    {
     "name": "stdout",
     "output_type": "stream",
     "text": [
      "0.850053072081257\n"
     ]
    }
   ],
   "source": [
    "Msor = sor_M(A)\n",
    "print(np.linalg.norm(Msor))"
   ]
  },
  {
   "cell_type": "code",
   "execution_count": 44,
   "metadata": {},
   "outputs": [
    {
     "data": {
      "text/plain": [
       "0.3343477054811491"
      ]
     },
     "execution_count": 44,
     "metadata": {},
     "output_type": "execute_result"
    }
   ],
   "source": [
    "np.max(np.abs(np.linalg.eigvals(Msor)))"
   ]
  },
  {
   "cell_type": "markdown",
   "metadata": {},
   "source": [
    "How can we choose a good value of $\\omega$? Well there are  some methods you could search, but for now we will try a naive way, i.e, computing the solution for a range $\\omega \\in [1,1.3]$ as follows:"
   ]
  },
  {
   "cell_type": "code",
   "execution_count": 45,
   "metadata": {},
   "outputs": [],
   "source": [
    "n = 30 #width of subdivisions\n",
    "sor_solutions = list()\n",
    "for w in np.linspace(1., 1.3, n):\n",
    "    sor_solutions.append(sor(A, b, w, n_iter=5)[-1])\n",
    "np.asarray(sor_solutions)\n",
    "\n",
    "#now compute error solutions with each w\n",
    "sor_errors = error(sor_solutions, np_sol)\n",
    "w = np.linspace(1., 1.3, n)"
   ]
  },
  {
   "cell_type": "markdown",
   "metadata": {},
   "source": [
    "as you can see, we compute the SOR solution with 5 iterations for each $\\omega$ on the given range. "
   ]
  },
  {
   "cell_type": "code",
   "execution_count": 46,
   "metadata": {},
   "outputs": [
    {
     "data": {
      "image/png": "[encoded data removed]",
      "text/plain": [
       "<Figure size 864x432 with 1 Axes>"
      ]
     },
     "metadata": {
      "needs_background": "light"
     },
     "output_type": "display_data"
    }
   ],
   "source": [
    "plt.figure(figsize=(12,6))\n",
    "plt.semilogy(w, sor_errors, marker='o', linestyle='--', color='g')\n",
    "plt.grid(True)\n",
    "plt.xlabel('w')\n",
    "plt.ylabel('Error')\n",
    "plt.title('Infinity norm error after 5 steps of SOR as a function of w')\n",
    "plt.show()"
   ]
  },
  {
   "cell_type": "markdown",
   "metadata": {},
   "source": [
    "Here are some questions about SOR:\n",
    "- Why can averaging the current solution with the Gauss-Seidel solution improve convergence?\n",
    "- Why do we use $\\omega > 1$ and not $\\omega < 1$?\n",
    "- Could you describe a method to find the best value of $\\omega$ (the one which optimizes convergence)?\n",
    "- Would it be a better option to re-compute $\\omega$ at each iteration?"
   ]
  },
  {
   "cell_type": "markdown",
   "metadata": {},
   "source": [
    "<div id='ca' />\n",
    "\n",
    "## Convergence Analysis\n",
    "[Back to TOC](#toc)"
   ]
  },
  {
   "cell_type": "markdown",
   "metadata": {},
   "source": [
    "Let's see convergence plots all together"
   ]
  },
  {
   "cell_type": "code",
   "execution_count": 126,
   "metadata": {
    "scrolled": false
   },
   "outputs": [
    {
     "data": {
      "image/png": "[encoded data removed]",
      "text/plain": [
       "<Figure size 864x432 with 1 Axes>"
      ]
     },
     "metadata": {
      "needs_background": "light"
     },
     "output_type": "display_data"
    }
   ],
   "source": [
    "plt.figure(figsize=(12,6))\n",
    "plt.semilogy(it, jac_err, marker='o', linestyle='--', color='b', label='Jacobi')\n",
    "plt.semilogy(it, gauss_seidel_err, marker='o', linestyle='--', color='r', label='Gauss-Seidel')\n",
    "plt.semilogy(it, sor_err, marker='o', linestyle='--', color='g', label='SOR')\n",
    "plt.grid(True)\n",
    "plt.xlabel('Iterations')\n",
    "plt.ylabel('Error')\n",
    "plt.title('Infinity norm error for all methods')\n",
    "plt.legend(loc=0)\n",
    "plt.show()"
   ]
  },
  {
   "cell_type": "markdown",
   "metadata": {},
   "source": [
    "<div id='examples' />\n",
    "\n",
    "## Examples\n",
    "[Back to TOC](#toc)"
   ]
  },
  {
   "cell_type": "markdown",
   "metadata": {},
   "source": [
    "<div id='hilbertMatrix' />\n",
    "\n",
    "### Hilbert Matrix\n",
    "[Back to TOC](#toc)"
   ]
  },
  {
   "cell_type": "code",
   "execution_count": 80,
   "metadata": {},
   "outputs": [],
   "source": [
    "N=20\n",
    "F_errors=np.zeros(N+1)\n",
    "B_errors=np.zeros(N+1)\n",
    "kappas=np.zeros(N+1)\n",
    "my_range=np.arange(5,N+1)\n",
    "for n in my_range:\n",
    "    A=hilbert(n)\n",
    "    x_exact=np.ones(n)\n",
    "    b=np.dot(A,x_exact)\n",
    "    x=np.linalg.solve(A,b)\n",
    "    F_errors[n]=np.linalg.norm(x-x_exact)/np.linalg.norm(x)\n",
    "    kappas[n]=np.linalg.cond(A,2)\n",
    "    B_errors[n]=np.linalg.norm(b-A @ x)/np.linalg.norm(b)"
   ]
  },
  {
   "cell_type": "code",
   "execution_count": 109,
   "metadata": {},
   "outputs": [
    {
     "data": {
      "text/plain": [
       "<Figure size 360x720 with 0 Axes>"
      ]
     },
     "metadata": {},
     "output_type": "display_data"
    },
    {
     "data": {
      "image/png": "[encoded data removed]",
      "text/plain": [
       "<Figure size 1080x360 with 2 Axes>"
      ]
     },
     "metadata": {
      "needs_background": "light"
     },
     "output_type": "display_data"
    }
   ],
   "source": [
    "plt.figure(figsize=(5,10))\n",
    "f, (ax1, ax2) = plt.subplots(1, 2, figsize=(15,5), sharey = False)\n",
    "\n",
    "ax1.semilogy(my_range, 10.**(-16+np.log10(kappas[my_range])), marker='o', linestyle='--', color='b',label='Estimated Forward error')\n",
    "ax1.semilogy(my_range, F_errors[my_range], marker='o', linestyle='--', color='r',label=r'Forward error: $||\\mathbf{x}-\\mathbf{x}_a||_2/||\\mathbf{x}||$')\n",
    "ax1.semilogy(my_range, B_errors[my_range], marker='o', linestyle='--', color='g',label=r'Backward error: $||\\mathbf{b}-A\\,\\mathbf{x}_a||_2/||\\mathbf{b}||$')\n",
    "ax1.semilogy(my_range, kappas[my_range]*B_errors[my_range], marker='o', linestyle='--', color='m', label=r'$\\kappa(A_n)\\,||\\mathbf{b}-A\\,\\mathbf{x}_a||_2/||\\mathbf{b}||$')\n",
    "ax1.set_title('Errors')\n",
    "ax1.grid(True)\n",
    "ax1.set_xlabel('$n$')\n",
    "ax1.legend(loc='best')\n",
    "\n",
    "ax2.semilogy(my_range, kappas[my_range], marker='s', linestyle='--', color='k',label=r'$\\kappa(A_n)$')\n",
    "ax2.set_title(r'$\\kappa(A_n)$')\n",
    "ax2.set_xlabel('$n$')\n",
    "ax2.grid(True)\n",
    "plt.show()"
   ]
  },
  {
   "cell_type": "markdown",
   "metadata": {},
   "source": [
    "Recall:\n",
    "\n",
    "$\\dfrac{1}{\\kappa(A)}\\dfrac{\\|\\mathbf{b}-A\\,\\mathbf{x}_a\\|}{\\|\\mathbf{b}\\|} \\leq \\dfrac{\\|\\mathbf{x}-\\mathbf{x}_a\\|}{\\|\\mathbf{x}\\|} \\leq \\kappa(A)\\,\\dfrac{\\|\\mathbf{b}-A\\,\\mathbf{x}_a\\|}{\\|\\mathbf{b}\\|}$"
   ]
  },
  {
   "cell_type": "markdown",
   "metadata": {},
   "source": [
    "Let's solve a linear system of equations with $H_{200}$:"
   ]
  },
  {
   "cell_type": "code",
   "execution_count": 91,
   "metadata": {},
   "outputs": [],
   "source": [
    "n=200\n",
    "# Generating matrix\n",
    "A=hilbert(n)\n",
    "# Defining the 'exact' solution\n",
    "x_exact=np.ones(n)\n",
    "# If we know the exact solution, we can compute the RHS just by multiplying 'A' by 'x_exact'\n",
    "b= A @ x_exact\n",
    "# Using the NumPy routine to solve the linear system of equations.\n",
    "x=np.linalg.solve(A,b)"
   ]
  },
  {
   "cell_type": "markdown",
   "metadata": {},
   "source": [
    "Now, we compute the condition number of $A=H_{200}$"
   ]
  },
  {
   "cell_type": "code",
   "execution_count": 92,
   "metadata": {},
   "outputs": [
    {
     "name": "stdout",
     "output_type": "stream",
     "text": [
      "19.814106208776867\n"
     ]
    }
   ],
   "source": [
    "kappa=np.linalg.cond(A,2)\n",
    "print(np.log10(kappa))"
   ]
  },
  {
   "cell_type": "markdown",
   "metadata": {},
   "source": [
    "We compute the Backward error, which is small."
   ]
  },
  {
   "cell_type": "code",
   "execution_count": 94,
   "metadata": {},
   "outputs": [
    {
     "data": {
      "text/plain": [
       "1.339099724944585e-13"
      ]
     },
     "execution_count": 94,
     "metadata": {},
     "output_type": "execute_result"
    }
   ],
   "source": [
    "np.linalg.norm(b-np.dot(A,x))"
   ]
  },
  {
   "cell_type": "markdown",
   "metadata": {},
   "source": [
    "We now compute the Forward error. This is only possible since we know the exact solution by construction."
   ]
  },
  {
   "cell_type": "code",
   "execution_count": 95,
   "metadata": {},
   "outputs": [
    {
     "data": {
      "text/plain": [
       "9653.459067648608"
      ]
     },
     "execution_count": 95,
     "metadata": {},
     "output_type": "execute_result"
    }
   ],
   "source": [
    "np.linalg.norm(x-x_exact)"
   ]
  },
  {
   "cell_type": "code",
   "execution_count": 102,
   "metadata": {
    "scrolled": true
   },
   "outputs": [
    {
     "data": {
      "text/html": [
       "<style type=\"text/css\">\n",
       "</style>\n",
       "<table id=\"T_8a583_\">\n",
       "  <caption>Comparison between the exact solution and the NumPy-solve's solution</caption>\n",
       "  <thead>\n",
       "    <tr>\n",
       "      <th class=\"blank level0\" >&nbsp;</th>\n",
       "      <th class=\"col_heading level0 col0\" >Exact solution</th>\n",
       "      <th class=\"col_heading level0 col1\" >Numerical solution</th>\n",
       "    </tr>\n",
       "  </thead>\n",
       "  <tbody>\n",
       "    <tr>\n",
       "      <th id=\"T_8a583_level0_row0\" class=\"row_heading level0 row0\" >0</th>\n",
       "      <td id=\"T_8a583_row0_col0\" class=\"data row0 col0\" >1.000000</td>\n",
       "      <td id=\"T_8a583_row0_col1\" class=\"data row0 col1\" >1.000007</td>\n",
       "    </tr>\n",
       "    <tr>\n",
       "      <th id=\"T_8a583_level0_row1\" class=\"row_heading level0 row1\" >1</th>\n",
       "      <td id=\"T_8a583_row1_col0\" class=\"data row1 col0\" >1.000000</td>\n",
       "      <td id=\"T_8a583_row1_col1\" class=\"data row1 col1\" >0.998751</td>\n",
       "    </tr>\n",
       "    <tr>\n",
       "      <th id=\"T_8a583_level0_row2\" class=\"row_heading level0 row2\" >2</th>\n",
       "      <td id=\"T_8a583_row2_col0\" class=\"data row2 col0\" >1.000000</td>\n",
       "      <td id=\"T_8a583_row2_col1\" class=\"data row2 col1\" >1.056093</td>\n",
       "    </tr>\n",
       "    <tr>\n",
       "      <th id=\"T_8a583_level0_row3\" class=\"row_heading level0 row3\" >3</th>\n",
       "      <td id=\"T_8a583_row3_col0\" class=\"data row3 col0\" >1.000000</td>\n",
       "      <td id=\"T_8a583_row3_col1\" class=\"data row3 col1\" >-0.051490</td>\n",
       "    </tr>\n",
       "    <tr>\n",
       "      <th id=\"T_8a583_level0_row4\" class=\"row_heading level0 row4\" >4</th>\n",
       "      <td id=\"T_8a583_row4_col0\" class=\"data row4 col0\" >1.000000</td>\n",
       "      <td id=\"T_8a583_row4_col1\" class=\"data row4 col1\" >11.156515</td>\n",
       "    </tr>\n",
       "    <tr>\n",
       "      <th id=\"T_8a583_level0_row5\" class=\"row_heading level0 row5\" >5</th>\n",
       "      <td id=\"T_8a583_row5_col0\" class=\"data row5 col0\" >1.000000</td>\n",
       "      <td id=\"T_8a583_row5_col1\" class=\"data row5 col1\" >-54.490951</td>\n",
       "    </tr>\n",
       "    <tr>\n",
       "      <th id=\"T_8a583_level0_row6\" class=\"row_heading level0 row6\" >6</th>\n",
       "      <td id=\"T_8a583_row6_col0\" class=\"data row6 col0\" >1.000000</td>\n",
       "      <td id=\"T_8a583_row6_col1\" class=\"data row6 col1\" >177.079698</td>\n",
       "    </tr>\n",
       "    <tr>\n",
       "      <th id=\"T_8a583_level0_row7\" class=\"row_heading level0 row7\" >7</th>\n",
       "      <td id=\"T_8a583_row7_col0\" class=\"data row7 col0\" >1.000000</td>\n",
       "      <td id=\"T_8a583_row7_col1\" class=\"data row7 col1\" >-310.039439</td>\n",
       "    </tr>\n",
       "    <tr>\n",
       "      <th id=\"T_8a583_level0_row8\" class=\"row_heading level0 row8\" >8</th>\n",
       "      <td id=\"T_8a583_row8_col0\" class=\"data row8 col0\" >1.000000</td>\n",
       "      <td id=\"T_8a583_row8_col1\" class=\"data row8 col1\" >252.290754</td>\n",
       "    </tr>\n",
       "    <tr>\n",
       "      <th id=\"T_8a583_level0_row9\" class=\"row_heading level0 row9\" >9</th>\n",
       "      <td id=\"T_8a583_row9_col0\" class=\"data row9 col0\" >1.000000</td>\n",
       "      <td id=\"T_8a583_row9_col1\" class=\"data row9 col1\" >-6.186433</td>\n",
       "    </tr>\n",
       "    <tr>\n",
       "      <th id=\"T_8a583_level0_row10\" class=\"row_heading level0 row10\" >10</th>\n",
       "      <td id=\"T_8a583_row10_col0\" class=\"data row10 col0\" >1.000000</td>\n",
       "      <td id=\"T_8a583_row10_col1\" class=\"data row10 col1\" >-84.614234</td>\n",
       "    </tr>\n",
       "    <tr>\n",
       "      <th id=\"T_8a583_level0_row11\" class=\"row_heading level0 row11\" >11</th>\n",
       "      <td id=\"T_8a583_row11_col0\" class=\"data row11 col0\" >1.000000</td>\n",
       "      <td id=\"T_8a583_row11_col1\" class=\"data row11 col1\" >158.745346</td>\n",
       "    </tr>\n",
       "    <tr>\n",
       "      <th id=\"T_8a583_level0_row12\" class=\"row_heading level0 row12\" >12</th>\n",
       "      <td id=\"T_8a583_row12_col0\" class=\"data row12 col0\" >1.000000</td>\n",
       "      <td id=\"T_8a583_row12_col1\" class=\"data row12 col1\" >-390.995456</td>\n",
       "    </tr>\n",
       "    <tr>\n",
       "      <th id=\"T_8a583_level0_row13\" class=\"row_heading level0 row13\" >13</th>\n",
       "      <td id=\"T_8a583_row13_col0\" class=\"data row13 col0\" >1.000000</td>\n",
       "      <td id=\"T_8a583_row13_col1\" class=\"data row13 col1\" >152.586006</td>\n",
       "    </tr>\n",
       "    <tr>\n",
       "      <th id=\"T_8a583_level0_row14\" class=\"row_heading level0 row14\" >14</th>\n",
       "      <td id=\"T_8a583_row14_col0\" class=\"data row14 col0\" >1.000000</td>\n",
       "      <td id=\"T_8a583_row14_col1\" class=\"data row14 col1\" >161.201278</td>\n",
       "    </tr>\n",
       "    <tr>\n",
       "      <th id=\"T_8a583_level0_row15\" class=\"row_heading level0 row15\" >15</th>\n",
       "      <td id=\"T_8a583_row15_col0\" class=\"data row15 col0\" >1.000000</td>\n",
       "      <td id=\"T_8a583_row15_col1\" class=\"data row15 col1\" >71.716340</td>\n",
       "    </tr>\n",
       "    <tr>\n",
       "      <th id=\"T_8a583_level0_row16\" class=\"row_heading level0 row16\" >16</th>\n",
       "      <td id=\"T_8a583_row16_col0\" class=\"data row16 col0\" >1.000000</td>\n",
       "      <td id=\"T_8a583_row16_col1\" class=\"data row16 col1\" >287.833782</td>\n",
       "    </tr>\n",
       "    <tr>\n",
       "      <th id=\"T_8a583_level0_row17\" class=\"row_heading level0 row17\" >17</th>\n",
       "      <td id=\"T_8a583_row17_col0\" class=\"data row17 col0\" >1.000000</td>\n",
       "      <td id=\"T_8a583_row17_col1\" class=\"data row17 col1\" >-496.853279</td>\n",
       "    </tr>\n",
       "    <tr>\n",
       "      <th id=\"T_8a583_level0_row18\" class=\"row_heading level0 row18\" >18</th>\n",
       "      <td id=\"T_8a583_row18_col0\" class=\"data row18 col0\" >1.000000</td>\n",
       "      <td id=\"T_8a583_row18_col1\" class=\"data row18 col1\" >5.710297</td>\n",
       "    </tr>\n",
       "    <tr>\n",
       "      <th id=\"T_8a583_level0_row19\" class=\"row_heading level0 row19\" >19</th>\n",
       "      <td id=\"T_8a583_row19_col0\" class=\"data row19 col0\" >1.000000</td>\n",
       "      <td id=\"T_8a583_row19_col1\" class=\"data row19 col1\" >-85.567703</td>\n",
       "    </tr>\n",
       "    <tr>\n",
       "      <th id=\"T_8a583_level0_row20\" class=\"row_heading level0 row20\" >20</th>\n",
       "      <td id=\"T_8a583_row20_col0\" class=\"data row20 col0\" >1.000000</td>\n",
       "      <td id=\"T_8a583_row20_col1\" class=\"data row20 col1\" >-281.006315</td>\n",
       "    </tr>\n",
       "    <tr>\n",
       "      <th id=\"T_8a583_level0_row21\" class=\"row_heading level0 row21\" >21</th>\n",
       "      <td id=\"T_8a583_row21_col0\" class=\"data row21 col0\" >1.000000</td>\n",
       "      <td id=\"T_8a583_row21_col1\" class=\"data row21 col1\" >73.714444</td>\n",
       "    </tr>\n",
       "    <tr>\n",
       "      <th id=\"T_8a583_level0_row22\" class=\"row_heading level0 row22\" >22</th>\n",
       "      <td id=\"T_8a583_row22_col0\" class=\"data row22 col0\" >1.000000</td>\n",
       "      <td id=\"T_8a583_row22_col1\" class=\"data row22 col1\" >847.670286</td>\n",
       "    </tr>\n",
       "    <tr>\n",
       "      <th id=\"T_8a583_level0_row23\" class=\"row_heading level0 row23\" >23</th>\n",
       "      <td id=\"T_8a583_row23_col0\" class=\"data row23 col0\" >1.000000</td>\n",
       "      <td id=\"T_8a583_row23_col1\" class=\"data row23 col1\" >-251.821751</td>\n",
       "    </tr>\n",
       "    <tr>\n",
       "      <th id=\"T_8a583_level0_row24\" class=\"row_heading level0 row24\" >24</th>\n",
       "      <td id=\"T_8a583_row24_col0\" class=\"data row24 col0\" >1.000000</td>\n",
       "      <td id=\"T_8a583_row24_col1\" class=\"data row24 col1\" >-40.126305</td>\n",
       "    </tr>\n",
       "    <tr>\n",
       "      <th id=\"T_8a583_level0_row25\" class=\"row_heading level0 row25\" >25</th>\n",
       "      <td id=\"T_8a583_row25_col0\" class=\"data row25 col0\" >1.000000</td>\n",
       "      <td id=\"T_8a583_row25_col1\" class=\"data row25 col1\" >113.778089</td>\n",
       "    </tr>\n",
       "    <tr>\n",
       "      <th id=\"T_8a583_level0_row26\" class=\"row_heading level0 row26\" >26</th>\n",
       "      <td id=\"T_8a583_row26_col0\" class=\"data row26 col0\" >1.000000</td>\n",
       "      <td id=\"T_8a583_row26_col1\" class=\"data row26 col1\" >-273.176943</td>\n",
       "    </tr>\n",
       "    <tr>\n",
       "      <th id=\"T_8a583_level0_row27\" class=\"row_heading level0 row27\" >27</th>\n",
       "      <td id=\"T_8a583_row27_col0\" class=\"data row27 col0\" >1.000000</td>\n",
       "      <td id=\"T_8a583_row27_col1\" class=\"data row27 col1\" >-49.621567</td>\n",
       "    </tr>\n",
       "    <tr>\n",
       "      <th id=\"T_8a583_level0_row28\" class=\"row_heading level0 row28\" >28</th>\n",
       "      <td id=\"T_8a583_row28_col0\" class=\"data row28 col0\" >1.000000</td>\n",
       "      <td id=\"T_8a583_row28_col1\" class=\"data row28 col1\" >55.482064</td>\n",
       "    </tr>\n",
       "    <tr>\n",
       "      <th id=\"T_8a583_level0_row29\" class=\"row_heading level0 row29\" >29</th>\n",
       "      <td id=\"T_8a583_row29_col0\" class=\"data row29 col0\" >1.000000</td>\n",
       "      <td id=\"T_8a583_row29_col1\" class=\"data row29 col1\" >286.732668</td>\n",
       "    </tr>\n",
       "    <tr>\n",
       "      <th id=\"T_8a583_level0_row30\" class=\"row_heading level0 row30\" >30</th>\n",
       "      <td id=\"T_8a583_row30_col0\" class=\"data row30 col0\" >1.000000</td>\n",
       "      <td id=\"T_8a583_row30_col1\" class=\"data row30 col1\" >-400.106753</td>\n",
       "    </tr>\n",
       "    <tr>\n",
       "      <th id=\"T_8a583_level0_row31\" class=\"row_heading level0 row31\" >31</th>\n",
       "      <td id=\"T_8a583_row31_col0\" class=\"data row31 col0\" >1.000000</td>\n",
       "      <td id=\"T_8a583_row31_col1\" class=\"data row31 col1\" >-483.750609</td>\n",
       "    </tr>\n",
       "    <tr>\n",
       "      <th id=\"T_8a583_level0_row32\" class=\"row_heading level0 row32\" >32</th>\n",
       "      <td id=\"T_8a583_row32_col0\" class=\"data row32 col0\" >1.000000</td>\n",
       "      <td id=\"T_8a583_row32_col1\" class=\"data row32 col1\" >424.250382</td>\n",
       "    </tr>\n",
       "    <tr>\n",
       "      <th id=\"T_8a583_level0_row33\" class=\"row_heading level0 row33\" >33</th>\n",
       "      <td id=\"T_8a583_row33_col0\" class=\"data row33 col0\" >1.000000</td>\n",
       "      <td id=\"T_8a583_row33_col1\" class=\"data row33 col1\" >-275.718791</td>\n",
       "    </tr>\n",
       "    <tr>\n",
       "      <th id=\"T_8a583_level0_row34\" class=\"row_heading level0 row34\" >34</th>\n",
       "      <td id=\"T_8a583_row34_col0\" class=\"data row34 col0\" >1.000000</td>\n",
       "      <td id=\"T_8a583_row34_col1\" class=\"data row34 col1\" >-161.323316</td>\n",
       "    </tr>\n",
       "    <tr>\n",
       "      <th id=\"T_8a583_level0_row35\" class=\"row_heading level0 row35\" >35</th>\n",
       "      <td id=\"T_8a583_row35_col0\" class=\"data row35 col0\" >1.000000</td>\n",
       "      <td id=\"T_8a583_row35_col1\" class=\"data row35 col1\" >749.846984</td>\n",
       "    </tr>\n",
       "    <tr>\n",
       "      <th id=\"T_8a583_level0_row36\" class=\"row_heading level0 row36\" >36</th>\n",
       "      <td id=\"T_8a583_row36_col0\" class=\"data row36 col0\" >1.000000</td>\n",
       "      <td id=\"T_8a583_row36_col1\" class=\"data row36 col1\" >97.678206</td>\n",
       "    </tr>\n",
       "    <tr>\n",
       "      <th id=\"T_8a583_level0_row37\" class=\"row_heading level0 row37\" >37</th>\n",
       "      <td id=\"T_8a583_row37_col0\" class=\"data row37 col0\" >1.000000</td>\n",
       "      <td id=\"T_8a583_row37_col1\" class=\"data row37 col1\" >-498.498641</td>\n",
       "    </tr>\n",
       "    <tr>\n",
       "      <th id=\"T_8a583_level0_row38\" class=\"row_heading level0 row38\" >38</th>\n",
       "      <td id=\"T_8a583_row38_col0\" class=\"data row38 col0\" >1.000000</td>\n",
       "      <td id=\"T_8a583_row38_col1\" class=\"data row38 col1\" >193.499727</td>\n",
       "    </tr>\n",
       "    <tr>\n",
       "      <th id=\"T_8a583_level0_row39\" class=\"row_heading level0 row39\" >39</th>\n",
       "      <td id=\"T_8a583_row39_col0\" class=\"data row39 col0\" >1.000000</td>\n",
       "      <td id=\"T_8a583_row39_col1\" class=\"data row39 col1\" >613.198603</td>\n",
       "    </tr>\n",
       "    <tr>\n",
       "      <th id=\"T_8a583_level0_row40\" class=\"row_heading level0 row40\" >40</th>\n",
       "      <td id=\"T_8a583_row40_col0\" class=\"data row40 col0\" >1.000000</td>\n",
       "      <td id=\"T_8a583_row40_col1\" class=\"data row40 col1\" >529.735239</td>\n",
       "    </tr>\n",
       "    <tr>\n",
       "      <th id=\"T_8a583_level0_row41\" class=\"row_heading level0 row41\" >41</th>\n",
       "      <td id=\"T_8a583_row41_col0\" class=\"data row41 col0\" >1.000000</td>\n",
       "      <td id=\"T_8a583_row41_col1\" class=\"data row41 col1\" >-847.667734</td>\n",
       "    </tr>\n",
       "    <tr>\n",
       "      <th id=\"T_8a583_level0_row42\" class=\"row_heading level0 row42\" >42</th>\n",
       "      <td id=\"T_8a583_row42_col0\" class=\"data row42 col0\" >1.000000</td>\n",
       "      <td id=\"T_8a583_row42_col1\" class=\"data row42 col1\" >156.680387</td>\n",
       "    </tr>\n",
       "    <tr>\n",
       "      <th id=\"T_8a583_level0_row43\" class=\"row_heading level0 row43\" >43</th>\n",
       "      <td id=\"T_8a583_row43_col0\" class=\"data row43 col0\" >1.000000</td>\n",
       "      <td id=\"T_8a583_row43_col1\" class=\"data row43 col1\" >48.409557</td>\n",
       "    </tr>\n",
       "    <tr>\n",
       "      <th id=\"T_8a583_level0_row44\" class=\"row_heading level0 row44\" >44</th>\n",
       "      <td id=\"T_8a583_row44_col0\" class=\"data row44 col0\" >1.000000</td>\n",
       "      <td id=\"T_8a583_row44_col1\" class=\"data row44 col1\" >-130.630864</td>\n",
       "    </tr>\n",
       "    <tr>\n",
       "      <th id=\"T_8a583_level0_row45\" class=\"row_heading level0 row45\" >45</th>\n",
       "      <td id=\"T_8a583_row45_col0\" class=\"data row45 col0\" >1.000000</td>\n",
       "      <td id=\"T_8a583_row45_col1\" class=\"data row45 col1\" >-19.907727</td>\n",
       "    </tr>\n",
       "    <tr>\n",
       "      <th id=\"T_8a583_level0_row46\" class=\"row_heading level0 row46\" >46</th>\n",
       "      <td id=\"T_8a583_row46_col0\" class=\"data row46 col0\" >1.000000</td>\n",
       "      <td id=\"T_8a583_row46_col1\" class=\"data row46 col1\" >-145.806500</td>\n",
       "    </tr>\n",
       "    <tr>\n",
       "      <th id=\"T_8a583_level0_row47\" class=\"row_heading level0 row47\" >47</th>\n",
       "      <td id=\"T_8a583_row47_col0\" class=\"data row47 col0\" >1.000000</td>\n",
       "      <td id=\"T_8a583_row47_col1\" class=\"data row47 col1\" >-829.331429</td>\n",
       "    </tr>\n",
       "    <tr>\n",
       "      <th id=\"T_8a583_level0_row48\" class=\"row_heading level0 row48\" >48</th>\n",
       "      <td id=\"T_8a583_row48_col0\" class=\"data row48 col0\" >1.000000</td>\n",
       "      <td id=\"T_8a583_row48_col1\" class=\"data row48 col1\" >-84.409428</td>\n",
       "    </tr>\n",
       "    <tr>\n",
       "      <th id=\"T_8a583_level0_row49\" class=\"row_heading level0 row49\" >49</th>\n",
       "      <td id=\"T_8a583_row49_col0\" class=\"data row49 col0\" >1.000000</td>\n",
       "      <td id=\"T_8a583_row49_col1\" class=\"data row49 col1\" >-73.624670</td>\n",
       "    </tr>\n",
       "    <tr>\n",
       "      <th id=\"T_8a583_level0_row50\" class=\"row_heading level0 row50\" >50</th>\n",
       "      <td id=\"T_8a583_row50_col0\" class=\"data row50 col0\" >1.000000</td>\n",
       "      <td id=\"T_8a583_row50_col1\" class=\"data row50 col1\" >177.793660</td>\n",
       "    </tr>\n",
       "    <tr>\n",
       "      <th id=\"T_8a583_level0_row51\" class=\"row_heading level0 row51\" >51</th>\n",
       "      <td id=\"T_8a583_row51_col0\" class=\"data row51 col0\" >1.000000</td>\n",
       "      <td id=\"T_8a583_row51_col1\" class=\"data row51 col1\" >6.804643</td>\n",
       "    </tr>\n",
       "    <tr>\n",
       "      <th id=\"T_8a583_level0_row52\" class=\"row_heading level0 row52\" >52</th>\n",
       "      <td id=\"T_8a583_row52_col0\" class=\"data row52 col0\" >1.000000</td>\n",
       "      <td id=\"T_8a583_row52_col1\" class=\"data row52 col1\" >-1.323683</td>\n",
       "    </tr>\n",
       "    <tr>\n",
       "      <th id=\"T_8a583_level0_row53\" class=\"row_heading level0 row53\" >53</th>\n",
       "      <td id=\"T_8a583_row53_col0\" class=\"data row53 col0\" >1.000000</td>\n",
       "      <td id=\"T_8a583_row53_col1\" class=\"data row53 col1\" >386.312603</td>\n",
       "    </tr>\n",
       "    <tr>\n",
       "      <th id=\"T_8a583_level0_row54\" class=\"row_heading level0 row54\" >54</th>\n",
       "      <td id=\"T_8a583_row54_col0\" class=\"data row54 col0\" >1.000000</td>\n",
       "      <td id=\"T_8a583_row54_col1\" class=\"data row54 col1\" >-193.019853</td>\n",
       "    </tr>\n",
       "    <tr>\n",
       "      <th id=\"T_8a583_level0_row55\" class=\"row_heading level0 row55\" >55</th>\n",
       "      <td id=\"T_8a583_row55_col0\" class=\"data row55 col0\" >1.000000</td>\n",
       "      <td id=\"T_8a583_row55_col1\" class=\"data row55 col1\" >384.235362</td>\n",
       "    </tr>\n",
       "    <tr>\n",
       "      <th id=\"T_8a583_level0_row56\" class=\"row_heading level0 row56\" >56</th>\n",
       "      <td id=\"T_8a583_row56_col0\" class=\"data row56 col0\" >1.000000</td>\n",
       "      <td id=\"T_8a583_row56_col1\" class=\"data row56 col1\" >219.594340</td>\n",
       "    </tr>\n",
       "    <tr>\n",
       "      <th id=\"T_8a583_level0_row57\" class=\"row_heading level0 row57\" >57</th>\n",
       "      <td id=\"T_8a583_row57_col0\" class=\"data row57 col0\" >1.000000</td>\n",
       "      <td id=\"T_8a583_row57_col1\" class=\"data row57 col1\" >-46.256406</td>\n",
       "    </tr>\n",
       "    <tr>\n",
       "      <th id=\"T_8a583_level0_row58\" class=\"row_heading level0 row58\" >58</th>\n",
       "      <td id=\"T_8a583_row58_col0\" class=\"data row58 col0\" >1.000000</td>\n",
       "      <td id=\"T_8a583_row58_col1\" class=\"data row58 col1\" >678.305495</td>\n",
       "    </tr>\n",
       "    <tr>\n",
       "      <th id=\"T_8a583_level0_row59\" class=\"row_heading level0 row59\" >59</th>\n",
       "      <td id=\"T_8a583_row59_col0\" class=\"data row59 col0\" >1.000000</td>\n",
       "      <td id=\"T_8a583_row59_col1\" class=\"data row59 col1\" >-249.007244</td>\n",
       "    </tr>\n",
       "    <tr>\n",
       "      <th id=\"T_8a583_level0_row60\" class=\"row_heading level0 row60\" >60</th>\n",
       "      <td id=\"T_8a583_row60_col0\" class=\"data row60 col0\" >1.000000</td>\n",
       "      <td id=\"T_8a583_row60_col1\" class=\"data row60 col1\" >461.044254</td>\n",
       "    </tr>\n",
       "    <tr>\n",
       "      <th id=\"T_8a583_level0_row61\" class=\"row_heading level0 row61\" >61</th>\n",
       "      <td id=\"T_8a583_row61_col0\" class=\"data row61 col0\" >1.000000</td>\n",
       "      <td id=\"T_8a583_row61_col1\" class=\"data row61 col1\" >37.358707</td>\n",
       "    </tr>\n",
       "    <tr>\n",
       "      <th id=\"T_8a583_level0_row62\" class=\"row_heading level0 row62\" >62</th>\n",
       "      <td id=\"T_8a583_row62_col0\" class=\"data row62 col0\" >1.000000</td>\n",
       "      <td id=\"T_8a583_row62_col1\" class=\"data row62 col1\" >-0.965973</td>\n",
       "    </tr>\n",
       "    <tr>\n",
       "      <th id=\"T_8a583_level0_row63\" class=\"row_heading level0 row63\" >63</th>\n",
       "      <td id=\"T_8a583_row63_col0\" class=\"data row63 col0\" >1.000000</td>\n",
       "      <td id=\"T_8a583_row63_col1\" class=\"data row63 col1\" >-65.990156</td>\n",
       "    </tr>\n",
       "    <tr>\n",
       "      <th id=\"T_8a583_level0_row64\" class=\"row_heading level0 row64\" >64</th>\n",
       "      <td id=\"T_8a583_row64_col0\" class=\"data row64 col0\" >1.000000</td>\n",
       "      <td id=\"T_8a583_row64_col1\" class=\"data row64 col1\" >-1143.859238</td>\n",
       "    </tr>\n",
       "    <tr>\n",
       "      <th id=\"T_8a583_level0_row65\" class=\"row_heading level0 row65\" >65</th>\n",
       "      <td id=\"T_8a583_row65_col0\" class=\"data row65 col0\" >1.000000</td>\n",
       "      <td id=\"T_8a583_row65_col1\" class=\"data row65 col1\" >173.079092</td>\n",
       "    </tr>\n",
       "    <tr>\n",
       "      <th id=\"T_8a583_level0_row66\" class=\"row_heading level0 row66\" >66</th>\n",
       "      <td id=\"T_8a583_row66_col0\" class=\"data row66 col0\" >1.000000</td>\n",
       "      <td id=\"T_8a583_row66_col1\" class=\"data row66 col1\" >124.768319</td>\n",
       "    </tr>\n",
       "    <tr>\n",
       "      <th id=\"T_8a583_level0_row67\" class=\"row_heading level0 row67\" >67</th>\n",
       "      <td id=\"T_8a583_row67_col0\" class=\"data row67 col0\" >1.000000</td>\n",
       "      <td id=\"T_8a583_row67_col1\" class=\"data row67 col1\" >-7.929242</td>\n",
       "    </tr>\n",
       "    <tr>\n",
       "      <th id=\"T_8a583_level0_row68\" class=\"row_heading level0 row68\" >68</th>\n",
       "      <td id=\"T_8a583_row68_col0\" class=\"data row68 col0\" >1.000000</td>\n",
       "      <td id=\"T_8a583_row68_col1\" class=\"data row68 col1\" >114.098555</td>\n",
       "    </tr>\n",
       "    <tr>\n",
       "      <th id=\"T_8a583_level0_row69\" class=\"row_heading level0 row69\" >69</th>\n",
       "      <td id=\"T_8a583_row69_col0\" class=\"data row69 col0\" >1.000000</td>\n",
       "      <td id=\"T_8a583_row69_col1\" class=\"data row69 col1\" >-488.750667</td>\n",
       "    </tr>\n",
       "    <tr>\n",
       "      <th id=\"T_8a583_level0_row70\" class=\"row_heading level0 row70\" >70</th>\n",
       "      <td id=\"T_8a583_row70_col0\" class=\"data row70 col0\" >1.000000</td>\n",
       "      <td id=\"T_8a583_row70_col1\" class=\"data row70 col1\" >-89.767531</td>\n",
       "    </tr>\n",
       "    <tr>\n",
       "      <th id=\"T_8a583_level0_row71\" class=\"row_heading level0 row71\" >71</th>\n",
       "      <td id=\"T_8a583_row71_col0\" class=\"data row71 col0\" >1.000000</td>\n",
       "      <td id=\"T_8a583_row71_col1\" class=\"data row71 col1\" >500.316496</td>\n",
       "    </tr>\n",
       "    <tr>\n",
       "      <th id=\"T_8a583_level0_row72\" class=\"row_heading level0 row72\" >72</th>\n",
       "      <td id=\"T_8a583_row72_col0\" class=\"data row72 col0\" >1.000000</td>\n",
       "      <td id=\"T_8a583_row72_col1\" class=\"data row72 col1\" >643.865275</td>\n",
       "    </tr>\n",
       "    <tr>\n",
       "      <th id=\"T_8a583_level0_row73\" class=\"row_heading level0 row73\" >73</th>\n",
       "      <td id=\"T_8a583_row73_col0\" class=\"data row73 col0\" >1.000000</td>\n",
       "      <td id=\"T_8a583_row73_col1\" class=\"data row73 col1\" >-43.956110</td>\n",
       "    </tr>\n",
       "    <tr>\n",
       "      <th id=\"T_8a583_level0_row74\" class=\"row_heading level0 row74\" >74</th>\n",
       "      <td id=\"T_8a583_row74_col0\" class=\"data row74 col0\" >1.000000</td>\n",
       "      <td id=\"T_8a583_row74_col1\" class=\"data row74 col1\" >-1287.184978</td>\n",
       "    </tr>\n",
       "    <tr>\n",
       "      <th id=\"T_8a583_level0_row75\" class=\"row_heading level0 row75\" >75</th>\n",
       "      <td id=\"T_8a583_row75_col0\" class=\"data row75 col0\" >1.000000</td>\n",
       "      <td id=\"T_8a583_row75_col1\" class=\"data row75 col1\" >47.581492</td>\n",
       "    </tr>\n",
       "    <tr>\n",
       "      <th id=\"T_8a583_level0_row76\" class=\"row_heading level0 row76\" >76</th>\n",
       "      <td id=\"T_8a583_row76_col0\" class=\"data row76 col0\" >1.000000</td>\n",
       "      <td id=\"T_8a583_row76_col1\" class=\"data row76 col1\" >342.639107</td>\n",
       "    </tr>\n",
       "    <tr>\n",
       "      <th id=\"T_8a583_level0_row77\" class=\"row_heading level0 row77\" >77</th>\n",
       "      <td id=\"T_8a583_row77_col0\" class=\"data row77 col0\" >1.000000</td>\n",
       "      <td id=\"T_8a583_row77_col1\" class=\"data row77 col1\" >-372.555510</td>\n",
       "    </tr>\n",
       "    <tr>\n",
       "      <th id=\"T_8a583_level0_row78\" class=\"row_heading level0 row78\" >78</th>\n",
       "      <td id=\"T_8a583_row78_col0\" class=\"data row78 col0\" >1.000000</td>\n",
       "      <td id=\"T_8a583_row78_col1\" class=\"data row78 col1\" >-711.008667</td>\n",
       "    </tr>\n",
       "    <tr>\n",
       "      <th id=\"T_8a583_level0_row79\" class=\"row_heading level0 row79\" >79</th>\n",
       "      <td id=\"T_8a583_row79_col0\" class=\"data row79 col0\" >1.000000</td>\n",
       "      <td id=\"T_8a583_row79_col1\" class=\"data row79 col1\" >-163.563631</td>\n",
       "    </tr>\n",
       "    <tr>\n",
       "      <th id=\"T_8a583_level0_row80\" class=\"row_heading level0 row80\" >80</th>\n",
       "      <td id=\"T_8a583_row80_col0\" class=\"data row80 col0\" >1.000000</td>\n",
       "      <td id=\"T_8a583_row80_col1\" class=\"data row80 col1\" >45.768098</td>\n",
       "    </tr>\n",
       "    <tr>\n",
       "      <th id=\"T_8a583_level0_row81\" class=\"row_heading level0 row81\" >81</th>\n",
       "      <td id=\"T_8a583_row81_col0\" class=\"data row81 col0\" >1.000000</td>\n",
       "      <td id=\"T_8a583_row81_col1\" class=\"data row81 col1\" >-426.455441</td>\n",
       "    </tr>\n",
       "    <tr>\n",
       "      <th id=\"T_8a583_level0_row82\" class=\"row_heading level0 row82\" >82</th>\n",
       "      <td id=\"T_8a583_row82_col0\" class=\"data row82 col0\" >1.000000</td>\n",
       "      <td id=\"T_8a583_row82_col1\" class=\"data row82 col1\" >-112.022734</td>\n",
       "    </tr>\n",
       "    <tr>\n",
       "      <th id=\"T_8a583_level0_row83\" class=\"row_heading level0 row83\" >83</th>\n",
       "      <td id=\"T_8a583_row83_col0\" class=\"data row83 col0\" >1.000000</td>\n",
       "      <td id=\"T_8a583_row83_col1\" class=\"data row83 col1\" >362.000309</td>\n",
       "    </tr>\n",
       "    <tr>\n",
       "      <th id=\"T_8a583_level0_row84\" class=\"row_heading level0 row84\" >84</th>\n",
       "      <td id=\"T_8a583_row84_col0\" class=\"data row84 col0\" >1.000000</td>\n",
       "      <td id=\"T_8a583_row84_col1\" class=\"data row84 col1\" >1566.237594</td>\n",
       "    </tr>\n",
       "    <tr>\n",
       "      <th id=\"T_8a583_level0_row85\" class=\"row_heading level0 row85\" >85</th>\n",
       "      <td id=\"T_8a583_row85_col0\" class=\"data row85 col0\" >1.000000</td>\n",
       "      <td id=\"T_8a583_row85_col1\" class=\"data row85 col1\" >243.049100</td>\n",
       "    </tr>\n",
       "    <tr>\n",
       "      <th id=\"T_8a583_level0_row86\" class=\"row_heading level0 row86\" >86</th>\n",
       "      <td id=\"T_8a583_row86_col0\" class=\"data row86 col0\" >1.000000</td>\n",
       "      <td id=\"T_8a583_row86_col1\" class=\"data row86 col1\" >1130.094475</td>\n",
       "    </tr>\n",
       "    <tr>\n",
       "      <th id=\"T_8a583_level0_row87\" class=\"row_heading level0 row87\" >87</th>\n",
       "      <td id=\"T_8a583_row87_col0\" class=\"data row87 col0\" >1.000000</td>\n",
       "      <td id=\"T_8a583_row87_col1\" class=\"data row87 col1\" >623.419351</td>\n",
       "    </tr>\n",
       "    <tr>\n",
       "      <th id=\"T_8a583_level0_row88\" class=\"row_heading level0 row88\" >88</th>\n",
       "      <td id=\"T_8a583_row88_col0\" class=\"data row88 col0\" >1.000000</td>\n",
       "      <td id=\"T_8a583_row88_col1\" class=\"data row88 col1\" >-738.812487</td>\n",
       "    </tr>\n",
       "    <tr>\n",
       "      <th id=\"T_8a583_level0_row89\" class=\"row_heading level0 row89\" >89</th>\n",
       "      <td id=\"T_8a583_row89_col0\" class=\"data row89 col0\" >1.000000</td>\n",
       "      <td id=\"T_8a583_row89_col1\" class=\"data row89 col1\" >-371.331596</td>\n",
       "    </tr>\n",
       "    <tr>\n",
       "      <th id=\"T_8a583_level0_row90\" class=\"row_heading level0 row90\" >90</th>\n",
       "      <td id=\"T_8a583_row90_col0\" class=\"data row90 col0\" >1.000000</td>\n",
       "      <td id=\"T_8a583_row90_col1\" class=\"data row90 col1\" >-36.332046</td>\n",
       "    </tr>\n",
       "    <tr>\n",
       "      <th id=\"T_8a583_level0_row91\" class=\"row_heading level0 row91\" >91</th>\n",
       "      <td id=\"T_8a583_row91_col0\" class=\"data row91 col0\" >1.000000</td>\n",
       "      <td id=\"T_8a583_row91_col1\" class=\"data row91 col1\" >-38.118118</td>\n",
       "    </tr>\n",
       "    <tr>\n",
       "      <th id=\"T_8a583_level0_row92\" class=\"row_heading level0 row92\" >92</th>\n",
       "      <td id=\"T_8a583_row92_col0\" class=\"data row92 col0\" >1.000000</td>\n",
       "      <td id=\"T_8a583_row92_col1\" class=\"data row92 col1\" >-171.559576</td>\n",
       "    </tr>\n",
       "    <tr>\n",
       "      <th id=\"T_8a583_level0_row93\" class=\"row_heading level0 row93\" >93</th>\n",
       "      <td id=\"T_8a583_row93_col0\" class=\"data row93 col0\" >1.000000</td>\n",
       "      <td id=\"T_8a583_row93_col1\" class=\"data row93 col1\" >641.874141</td>\n",
       "    </tr>\n",
       "    <tr>\n",
       "      <th id=\"T_8a583_level0_row94\" class=\"row_heading level0 row94\" >94</th>\n",
       "      <td id=\"T_8a583_row94_col0\" class=\"data row94 col0\" >1.000000</td>\n",
       "      <td id=\"T_8a583_row94_col1\" class=\"data row94 col1\" >1037.930500</td>\n",
       "    </tr>\n",
       "    <tr>\n",
       "      <th id=\"T_8a583_level0_row95\" class=\"row_heading level0 row95\" >95</th>\n",
       "      <td id=\"T_8a583_row95_col0\" class=\"data row95 col0\" >1.000000</td>\n",
       "      <td id=\"T_8a583_row95_col1\" class=\"data row95 col1\" >-117.290313</td>\n",
       "    </tr>\n",
       "    <tr>\n",
       "      <th id=\"T_8a583_level0_row96\" class=\"row_heading level0 row96\" >96</th>\n",
       "      <td id=\"T_8a583_row96_col0\" class=\"data row96 col0\" >1.000000</td>\n",
       "      <td id=\"T_8a583_row96_col1\" class=\"data row96 col1\" >-758.407807</td>\n",
       "    </tr>\n",
       "    <tr>\n",
       "      <th id=\"T_8a583_level0_row97\" class=\"row_heading level0 row97\" >97</th>\n",
       "      <td id=\"T_8a583_row97_col0\" class=\"data row97 col0\" >1.000000</td>\n",
       "      <td id=\"T_8a583_row97_col1\" class=\"data row97 col1\" >-519.793731</td>\n",
       "    </tr>\n",
       "    <tr>\n",
       "      <th id=\"T_8a583_level0_row98\" class=\"row_heading level0 row98\" >98</th>\n",
       "      <td id=\"T_8a583_row98_col0\" class=\"data row98 col0\" >1.000000</td>\n",
       "      <td id=\"T_8a583_row98_col1\" class=\"data row98 col1\" >-469.198106</td>\n",
       "    </tr>\n",
       "    <tr>\n",
       "      <th id=\"T_8a583_level0_row99\" class=\"row_heading level0 row99\" >99</th>\n",
       "      <td id=\"T_8a583_row99_col0\" class=\"data row99 col0\" >1.000000</td>\n",
       "      <td id=\"T_8a583_row99_col1\" class=\"data row99 col1\" >-702.644717</td>\n",
       "    </tr>\n",
       "    <tr>\n",
       "      <th id=\"T_8a583_level0_row100\" class=\"row_heading level0 row100\" >100</th>\n",
       "      <td id=\"T_8a583_row100_col0\" class=\"data row100 col0\" >1.000000</td>\n",
       "      <td id=\"T_8a583_row100_col1\" class=\"data row100 col1\" >-211.964372</td>\n",
       "    </tr>\n",
       "    <tr>\n",
       "      <th id=\"T_8a583_level0_row101\" class=\"row_heading level0 row101\" >101</th>\n",
       "      <td id=\"T_8a583_row101_col0\" class=\"data row101 col0\" >1.000000</td>\n",
       "      <td id=\"T_8a583_row101_col1\" class=\"data row101 col1\" >-151.445917</td>\n",
       "    </tr>\n",
       "    <tr>\n",
       "      <th id=\"T_8a583_level0_row102\" class=\"row_heading level0 row102\" >102</th>\n",
       "      <td id=\"T_8a583_row102_col0\" class=\"data row102 col0\" >1.000000</td>\n",
       "      <td id=\"T_8a583_row102_col1\" class=\"data row102 col1\" >-748.495310</td>\n",
       "    </tr>\n",
       "    <tr>\n",
       "      <th id=\"T_8a583_level0_row103\" class=\"row_heading level0 row103\" >103</th>\n",
       "      <td id=\"T_8a583_row103_col0\" class=\"data row103 col0\" >1.000000</td>\n",
       "      <td id=\"T_8a583_row103_col1\" class=\"data row103 col1\" >-194.036548</td>\n",
       "    </tr>\n",
       "    <tr>\n",
       "      <th id=\"T_8a583_level0_row104\" class=\"row_heading level0 row104\" >104</th>\n",
       "      <td id=\"T_8a583_row104_col0\" class=\"data row104 col0\" >1.000000</td>\n",
       "      <td id=\"T_8a583_row104_col1\" class=\"data row104 col1\" >535.214822</td>\n",
       "    </tr>\n",
       "    <tr>\n",
       "      <th id=\"T_8a583_level0_row105\" class=\"row_heading level0 row105\" >105</th>\n",
       "      <td id=\"T_8a583_row105_col0\" class=\"data row105 col0\" >1.000000</td>\n",
       "      <td id=\"T_8a583_row105_col1\" class=\"data row105 col1\" >818.057059</td>\n",
       "    </tr>\n",
       "    <tr>\n",
       "      <th id=\"T_8a583_level0_row106\" class=\"row_heading level0 row106\" >106</th>\n",
       "      <td id=\"T_8a583_row106_col0\" class=\"data row106 col0\" >1.000000</td>\n",
       "      <td id=\"T_8a583_row106_col1\" class=\"data row106 col1\" >-1722.463403</td>\n",
       "    </tr>\n",
       "    <tr>\n",
       "      <th id=\"T_8a583_level0_row107\" class=\"row_heading level0 row107\" >107</th>\n",
       "      <td id=\"T_8a583_row107_col0\" class=\"data row107 col0\" >1.000000</td>\n",
       "      <td id=\"T_8a583_row107_col1\" class=\"data row107 col1\" >966.285474</td>\n",
       "    </tr>\n",
       "    <tr>\n",
       "      <th id=\"T_8a583_level0_row108\" class=\"row_heading level0 row108\" >108</th>\n",
       "      <td id=\"T_8a583_row108_col0\" class=\"data row108 col0\" >1.000000</td>\n",
       "      <td id=\"T_8a583_row108_col1\" class=\"data row108 col1\" >867.925652</td>\n",
       "    </tr>\n",
       "    <tr>\n",
       "      <th id=\"T_8a583_level0_row109\" class=\"row_heading level0 row109\" >109</th>\n",
       "      <td id=\"T_8a583_row109_col0\" class=\"data row109 col0\" >1.000000</td>\n",
       "      <td id=\"T_8a583_row109_col1\" class=\"data row109 col1\" >-84.471114</td>\n",
       "    </tr>\n",
       "    <tr>\n",
       "      <th id=\"T_8a583_level0_row110\" class=\"row_heading level0 row110\" >110</th>\n",
       "      <td id=\"T_8a583_row110_col0\" class=\"data row110 col0\" >1.000000</td>\n",
       "      <td id=\"T_8a583_row110_col1\" class=\"data row110 col1\" >-514.694938</td>\n",
       "    </tr>\n",
       "    <tr>\n",
       "      <th id=\"T_8a583_level0_row111\" class=\"row_heading level0 row111\" >111</th>\n",
       "      <td id=\"T_8a583_row111_col0\" class=\"data row111 col0\" >1.000000</td>\n",
       "      <td id=\"T_8a583_row111_col1\" class=\"data row111 col1\" >-1340.404509</td>\n",
       "    </tr>\n",
       "    <tr>\n",
       "      <th id=\"T_8a583_level0_row112\" class=\"row_heading level0 row112\" >112</th>\n",
       "      <td id=\"T_8a583_row112_col0\" class=\"data row112 col0\" >1.000000</td>\n",
       "      <td id=\"T_8a583_row112_col1\" class=\"data row112 col1\" >1139.617843</td>\n",
       "    </tr>\n",
       "    <tr>\n",
       "      <th id=\"T_8a583_level0_row113\" class=\"row_heading level0 row113\" >113</th>\n",
       "      <td id=\"T_8a583_row113_col0\" class=\"data row113 col0\" >1.000000</td>\n",
       "      <td id=\"T_8a583_row113_col1\" class=\"data row113 col1\" >117.710456</td>\n",
       "    </tr>\n",
       "    <tr>\n",
       "      <th id=\"T_8a583_level0_row114\" class=\"row_heading level0 row114\" >114</th>\n",
       "      <td id=\"T_8a583_row114_col0\" class=\"data row114 col0\" >1.000000</td>\n",
       "      <td id=\"T_8a583_row114_col1\" class=\"data row114 col1\" >-886.960406</td>\n",
       "    </tr>\n",
       "    <tr>\n",
       "      <th id=\"T_8a583_level0_row115\" class=\"row_heading level0 row115\" >115</th>\n",
       "      <td id=\"T_8a583_row115_col0\" class=\"data row115 col0\" >1.000000</td>\n",
       "      <td id=\"T_8a583_row115_col1\" class=\"data row115 col1\" >1434.719372</td>\n",
       "    </tr>\n",
       "    <tr>\n",
       "      <th id=\"T_8a583_level0_row116\" class=\"row_heading level0 row116\" >116</th>\n",
       "      <td id=\"T_8a583_row116_col0\" class=\"data row116 col0\" >1.000000</td>\n",
       "      <td id=\"T_8a583_row116_col1\" class=\"data row116 col1\" >-273.058790</td>\n",
       "    </tr>\n",
       "    <tr>\n",
       "      <th id=\"T_8a583_level0_row117\" class=\"row_heading level0 row117\" >117</th>\n",
       "      <td id=\"T_8a583_row117_col0\" class=\"data row117 col0\" >1.000000</td>\n",
       "      <td id=\"T_8a583_row117_col1\" class=\"data row117 col1\" >1271.861870</td>\n",
       "    </tr>\n",
       "    <tr>\n",
       "      <th id=\"T_8a583_level0_row118\" class=\"row_heading level0 row118\" >118</th>\n",
       "      <td id=\"T_8a583_row118_col0\" class=\"data row118 col0\" >1.000000</td>\n",
       "      <td id=\"T_8a583_row118_col1\" class=\"data row118 col1\" >166.296842</td>\n",
       "    </tr>\n",
       "    <tr>\n",
       "      <th id=\"T_8a583_level0_row119\" class=\"row_heading level0 row119\" >119</th>\n",
       "      <td id=\"T_8a583_row119_col0\" class=\"data row119 col0\" >1.000000</td>\n",
       "      <td id=\"T_8a583_row119_col1\" class=\"data row119 col1\" >227.653843</td>\n",
       "    </tr>\n",
       "    <tr>\n",
       "      <th id=\"T_8a583_level0_row120\" class=\"row_heading level0 row120\" >120</th>\n",
       "      <td id=\"T_8a583_row120_col0\" class=\"data row120 col0\" >1.000000</td>\n",
       "      <td id=\"T_8a583_row120_col1\" class=\"data row120 col1\" >1536.154171</td>\n",
       "    </tr>\n",
       "    <tr>\n",
       "      <th id=\"T_8a583_level0_row121\" class=\"row_heading level0 row121\" >121</th>\n",
       "      <td id=\"T_8a583_row121_col0\" class=\"data row121 col0\" >1.000000</td>\n",
       "      <td id=\"T_8a583_row121_col1\" class=\"data row121 col1\" >-897.108984</td>\n",
       "    </tr>\n",
       "    <tr>\n",
       "      <th id=\"T_8a583_level0_row122\" class=\"row_heading level0 row122\" >122</th>\n",
       "      <td id=\"T_8a583_row122_col0\" class=\"data row122 col0\" >1.000000</td>\n",
       "      <td id=\"T_8a583_row122_col1\" class=\"data row122 col1\" >-936.941444</td>\n",
       "    </tr>\n",
       "    <tr>\n",
       "      <th id=\"T_8a583_level0_row123\" class=\"row_heading level0 row123\" >123</th>\n",
       "      <td id=\"T_8a583_row123_col0\" class=\"data row123 col0\" >1.000000</td>\n",
       "      <td id=\"T_8a583_row123_col1\" class=\"data row123 col1\" >652.726989</td>\n",
       "    </tr>\n",
       "    <tr>\n",
       "      <th id=\"T_8a583_level0_row124\" class=\"row_heading level0 row124\" >124</th>\n",
       "      <td id=\"T_8a583_row124_col0\" class=\"data row124 col0\" >1.000000</td>\n",
       "      <td id=\"T_8a583_row124_col1\" class=\"data row124 col1\" >263.588535</td>\n",
       "    </tr>\n",
       "    <tr>\n",
       "      <th id=\"T_8a583_level0_row125\" class=\"row_heading level0 row125\" >125</th>\n",
       "      <td id=\"T_8a583_row125_col0\" class=\"data row125 col0\" >1.000000</td>\n",
       "      <td id=\"T_8a583_row125_col1\" class=\"data row125 col1\" >-270.396420</td>\n",
       "    </tr>\n",
       "    <tr>\n",
       "      <th id=\"T_8a583_level0_row126\" class=\"row_heading level0 row126\" >126</th>\n",
       "      <td id=\"T_8a583_row126_col0\" class=\"data row126 col0\" >1.000000</td>\n",
       "      <td id=\"T_8a583_row126_col1\" class=\"data row126 col1\" >133.930489</td>\n",
       "    </tr>\n",
       "    <tr>\n",
       "      <th id=\"T_8a583_level0_row127\" class=\"row_heading level0 row127\" >127</th>\n",
       "      <td id=\"T_8a583_row127_col0\" class=\"data row127 col0\" >1.000000</td>\n",
       "      <td id=\"T_8a583_row127_col1\" class=\"data row127 col1\" >-1504.756195</td>\n",
       "    </tr>\n",
       "    <tr>\n",
       "      <th id=\"T_8a583_level0_row128\" class=\"row_heading level0 row128\" >128</th>\n",
       "      <td id=\"T_8a583_row128_col0\" class=\"data row128 col0\" >1.000000</td>\n",
       "      <td id=\"T_8a583_row128_col1\" class=\"data row128 col1\" >-1430.479518</td>\n",
       "    </tr>\n",
       "    <tr>\n",
       "      <th id=\"T_8a583_level0_row129\" class=\"row_heading level0 row129\" >129</th>\n",
       "      <td id=\"T_8a583_row129_col0\" class=\"data row129 col0\" >1.000000</td>\n",
       "      <td id=\"T_8a583_row129_col1\" class=\"data row129 col1\" >689.976330</td>\n",
       "    </tr>\n",
       "    <tr>\n",
       "      <th id=\"T_8a583_level0_row130\" class=\"row_heading level0 row130\" >130</th>\n",
       "      <td id=\"T_8a583_row130_col0\" class=\"data row130 col0\" >1.000000</td>\n",
       "      <td id=\"T_8a583_row130_col1\" class=\"data row130 col1\" >67.437523</td>\n",
       "    </tr>\n",
       "    <tr>\n",
       "      <th id=\"T_8a583_level0_row131\" class=\"row_heading level0 row131\" >131</th>\n",
       "      <td id=\"T_8a583_row131_col0\" class=\"data row131 col0\" >1.000000</td>\n",
       "      <td id=\"T_8a583_row131_col1\" class=\"data row131 col1\" >-1889.068252</td>\n",
       "    </tr>\n",
       "    <tr>\n",
       "      <th id=\"T_8a583_level0_row132\" class=\"row_heading level0 row132\" >132</th>\n",
       "      <td id=\"T_8a583_row132_col0\" class=\"data row132 col0\" >1.000000</td>\n",
       "      <td id=\"T_8a583_row132_col1\" class=\"data row132 col1\" >418.938652</td>\n",
       "    </tr>\n",
       "    <tr>\n",
       "      <th id=\"T_8a583_level0_row133\" class=\"row_heading level0 row133\" >133</th>\n",
       "      <td id=\"T_8a583_row133_col0\" class=\"data row133 col0\" >1.000000</td>\n",
       "      <td id=\"T_8a583_row133_col1\" class=\"data row133 col1\" >1211.931978</td>\n",
       "    </tr>\n",
       "    <tr>\n",
       "      <th id=\"T_8a583_level0_row134\" class=\"row_heading level0 row134\" >134</th>\n",
       "      <td id=\"T_8a583_row134_col0\" class=\"data row134 col0\" >1.000000</td>\n",
       "      <td id=\"T_8a583_row134_col1\" class=\"data row134 col1\" >501.197898</td>\n",
       "    </tr>\n",
       "    <tr>\n",
       "      <th id=\"T_8a583_level0_row135\" class=\"row_heading level0 row135\" >135</th>\n",
       "      <td id=\"T_8a583_row135_col0\" class=\"data row135 col0\" >1.000000</td>\n",
       "      <td id=\"T_8a583_row135_col1\" class=\"data row135 col1\" >810.671929</td>\n",
       "    </tr>\n",
       "    <tr>\n",
       "      <th id=\"T_8a583_level0_row136\" class=\"row_heading level0 row136\" >136</th>\n",
       "      <td id=\"T_8a583_row136_col0\" class=\"data row136 col0\" >1.000000</td>\n",
       "      <td id=\"T_8a583_row136_col1\" class=\"data row136 col1\" >321.354454</td>\n",
       "    </tr>\n",
       "    <tr>\n",
       "      <th id=\"T_8a583_level0_row137\" class=\"row_heading level0 row137\" >137</th>\n",
       "      <td id=\"T_8a583_row137_col0\" class=\"data row137 col0\" >1.000000</td>\n",
       "      <td id=\"T_8a583_row137_col1\" class=\"data row137 col1\" >-349.865988</td>\n",
       "    </tr>\n",
       "    <tr>\n",
       "      <th id=\"T_8a583_level0_row138\" class=\"row_heading level0 row138\" >138</th>\n",
       "      <td id=\"T_8a583_row138_col0\" class=\"data row138 col0\" >1.000000</td>\n",
       "      <td id=\"T_8a583_row138_col1\" class=\"data row138 col1\" >-362.963040</td>\n",
       "    </tr>\n",
       "    <tr>\n",
       "      <th id=\"T_8a583_level0_row139\" class=\"row_heading level0 row139\" >139</th>\n",
       "      <td id=\"T_8a583_row139_col0\" class=\"data row139 col0\" >1.000000</td>\n",
       "      <td id=\"T_8a583_row139_col1\" class=\"data row139 col1\" >-719.776727</td>\n",
       "    </tr>\n",
       "    <tr>\n",
       "      <th id=\"T_8a583_level0_row140\" class=\"row_heading level0 row140\" >140</th>\n",
       "      <td id=\"T_8a583_row140_col0\" class=\"data row140 col0\" >1.000000</td>\n",
       "      <td id=\"T_8a583_row140_col1\" class=\"data row140 col1\" >648.692274</td>\n",
       "    </tr>\n",
       "    <tr>\n",
       "      <th id=\"T_8a583_level0_row141\" class=\"row_heading level0 row141\" >141</th>\n",
       "      <td id=\"T_8a583_row141_col0\" class=\"data row141 col0\" >1.000000</td>\n",
       "      <td id=\"T_8a583_row141_col1\" class=\"data row141 col1\" >-935.634452</td>\n",
       "    </tr>\n",
       "    <tr>\n",
       "      <th id=\"T_8a583_level0_row142\" class=\"row_heading level0 row142\" >142</th>\n",
       "      <td id=\"T_8a583_row142_col0\" class=\"data row142 col0\" >1.000000</td>\n",
       "      <td id=\"T_8a583_row142_col1\" class=\"data row142 col1\" >641.490822</td>\n",
       "    </tr>\n",
       "    <tr>\n",
       "      <th id=\"T_8a583_level0_row143\" class=\"row_heading level0 row143\" >143</th>\n",
       "      <td id=\"T_8a583_row143_col0\" class=\"data row143 col0\" >1.000000</td>\n",
       "      <td id=\"T_8a583_row143_col1\" class=\"data row143 col1\" >199.170846</td>\n",
       "    </tr>\n",
       "    <tr>\n",
       "      <th id=\"T_8a583_level0_row144\" class=\"row_heading level0 row144\" >144</th>\n",
       "      <td id=\"T_8a583_row144_col0\" class=\"data row144 col0\" >1.000000</td>\n",
       "      <td id=\"T_8a583_row144_col1\" class=\"data row144 col1\" >1023.217612</td>\n",
       "    </tr>\n",
       "    <tr>\n",
       "      <th id=\"T_8a583_level0_row145\" class=\"row_heading level0 row145\" >145</th>\n",
       "      <td id=\"T_8a583_row145_col0\" class=\"data row145 col0\" >1.000000</td>\n",
       "      <td id=\"T_8a583_row145_col1\" class=\"data row145 col1\" >-564.029729</td>\n",
       "    </tr>\n",
       "    <tr>\n",
       "      <th id=\"T_8a583_level0_row146\" class=\"row_heading level0 row146\" >146</th>\n",
       "      <td id=\"T_8a583_row146_col0\" class=\"data row146 col0\" >1.000000</td>\n",
       "      <td id=\"T_8a583_row146_col1\" class=\"data row146 col1\" >71.989946</td>\n",
       "    </tr>\n",
       "    <tr>\n",
       "      <th id=\"T_8a583_level0_row147\" class=\"row_heading level0 row147\" >147</th>\n",
       "      <td id=\"T_8a583_row147_col0\" class=\"data row147 col0\" >1.000000</td>\n",
       "      <td id=\"T_8a583_row147_col1\" class=\"data row147 col1\" >-933.472270</td>\n",
       "    </tr>\n",
       "    <tr>\n",
       "      <th id=\"T_8a583_level0_row148\" class=\"row_heading level0 row148\" >148</th>\n",
       "      <td id=\"T_8a583_row148_col0\" class=\"data row148 col0\" >1.000000</td>\n",
       "      <td id=\"T_8a583_row148_col1\" class=\"data row148 col1\" >-597.579457</td>\n",
       "    </tr>\n",
       "    <tr>\n",
       "      <th id=\"T_8a583_level0_row149\" class=\"row_heading level0 row149\" >149</th>\n",
       "      <td id=\"T_8a583_row149_col0\" class=\"data row149 col0\" >1.000000</td>\n",
       "      <td id=\"T_8a583_row149_col1\" class=\"data row149 col1\" >830.781590</td>\n",
       "    </tr>\n",
       "    <tr>\n",
       "      <th id=\"T_8a583_level0_row150\" class=\"row_heading level0 row150\" >150</th>\n",
       "      <td id=\"T_8a583_row150_col0\" class=\"data row150 col0\" >1.000000</td>\n",
       "      <td id=\"T_8a583_row150_col1\" class=\"data row150 col1\" >448.147252</td>\n",
       "    </tr>\n",
       "    <tr>\n",
       "      <th id=\"T_8a583_level0_row151\" class=\"row_heading level0 row151\" >151</th>\n",
       "      <td id=\"T_8a583_row151_col0\" class=\"data row151 col0\" >1.000000</td>\n",
       "      <td id=\"T_8a583_row151_col1\" class=\"data row151 col1\" >453.324620</td>\n",
       "    </tr>\n",
       "    <tr>\n",
       "      <th id=\"T_8a583_level0_row152\" class=\"row_heading level0 row152\" >152</th>\n",
       "      <td id=\"T_8a583_row152_col0\" class=\"data row152 col0\" >1.000000</td>\n",
       "      <td id=\"T_8a583_row152_col1\" class=\"data row152 col1\" >951.088705</td>\n",
       "    </tr>\n",
       "    <tr>\n",
       "      <th id=\"T_8a583_level0_row153\" class=\"row_heading level0 row153\" >153</th>\n",
       "      <td id=\"T_8a583_row153_col0\" class=\"data row153 col0\" >1.000000</td>\n",
       "      <td id=\"T_8a583_row153_col1\" class=\"data row153 col1\" >152.544307</td>\n",
       "    </tr>\n",
       "    <tr>\n",
       "      <th id=\"T_8a583_level0_row154\" class=\"row_heading level0 row154\" >154</th>\n",
       "      <td id=\"T_8a583_row154_col0\" class=\"data row154 col0\" >1.000000</td>\n",
       "      <td id=\"T_8a583_row154_col1\" class=\"data row154 col1\" >-348.433087</td>\n",
       "    </tr>\n",
       "    <tr>\n",
       "      <th id=\"T_8a583_level0_row155\" class=\"row_heading level0 row155\" >155</th>\n",
       "      <td id=\"T_8a583_row155_col0\" class=\"data row155 col0\" >1.000000</td>\n",
       "      <td id=\"T_8a583_row155_col1\" class=\"data row155 col1\" >-807.482055</td>\n",
       "    </tr>\n",
       "    <tr>\n",
       "      <th id=\"T_8a583_level0_row156\" class=\"row_heading level0 row156\" >156</th>\n",
       "      <td id=\"T_8a583_row156_col0\" class=\"data row156 col0\" >1.000000</td>\n",
       "      <td id=\"T_8a583_row156_col1\" class=\"data row156 col1\" >-724.706155</td>\n",
       "    </tr>\n",
       "    <tr>\n",
       "      <th id=\"T_8a583_level0_row157\" class=\"row_heading level0 row157\" >157</th>\n",
       "      <td id=\"T_8a583_row157_col0\" class=\"data row157 col0\" >1.000000</td>\n",
       "      <td id=\"T_8a583_row157_col1\" class=\"data row157 col1\" >1248.311788</td>\n",
       "    </tr>\n",
       "    <tr>\n",
       "      <th id=\"T_8a583_level0_row158\" class=\"row_heading level0 row158\" >158</th>\n",
       "      <td id=\"T_8a583_row158_col0\" class=\"data row158 col0\" >1.000000</td>\n",
       "      <td id=\"T_8a583_row158_col1\" class=\"data row158 col1\" >-381.328089</td>\n",
       "    </tr>\n",
       "    <tr>\n",
       "      <th id=\"T_8a583_level0_row159\" class=\"row_heading level0 row159\" >159</th>\n",
       "      <td id=\"T_8a583_row159_col0\" class=\"data row159 col0\" >1.000000</td>\n",
       "      <td id=\"T_8a583_row159_col1\" class=\"data row159 col1\" >-200.904160</td>\n",
       "    </tr>\n",
       "    <tr>\n",
       "      <th id=\"T_8a583_level0_row160\" class=\"row_heading level0 row160\" >160</th>\n",
       "      <td id=\"T_8a583_row160_col0\" class=\"data row160 col0\" >1.000000</td>\n",
       "      <td id=\"T_8a583_row160_col1\" class=\"data row160 col1\" >-735.405420</td>\n",
       "    </tr>\n",
       "    <tr>\n",
       "      <th id=\"T_8a583_level0_row161\" class=\"row_heading level0 row161\" >161</th>\n",
       "      <td id=\"T_8a583_row161_col0\" class=\"data row161 col0\" >1.000000</td>\n",
       "      <td id=\"T_8a583_row161_col1\" class=\"data row161 col1\" >1251.052887</td>\n",
       "    </tr>\n",
       "    <tr>\n",
       "      <th id=\"T_8a583_level0_row162\" class=\"row_heading level0 row162\" >162</th>\n",
       "      <td id=\"T_8a583_row162_col0\" class=\"data row162 col0\" >1.000000</td>\n",
       "      <td id=\"T_8a583_row162_col1\" class=\"data row162 col1\" >-842.038773</td>\n",
       "    </tr>\n",
       "    <tr>\n",
       "      <th id=\"T_8a583_level0_row163\" class=\"row_heading level0 row163\" >163</th>\n",
       "      <td id=\"T_8a583_row163_col0\" class=\"data row163 col0\" >1.000000</td>\n",
       "      <td id=\"T_8a583_row163_col1\" class=\"data row163 col1\" >228.646820</td>\n",
       "    </tr>\n",
       "    <tr>\n",
       "      <th id=\"T_8a583_level0_row164\" class=\"row_heading level0 row164\" >164</th>\n",
       "      <td id=\"T_8a583_row164_col0\" class=\"data row164 col0\" >1.000000</td>\n",
       "      <td id=\"T_8a583_row164_col1\" class=\"data row164 col1\" >-591.082108</td>\n",
       "    </tr>\n",
       "    <tr>\n",
       "      <th id=\"T_8a583_level0_row165\" class=\"row_heading level0 row165\" >165</th>\n",
       "      <td id=\"T_8a583_row165_col0\" class=\"data row165 col0\" >1.000000</td>\n",
       "      <td id=\"T_8a583_row165_col1\" class=\"data row165 col1\" >-902.251341</td>\n",
       "    </tr>\n",
       "    <tr>\n",
       "      <th id=\"T_8a583_level0_row166\" class=\"row_heading level0 row166\" >166</th>\n",
       "      <td id=\"T_8a583_row166_col0\" class=\"data row166 col0\" >1.000000</td>\n",
       "      <td id=\"T_8a583_row166_col1\" class=\"data row166 col1\" >-1941.908232</td>\n",
       "    </tr>\n",
       "    <tr>\n",
       "      <th id=\"T_8a583_level0_row167\" class=\"row_heading level0 row167\" >167</th>\n",
       "      <td id=\"T_8a583_row167_col0\" class=\"data row167 col0\" >1.000000</td>\n",
       "      <td id=\"T_8a583_row167_col1\" class=\"data row167 col1\" >306.129279</td>\n",
       "    </tr>\n",
       "    <tr>\n",
       "      <th id=\"T_8a583_level0_row168\" class=\"row_heading level0 row168\" >168</th>\n",
       "      <td id=\"T_8a583_row168_col0\" class=\"data row168 col0\" >1.000000</td>\n",
       "      <td id=\"T_8a583_row168_col1\" class=\"data row168 col1\" >-1203.567238</td>\n",
       "    </tr>\n",
       "    <tr>\n",
       "      <th id=\"T_8a583_level0_row169\" class=\"row_heading level0 row169\" >169</th>\n",
       "      <td id=\"T_8a583_row169_col0\" class=\"data row169 col0\" >1.000000</td>\n",
       "      <td id=\"T_8a583_row169_col1\" class=\"data row169 col1\" >200.782139</td>\n",
       "    </tr>\n",
       "    <tr>\n",
       "      <th id=\"T_8a583_level0_row170\" class=\"row_heading level0 row170\" >170</th>\n",
       "      <td id=\"T_8a583_row170_col0\" class=\"data row170 col0\" >1.000000</td>\n",
       "      <td id=\"T_8a583_row170_col1\" class=\"data row170 col1\" >1700.491075</td>\n",
       "    </tr>\n",
       "    <tr>\n",
       "      <th id=\"T_8a583_level0_row171\" class=\"row_heading level0 row171\" >171</th>\n",
       "      <td id=\"T_8a583_row171_col0\" class=\"data row171 col0\" >1.000000</td>\n",
       "      <td id=\"T_8a583_row171_col1\" class=\"data row171 col1\" >489.738888</td>\n",
       "    </tr>\n",
       "    <tr>\n",
       "      <th id=\"T_8a583_level0_row172\" class=\"row_heading level0 row172\" >172</th>\n",
       "      <td id=\"T_8a583_row172_col0\" class=\"data row172 col0\" >1.000000</td>\n",
       "      <td id=\"T_8a583_row172_col1\" class=\"data row172 col1\" >2188.310028</td>\n",
       "    </tr>\n",
       "    <tr>\n",
       "      <th id=\"T_8a583_level0_row173\" class=\"row_heading level0 row173\" >173</th>\n",
       "      <td id=\"T_8a583_row173_col0\" class=\"data row173 col0\" >1.000000</td>\n",
       "      <td id=\"T_8a583_row173_col1\" class=\"data row173 col1\" >507.485690</td>\n",
       "    </tr>\n",
       "    <tr>\n",
       "      <th id=\"T_8a583_level0_row174\" class=\"row_heading level0 row174\" >174</th>\n",
       "      <td id=\"T_8a583_row174_col0\" class=\"data row174 col0\" >1.000000</td>\n",
       "      <td id=\"T_8a583_row174_col1\" class=\"data row174 col1\" >387.556307</td>\n",
       "    </tr>\n",
       "    <tr>\n",
       "      <th id=\"T_8a583_level0_row175\" class=\"row_heading level0 row175\" >175</th>\n",
       "      <td id=\"T_8a583_row175_col0\" class=\"data row175 col0\" >1.000000</td>\n",
       "      <td id=\"T_8a583_row175_col1\" class=\"data row175 col1\" >-126.893956</td>\n",
       "    </tr>\n",
       "    <tr>\n",
       "      <th id=\"T_8a583_level0_row176\" class=\"row_heading level0 row176\" >176</th>\n",
       "      <td id=\"T_8a583_row176_col0\" class=\"data row176 col0\" >1.000000</td>\n",
       "      <td id=\"T_8a583_row176_col1\" class=\"data row176 col1\" >82.314500</td>\n",
       "    </tr>\n",
       "    <tr>\n",
       "      <th id=\"T_8a583_level0_row177\" class=\"row_heading level0 row177\" >177</th>\n",
       "      <td id=\"T_8a583_row177_col0\" class=\"data row177 col0\" >1.000000</td>\n",
       "      <td id=\"T_8a583_row177_col1\" class=\"data row177 col1\" >-897.337566</td>\n",
       "    </tr>\n",
       "    <tr>\n",
       "      <th id=\"T_8a583_level0_row178\" class=\"row_heading level0 row178\" >178</th>\n",
       "      <td id=\"T_8a583_row178_col0\" class=\"data row178 col0\" >1.000000</td>\n",
       "      <td id=\"T_8a583_row178_col1\" class=\"data row178 col1\" >989.190976</td>\n",
       "    </tr>\n",
       "    <tr>\n",
       "      <th id=\"T_8a583_level0_row179\" class=\"row_heading level0 row179\" >179</th>\n",
       "      <td id=\"T_8a583_row179_col0\" class=\"data row179 col0\" >1.000000</td>\n",
       "      <td id=\"T_8a583_row179_col1\" class=\"data row179 col1\" >549.768305</td>\n",
       "    </tr>\n",
       "    <tr>\n",
       "      <th id=\"T_8a583_level0_row180\" class=\"row_heading level0 row180\" >180</th>\n",
       "      <td id=\"T_8a583_row180_col0\" class=\"data row180 col0\" >1.000000</td>\n",
       "      <td id=\"T_8a583_row180_col1\" class=\"data row180 col1\" >-63.147458</td>\n",
       "    </tr>\n",
       "    <tr>\n",
       "      <th id=\"T_8a583_level0_row181\" class=\"row_heading level0 row181\" >181</th>\n",
       "      <td id=\"T_8a583_row181_col0\" class=\"data row181 col0\" >1.000000</td>\n",
       "      <td id=\"T_8a583_row181_col1\" class=\"data row181 col1\" >260.562145</td>\n",
       "    </tr>\n",
       "    <tr>\n",
       "      <th id=\"T_8a583_level0_row182\" class=\"row_heading level0 row182\" >182</th>\n",
       "      <td id=\"T_8a583_row182_col0\" class=\"data row182 col0\" >1.000000</td>\n",
       "      <td id=\"T_8a583_row182_col1\" class=\"data row182 col1\" >-256.731867</td>\n",
       "    </tr>\n",
       "    <tr>\n",
       "      <th id=\"T_8a583_level0_row183\" class=\"row_heading level0 row183\" >183</th>\n",
       "      <td id=\"T_8a583_row183_col0\" class=\"data row183 col0\" >1.000000</td>\n",
       "      <td id=\"T_8a583_row183_col1\" class=\"data row183 col1\" >-184.314906</td>\n",
       "    </tr>\n",
       "    <tr>\n",
       "      <th id=\"T_8a583_level0_row184\" class=\"row_heading level0 row184\" >184</th>\n",
       "      <td id=\"T_8a583_row184_col0\" class=\"data row184 col0\" >1.000000</td>\n",
       "      <td id=\"T_8a583_row184_col1\" class=\"data row184 col1\" >-1933.042610</td>\n",
       "    </tr>\n",
       "    <tr>\n",
       "      <th id=\"T_8a583_level0_row185\" class=\"row_heading level0 row185\" >185</th>\n",
       "      <td id=\"T_8a583_row185_col0\" class=\"data row185 col0\" >1.000000</td>\n",
       "      <td id=\"T_8a583_row185_col1\" class=\"data row185 col1\" >480.959141</td>\n",
       "    </tr>\n",
       "    <tr>\n",
       "      <th id=\"T_8a583_level0_row186\" class=\"row_heading level0 row186\" >186</th>\n",
       "      <td id=\"T_8a583_row186_col0\" class=\"data row186 col0\" >1.000000</td>\n",
       "      <td id=\"T_8a583_row186_col1\" class=\"data row186 col1\" >-919.920973</td>\n",
       "    </tr>\n",
       "    <tr>\n",
       "      <th id=\"T_8a583_level0_row187\" class=\"row_heading level0 row187\" >187</th>\n",
       "      <td id=\"T_8a583_row187_col0\" class=\"data row187 col0\" >1.000000</td>\n",
       "      <td id=\"T_8a583_row187_col1\" class=\"data row187 col1\" >-1189.780738</td>\n",
       "    </tr>\n",
       "    <tr>\n",
       "      <th id=\"T_8a583_level0_row188\" class=\"row_heading level0 row188\" >188</th>\n",
       "      <td id=\"T_8a583_row188_col0\" class=\"data row188 col0\" >1.000000</td>\n",
       "      <td id=\"T_8a583_row188_col1\" class=\"data row188 col1\" >74.331340</td>\n",
       "    </tr>\n",
       "    <tr>\n",
       "      <th id=\"T_8a583_level0_row189\" class=\"row_heading level0 row189\" >189</th>\n",
       "      <td id=\"T_8a583_row189_col0\" class=\"data row189 col0\" >1.000000</td>\n",
       "      <td id=\"T_8a583_row189_col1\" class=\"data row189 col1\" >19.650433</td>\n",
       "    </tr>\n",
       "    <tr>\n",
       "      <th id=\"T_8a583_level0_row190\" class=\"row_heading level0 row190\" >190</th>\n",
       "      <td id=\"T_8a583_row190_col0\" class=\"data row190 col0\" >1.000000</td>\n",
       "      <td id=\"T_8a583_row190_col1\" class=\"data row190 col1\" >-23.954297</td>\n",
       "    </tr>\n",
       "    <tr>\n",
       "      <th id=\"T_8a583_level0_row191\" class=\"row_heading level0 row191\" >191</th>\n",
       "      <td id=\"T_8a583_row191_col0\" class=\"data row191 col0\" >1.000000</td>\n",
       "      <td id=\"T_8a583_row191_col1\" class=\"data row191 col1\" >-646.737579</td>\n",
       "    </tr>\n",
       "    <tr>\n",
       "      <th id=\"T_8a583_level0_row192\" class=\"row_heading level0 row192\" >192</th>\n",
       "      <td id=\"T_8a583_row192_col0\" class=\"data row192 col0\" >1.000000</td>\n",
       "      <td id=\"T_8a583_row192_col1\" class=\"data row192 col1\" >1166.539059</td>\n",
       "    </tr>\n",
       "    <tr>\n",
       "      <th id=\"T_8a583_level0_row193\" class=\"row_heading level0 row193\" >193</th>\n",
       "      <td id=\"T_8a583_row193_col0\" class=\"data row193 col0\" >1.000000</td>\n",
       "      <td id=\"T_8a583_row193_col1\" class=\"data row193 col1\" >690.088263</td>\n",
       "    </tr>\n",
       "    <tr>\n",
       "      <th id=\"T_8a583_level0_row194\" class=\"row_heading level0 row194\" >194</th>\n",
       "      <td id=\"T_8a583_row194_col0\" class=\"data row194 col0\" >1.000000</td>\n",
       "      <td id=\"T_8a583_row194_col1\" class=\"data row194 col1\" >268.258341</td>\n",
       "    </tr>\n",
       "    <tr>\n",
       "      <th id=\"T_8a583_level0_row195\" class=\"row_heading level0 row195\" >195</th>\n",
       "      <td id=\"T_8a583_row195_col0\" class=\"data row195 col0\" >1.000000</td>\n",
       "      <td id=\"T_8a583_row195_col1\" class=\"data row195 col1\" >691.811802</td>\n",
       "    </tr>\n",
       "    <tr>\n",
       "      <th id=\"T_8a583_level0_row196\" class=\"row_heading level0 row196\" >196</th>\n",
       "      <td id=\"T_8a583_row196_col0\" class=\"data row196 col0\" >1.000000</td>\n",
       "      <td id=\"T_8a583_row196_col1\" class=\"data row196 col1\" >1236.600349</td>\n",
       "    </tr>\n",
       "    <tr>\n",
       "      <th id=\"T_8a583_level0_row197\" class=\"row_heading level0 row197\" >197</th>\n",
       "      <td id=\"T_8a583_row197_col0\" class=\"data row197 col0\" >1.000000</td>\n",
       "      <td id=\"T_8a583_row197_col1\" class=\"data row197 col1\" >-423.930662</td>\n",
       "    </tr>\n",
       "    <tr>\n",
       "      <th id=\"T_8a583_level0_row198\" class=\"row_heading level0 row198\" >198</th>\n",
       "      <td id=\"T_8a583_row198_col0\" class=\"data row198 col0\" >1.000000</td>\n",
       "      <td id=\"T_8a583_row198_col1\" class=\"data row198 col1\" >-1615.786085</td>\n",
       "    </tr>\n",
       "    <tr>\n",
       "      <th id=\"T_8a583_level0_row199\" class=\"row_heading level0 row199\" >199</th>\n",
       "      <td id=\"T_8a583_row199_col0\" class=\"data row199 col0\" >1.000000</td>\n",
       "      <td id=\"T_8a583_row199_col1\" class=\"data row199 col1\" >270.684837</td>\n",
       "    </tr>\n",
       "  </tbody>\n",
       "</table>\n"
      ],
      "text/plain": [
       "<pandas.io.formats.style.Styler at 0x7fad18f9d5b0>"
      ]
     },
     "execution_count": 102,
     "metadata": {},
     "output_type": "execute_result"
    }
   ],
   "source": [
    "comparing_solutions=np.zeros((n,2))\n",
    "comparing_solutions[:,0]=x_exact\n",
    "comparing_solutions[:,1]=x\n",
    "df=pd.DataFrame(comparing_solutions, columns=[\"Exact solution\", \"Numerical solution\"])\n",
    "df.style.set_caption(\"Comparison between the exact solution and the NumPy-solve's solution\")"
   ]
  },
  {
   "cell_type": "code",
   "execution_count": 112,
   "metadata": {},
   "outputs": [
    {
     "data": {
      "image/png": "[encoded data removed]",
      "text/plain": [
       "<Figure size 576x576 with 1 Axes>"
      ]
     },
     "metadata": {
      "needs_background": "light"
     },
     "output_type": "display_data"
    }
   ],
   "source": [
    "plt.figure(figsize=(8,8))\n",
    "plt.plot(x,'.',label='Numerical solution')\n",
    "plt.plot(x_exact,'r.', label='Exact solution')\n",
    "plt.grid(True)\n",
    "plt.xlabel('$i$')\n",
    "plt.legend(loc='best')\n",
    "plt.show()"
   ]
  },
  {
   "cell_type": "markdown",
   "metadata": {},
   "source": [
    "<div id='classnotesPaluExample' />\n",
    "\n",
    "### Motivation for PALU in classnotes example\n",
    "[Back to TOC](#toc)"
   ]
  },
  {
   "cell_type": "code",
   "execution_count": 60,
   "metadata": {},
   "outputs": [],
   "source": [
    "A=np.array([[1e-20, 1],[1,2]])"
   ]
  },
  {
   "cell_type": "code",
   "execution_count": 61,
   "metadata": {},
   "outputs": [
    {
     "name": "stdout",
     "output_type": "stream",
     "text": [
      "Initial matrices\n",
      "L = \n",
      "[[1. 0.]\n",
      " [0. 1.]]\n",
      "U = \n",
      "[[0. 1.]\n",
      " [1. 2.]]\n",
      "----------------------------------------\n",
      "L = \n",
      "[[1.e+00 0.e+00]\n",
      " [1.e+20 1.e+00]]\n",
      "U = \n",
      "[[ 1.e-20  1.e+00]\n",
      " [ 0.e+00 -1.e+20]]\n",
      "----------------------------------------\n"
     ]
    }
   ],
   "source": [
    "l,u=lu_decomp(A, show=True)"
   ]
  },
  {
   "cell_type": "code",
   "execution_count": 62,
   "metadata": {},
   "outputs": [
    {
     "data": {
      "text/plain": [
       "array([[1.e-20, 1.e+00],\n",
       "       [1.e+00, 0.e+00]])"
      ]
     },
     "execution_count": 62,
     "metadata": {},
     "output_type": "execute_result"
    }
   ],
   "source": [
    "np.dot(l,u)"
   ]
  },
  {
   "cell_type": "code",
   "execution_count": 63,
   "metadata": {},
   "outputs": [
    {
     "name": "stdout",
     "output_type": "stream",
     "text": [
      "Initial matrices\n",
      "P = \n",
      "[[1. 0.]\n",
      " [0. 1.]]\n",
      "L = \n",
      "[[1. 0.]\n",
      " [0. 1.]]\n",
      "U = \n",
      "[[0. 1.]\n",
      " [1. 2.]]\n",
      "----------------------------------------\n",
      "A permutation has been made\n",
      "P = \n",
      "[[0. 1.]\n",
      " [1. 0.]]\n",
      "L = \n",
      "[[1. 0.]\n",
      " [0. 1.]]\n",
      "U = \n",
      "[[1. 2.]\n",
      " [0. 1.]]\n",
      "----------------------------------------\n",
      "P = \n",
      "[[0. 1.]\n",
      " [1. 0.]]\n",
      "L = \n",
      "[[1. 0.]\n",
      " [0. 1.]]\n",
      "U = \n",
      "[[1. 2.]\n",
      " [0. 1.]]\n",
      "----------------------------------------\n"
     ]
    }
   ],
   "source": [
    "p,l,u=palu_decomp(A, show=True)"
   ]
  },
  {
   "cell_type": "markdown",
   "metadata": {},
   "source": [
    "<div id='iterativeMethodExample' />\n",
    "\n",
    "### Iterative Methods classnotes example\n",
    "[Back to TOC](#toc)"
   ]
  },
  {
   "cell_type": "code",
   "execution_count": 64,
   "metadata": {},
   "outputs": [],
   "source": [
    "A=np.array([[5.,4.],[1.,3.]])\n",
    "b=np.array([6.,-1.])\n",
    "np_sol = np.linalg.solve(A,b)"
   ]
  },
  {
   "cell_type": "code",
   "execution_count": 65,
   "metadata": {},
   "outputs": [],
   "source": [
    "jac_sol = jacobi(A, b, n_iter=50)\n",
    "jac_err = error(jac_sol, np_sol)"
   ]
  },
  {
   "cell_type": "code",
   "execution_count": 66,
   "metadata": {},
   "outputs": [],
   "source": [
    "gauss_seidel_sol = gauss_seidel(A, b, n_iter=50)\n",
    "gauss_seidel_err = error(gauss_seidel_sol, np_sol)"
   ]
  },
  {
   "cell_type": "code",
   "execution_count": 67,
   "metadata": {},
   "outputs": [],
   "source": [
    "sor_sol = sor(A, b, w=1.09310345, n_iter=50)\n",
    "sor_err = error(sor_sol, np_sol)"
   ]
  },
  {
   "cell_type": "code",
   "execution_count": 68,
   "metadata": {},
   "outputs": [
    {
     "data": {
      "image/png": "[encoded data removed]",
      "text/plain": [
       "<Figure size 864x432 with 1 Axes>"
      ]
     },
     "metadata": {
      "needs_background": "light"
     },
     "output_type": "display_data"
    }
   ],
   "source": [
    "plt.figure(figsize=(12,6))\n",
    "plt.semilogy(it, jac_err, marker='o', linestyle='--', color='b', label='Jacobi')\n",
    "plt.semilogy(it, gauss_seidel_err, marker='o', linestyle='--', color='r', label='Gauss-Seidel')\n",
    "plt.semilogy(it, sor_err, marker='o', linestyle='--', color='g', label='SOR')\n",
    "plt.grid(True)\n",
    "plt.xlabel('Iterations')\n",
    "plt.ylabel('Error')\n",
    "plt.title('Infinity norm error for all methods')\n",
    "plt.legend(loc=0)\n",
    "plt.show()"
   ]
  },
  {
   "cell_type": "code",
   "execution_count": 69,
   "metadata": {},
   "outputs": [
    {
     "data": {
      "text/html": [
       "<style type=\"text/css\">\n",
       "</style>\n",
       "<table id=\"T_6e662_\">\n",
       "  <caption>Log10 of error for each method indicated</caption>\n",
       "  <thead>\n",
       "    <tr>\n",
       "      <th class=\"blank level0\" >&nbsp;</th>\n",
       "      <th class=\"col_heading level0 col0\" >Jacobi</th>\n",
       "      <th class=\"col_heading level0 col1\" >Gauss-Seidel</th>\n",
       "      <th class=\"col_heading level0 col2\" >SOR($\\omega$)</th>\n",
       "    </tr>\n",
       "  </thead>\n",
       "  <tbody>\n",
       "    <tr>\n",
       "      <th id=\"T_6e662_level0_row0\" class=\"row_heading level0 row0\" >0</th>\n",
       "      <td id=\"T_6e662_row0_col0\" class=\"data row0 col0\" >0.301030</td>\n",
       "      <td id=\"T_6e662_row0_col1\" class=\"data row0 col1\" >0.301030</td>\n",
       "      <td id=\"T_6e662_row0_col2\" class=\"data row0 col2\" >0.301030</td>\n",
       "    </tr>\n",
       "    <tr>\n",
       "      <th id=\"T_6e662_level0_row1\" class=\"row_heading level0 row1\" >1</th>\n",
       "      <td id=\"T_6e662_row1_col0\" class=\"data row1 col0\" >-0.096910</td>\n",
       "      <td id=\"T_6e662_row1_col1\" class=\"data row1 col1\" >-0.096910</td>\n",
       "      <td id=\"T_6e662_row1_col2\" class=\"data row1 col2\" >-0.162237</td>\n",
       "    </tr>\n",
       "    <tr>\n",
       "      <th id=\"T_6e662_level0_row2\" class=\"row_heading level0 row2\" >2</th>\n",
       "      <td id=\"T_6e662_row2_col0\" class=\"data row2 col0\" >-0.273001</td>\n",
       "      <td id=\"T_6e662_row2_col1\" class=\"data row2 col1\" >-0.670941</td>\n",
       "      <td id=\"T_6e662_row2_col2\" class=\"data row2 col2\" >-1.131888</td>\n",
       "    </tr>\n",
       "    <tr>\n",
       "      <th id=\"T_6e662_level0_row3\" class=\"row_heading level0 row3\" >3</th>\n",
       "      <td id=\"T_6e662_row3_col0\" class=\"data row3 col0\" >-0.670941</td>\n",
       "      <td id=\"T_6e662_row3_col1\" class=\"data row3 col1\" >-1.244973</td>\n",
       "      <td id=\"T_6e662_row3_col2\" class=\"data row3 col2\" >-2.419283</td>\n",
       "    </tr>\n",
       "    <tr>\n",
       "      <th id=\"T_6e662_level0_row4\" class=\"row_heading level0 row4\" >4</th>\n",
       "      <td id=\"T_6e662_row4_col0\" class=\"data row4 col0\" >-0.847033</td>\n",
       "      <td id=\"T_6e662_row4_col1\" class=\"data row4 col1\" >-1.819004</td>\n",
       "      <td id=\"T_6e662_row4_col2\" class=\"data row4 col2\" >-3.868075</td>\n",
       "    </tr>\n",
       "    <tr>\n",
       "      <th id=\"T_6e662_level0_row5\" class=\"row_heading level0 row5\" >5</th>\n",
       "      <td id=\"T_6e662_row5_col0\" class=\"data row5 col0\" >-1.244973</td>\n",
       "      <td id=\"T_6e662_row5_col1\" class=\"data row5 col1\" >-2.393035</td>\n",
       "      <td id=\"T_6e662_row5_col2\" class=\"data row5 col2\" >-4.292827</td>\n",
       "    </tr>\n",
       "    <tr>\n",
       "      <th id=\"T_6e662_level0_row6\" class=\"row_heading level0 row6\" >6</th>\n",
       "      <td id=\"T_6e662_row6_col0\" class=\"data row6 col0\" >-1.421064</td>\n",
       "      <td id=\"T_6e662_row6_col1\" class=\"data row6 col1\" >-2.967066</td>\n",
       "      <td id=\"T_6e662_row6_col2\" class=\"data row6 col2\" >-5.253905</td>\n",
       "    </tr>\n",
       "    <tr>\n",
       "      <th id=\"T_6e662_level0_row7\" class=\"row_heading level0 row7\" >7</th>\n",
       "      <td id=\"T_6e662_row7_col0\" class=\"data row7 col0\" >-1.819004</td>\n",
       "      <td id=\"T_6e662_row7_col1\" class=\"data row7 col1\" >-3.541098</td>\n",
       "      <td id=\"T_6e662_row7_col2\" class=\"data row7 col2\" >-6.528202</td>\n",
       "    </tr>\n",
       "    <tr>\n",
       "      <th id=\"T_6e662_level0_row8\" class=\"row_heading level0 row8\" >8</th>\n",
       "      <td id=\"T_6e662_row8_col0\" class=\"data row8 col0\" >-1.995095</td>\n",
       "      <td id=\"T_6e662_row8_col1\" class=\"data row8 col1\" >-4.115129</td>\n",
       "      <td id=\"T_6e662_row8_col2\" class=\"data row8 col2\" >-8.042639</td>\n",
       "    </tr>\n",
       "    <tr>\n",
       "      <th id=\"T_6e662_level0_row9\" class=\"row_heading level0 row9\" >9</th>\n",
       "      <td id=\"T_6e662_row9_col0\" class=\"data row9 col0\" >-2.393035</td>\n",
       "      <td id=\"T_6e662_row9_col1\" class=\"data row9 col1\" >-4.689160</td>\n",
       "      <td id=\"T_6e662_row9_col2\" class=\"data row9 col2\" >-8.423748</td>\n",
       "    </tr>\n",
       "  </tbody>\n",
       "</table>\n"
      ],
      "text/plain": [
       "<pandas.io.formats.style.Styler at 0x7fad298958b0>"
      ]
     },
     "execution_count": 69,
     "metadata": {},
     "output_type": "execute_result"
    }
   ],
   "source": [
    "log10_errors=np.zeros((50,3))\n",
    "log10_errors[:,0]=jac_err\n",
    "log10_errors[:,1]=gauss_seidel_err\n",
    "log10_errors[:,2]=sor_err\n",
    "log10_errors=np.log10(log10_errors[:10,:])\n",
    "#np.shape(log10_errors)\n",
    "df=pd.DataFrame(log10_errors, columns=[\"Jacobi\", \"Gauss-Seidel\",\"SOR($\\omega$)\"])\n",
    "df.style.set_caption(\"Log10 of error for each method indicated\")"
   ]
  },
  {
   "cell_type": "markdown",
   "metadata": {},
   "source": [
    "<div id='ex' />\n",
    "\n",
    "## Exercises\n",
    "[Back to TOC](#toc)"
   ]
  },
  {
   "cell_type": "markdown",
   "metadata": {},
   "source": [
    "Now that you know how to solve systems of linear equations problem with these methods, let's try to answer a few questions!\n",
    "\n",
    "$a)$ Find the values of $\\alpha$ that make possible to do a LU descomposition of the following matrix:\n",
    "\n",
    "$$ \\begin{bmatrix}\n",
    "   \\alpha & 2  \\\\[0.3em]\n",
    "   1 & \\alpha  \\end{bmatrix} $$\n",
    "\n",
    "$b)$- Let $A$ be the following matrix:\n",
    "\n",
    "$$ A = \\begin{bmatrix}\n",
    "        2 &  4 &  2  \\\\[0.3em]\n",
    "       -1 &  1 &  2  \\\\[0.3em]\n",
    "       -1 & -3 & -1  \\end{bmatrix} $$ \n",
    "       \n",
    "   - Find the PALU descomposition of the matrix $A$.\n",
    "   \n",
    "   - Solve the system of equations $Ax = \\left[1 , \\frac{1}{2}, \\frac{1}{3}\\right]^T$.\n",
    "\n",
    "$c)$ Considering this matrix:\n",
    "\n",
    "$$  \\begin{bmatrix}\n",
    "    1 & 1 & 0  \\\\[0.3em]\n",
    "    1 & 5 & 2  \\\\[0.3em]\n",
    "    0 & 2 & 3  \\end{bmatrix} $$\n",
    "       \n",
    "   - Find the LU descomposition.\n",
    "    \n",
    "   - Find the Cholesky descomposition.\n",
    "    \n",
    "   - Compare the efficiency of both methods.\n",
    "\n",
    "$d)$ Use Jacobi, Gauss Seidel, and SOR to solve the following system of equations (number of iterations = 2):\n",
    "\n",
    "$$2x + y = 3$$\n",
    "$$x + 2y = 2$$\n",
    "\n",
    "   - Which is the best method to solve this problem (with better results)?\n",
    "\n",
    "$e)$ Explain the pros and cons of using iterative methods instead of the direct ones.\n",
    "\n"
   ]
  },
  {
   "cell_type": "markdown",
   "metadata": {},
   "source": [
    "<div id='acknowledgements' />\n",
    "\n",
    "# Acknowledgements\n",
    "[Back to TOC](#toc)\n",
    "* _Material created by professor Claudio Torres_ (`ctorres@inf.utfsm.cl`) _and assistants: Laura Bermeo, Alvaro Salinas, Axel Simonsen and Martín Villanueva. DI UTFSM. April 2016._\n",
    "* _Update May 2020 - v1.11 - C.Torres_ : Fixing formatting issues.\n",
    "* _Update May 2021 - v1.13 - C.Torres_ : Adding link to toc, formatting and addind the 'precision' parameter to lu_decomp, palu_decom, solve_lu, and solve_palu.\n",
    "* _Update May 2021 - v1.14 - C.Torres_ : Adding classnotes examples and changing 'precision' by 'print_precision' to avoid confusion. Notice that 'print_precision' only defines the number of decimals showed when printing certain outputs values.\n",
    "* _Update May 2021 - v1.15 - C.Torres_ : Modifying L in 'palu_decomp' so it shows 1's in the diagonal from the beginning in the computation.\n",
    "* _Update October 2021 - v1.16 - C.Torres_ : Moving pandas library import to the top cell.\n",
    "* _Update October 2021 - v1.17 - C.Torres_ : Improving Hilbert matrix example."
   ]
  },
  {
   "cell_type": "code",
   "execution_count": null,
   "metadata": {},
   "outputs": [],
   "source": []
  }
 ],
 "metadata": {
  "anaconda-cloud": {},
  "kernelspec": {
   "display_name": "Python 3 (ipykernel)",
   "language": "python",
   "name": "python3"
  },
  "language_info": {
   "codemirror_mode": {
    "name": "ipython",
    "version": 3
   },
   "file_extension": ".py",
   "mimetype": "text/x-python",
   "name": "python",
   "nbconvert_exporter": "python",
   "pygments_lexer": "ipython3",
   "version": "3.8.8"
  }
 },
 "nbformat": 4,
 "nbformat_minor": 1
}
